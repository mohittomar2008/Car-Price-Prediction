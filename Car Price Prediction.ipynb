{
 "cells": [
  {
   "cell_type": "code",
   "execution_count": 4,
   "id": "d03facea",
   "metadata": {},
   "outputs": [],
   "source": [
    "#!pip install selenium"
   ]
  },
  {
   "cell_type": "code",
   "execution_count": 146,
   "id": "48a5b141",
   "metadata": {},
   "outputs": [],
   "source": [
    "# import libraraies\n",
    "\n",
    "import selenium\n",
    "from selenium import webdriver\n",
    "import pandas as pd\n",
    "\n",
    "# Importing required Exceptions which needs to handled\n",
    "from selenium.common.exceptions import StaleElementReferenceException, NoSuchElementException\n",
    "\n",
    "#Importing requests\n",
    "import requests\n",
    "\n",
    "# importing regex\n",
    "import re\n",
    "\n",
    "import warnings\n",
    "warnings.filterwarnings('ignore')\n",
    "import time"
   ]
  },
  {
   "cell_type": "code",
   "execution_count": 147,
   "id": "0c702c96",
   "metadata": {},
   "outputs": [],
   "source": [
    "# lets connect to driver\n",
    "\n",
    "driver= webdriver.Chrome(r'C:\\Users\\Administrator\\Data Science\\WebScrapping\\chromedriver.exe')\n",
    "driver.maximize_window()\n",
    "\n",
    "url='https://www.olx.in/items/q-cars?isSearchCall=true'\n",
    "driver.get(url)"
   ]
  },
  {
   "cell_type": "code",
   "execution_count": 148,
   "id": "60460b52",
   "metadata": {},
   "outputs": [],
   "source": [
    "link= driver.find_elements_by_xpath('//li[@class=\"EIR5N\"]/a')"
   ]
  },
  {
   "cell_type": "code",
   "execution_count": 149,
   "id": "31d69684",
   "metadata": {},
   "outputs": [],
   "source": [
    "url=[]\n",
    "for i in link:\n",
    "    url.append(i.get_attribute('href'))\n",
    "    "
   ]
  },
  {
   "cell_type": "code",
   "execution_count": 150,
   "id": "2794ca76",
   "metadata": {},
   "outputs": [
    {
     "data": {
      "text/plain": [
       "500"
      ]
     },
     "execution_count": 150,
     "metadata": {},
     "output_type": "execute_result"
    }
   ],
   "source": [
    "len(url)"
   ]
  },
  {
   "cell_type": "code",
   "execution_count": 151,
   "id": "eb1e8a7e",
   "metadata": {},
   "outputs": [
    {
     "data": {
      "text/plain": [
       "(500, 500, 500, 500, 500, 500, 500, 500, 500)"
      ]
     },
     "execution_count": 151,
     "metadata": {},
     "output_type": "execute_result"
    }
   ],
   "source": [
    "name=[]\n",
    "manufacture=[]\n",
    "model=[]\n",
    "fuel=[]\n",
    "driven=[]\n",
    "automatic=[]\n",
    "owner=[]\n",
    "location=[]\n",
    "postingdate=[]\n",
    "price=[]\n",
    "\n",
    "\n",
    "for i in url:\n",
    "    driver.get(i)\n",
    "    time.sleep(2)\n",
    "    try:\n",
    "        title= driver.find_element_by_class_name('_35xN1')\n",
    "        name.append(title.text.split('(')[0])\n",
    "        \n",
    "    except NoSuchElementException:\n",
    "        name.append('-')\n",
    "        \n",
    "    try:\n",
    "        title= driver.find_element_by_class_name('_35xN1')\n",
    "        manufacture.append(title.text.split('(')[1].replace(')',''))\n",
    "    except NoSuchElementException:\n",
    "        manufacture.append('-')\n",
    "        \n",
    "      \n",
    "    try:\n",
    "        Model=driver.find_element_by_class_name('_3tLee')\n",
    "        model.append(Model.text)\n",
    "    except NoSuchElementException:\n",
    "        model.append('-')\n",
    "    try:\n",
    "        tab=driver.find_element_by_class_name('aOxkz')\n",
    "        fuel.append(tab.text.split('\\n')[0])\n",
    "    except NoSuchElementException:\n",
    "        fuel.append('-')\n",
    "    try:\n",
    "        tab=driver.find_element_by_class_name('aOxkz')\n",
    "        driven.append(tab.text.split('\\n')[1])\n",
    "    except NoSuchElementException:\n",
    "        driven.append('-')\n",
    "    try:\n",
    "        tab=driver.find_element_by_class_name('aOxkz')\n",
    "        automatic.append(tab.text.split('\\n')[2])\n",
    "    except NoSuchElementException:\n",
    "        automatic.append('-')\n",
    "        \n",
    "    try:\n",
    "        Owner=driver.find_element_by_xpath('//div[@class=\"_1l939\"]/div[1]/div[2]/div[2]')\n",
    "        owner.append(Owner.text)\n",
    "    except NoSuchElementException:\n",
    "        owner.append('-')\n",
    "        \n",
    "    try:\n",
    "        Location=driver.find_element_by_xpath('//div[@class=\"_1l939\"]/div[2]/div[2]/div[2]')\n",
    "        location.append(Location.text)\n",
    "    except NoSuchElementException:\n",
    "        location.append('-')\n",
    "    try:\n",
    "        Posting=driver.find_element_by_xpath('//div[@class=\"_1l939\"]/div[3]/div[2]/div[2]')\n",
    "        postingdate.append(Posting.text)\n",
    "    except NoSuchElementException:\n",
    "        postingdate.append('-')\n",
    "        \n",
    "    try:\n",
    "        Price=driver.find_element_by_class_name('_3FkyT')\n",
    "        price.append(Price.text)\n",
    "    except NoSuchElementException:\n",
    "        price.append('-')\n",
    "        \n",
    "        \n",
    "        \n",
    "        \n",
    "        \n",
    "        \n",
    "len(name) , len(model), len(fuel),len(driven),len(automatic) ,len(owner),len(location),len(postingdate),len(price)\n",
    "        \n"
   ]
  },
  {
   "cell_type": "code",
   "execution_count": 142,
   "id": "0f60853e",
   "metadata": {},
   "outputs": [
    {
     "data": {
      "text/plain": [
       "20"
      ]
     },
     "execution_count": 142,
     "metadata": {},
     "output_type": "execute_result"
    }
   ],
   "source": [
    "len(manufacture)\n"
   ]
  },
  {
   "cell_type": "code",
   "execution_count": 154,
   "id": "0d2558f3",
   "metadata": {},
   "outputs": [],
   "source": [
    "df=pd.DataFrame({'Name': name,'Manufacture':manufacture,'Model':model,'Fuel':fuel,'Driven':driven,'Automatic':automatic,'Owner':owner,'Location':location,'Posting Date':postingdate,'Price':price})"
   ]
  },
  {
   "cell_type": "code",
   "execution_count": 153,
   "id": "2d4d8f46",
   "metadata": {},
   "outputs": [],
   "source": [
    "# create excel file\n",
    "file_name = 'olx.xlsx'"
   ]
  },
  {
   "cell_type": "code",
   "execution_count": 155,
   "id": "0165d048",
   "metadata": {},
   "outputs": [
    {
     "name": "stdout",
     "output_type": "stream",
     "text": [
      "DataFrame is written to Excel File successfully.\n"
     ]
    }
   ],
   "source": [
    "# save data to excel\n",
    "\n",
    "df.to_excel(file_name)\n",
    "print('DataFrame is written to Excel File successfully.')"
   ]
  },
  {
   "cell_type": "code",
   "execution_count": null,
   "id": "492e86a5",
   "metadata": {},
   "outputs": [],
   "source": []
  },
  {
   "cell_type": "code",
   "execution_count": 115,
   "id": "bee9cda7",
   "metadata": {},
   "outputs": [
    {
     "data": {
      "text/plain": [
       "'₹ 2,98,999'"
      ]
     },
     "execution_count": 115,
     "metadata": {},
     "output_type": "execute_result"
    }
   ],
   "source": [
    "# details one by one\n",
    "\n",
    "driver.get('https://www.olx.in/item/maruti-suzuki-swift-ldi-2014-diesel-iid-1685939081')\n",
    "title= driver.find_element_by_class_name('_3FkyT')\n",
    "title.text\n",
    "    "
   ]
  },
  {
   "cell_type": "code",
   "execution_count": null,
   "id": "e5230d42",
   "metadata": {},
   "outputs": [],
   "source": []
  },
  {
   "cell_type": "markdown",
   "id": "8f319434",
   "metadata": {},
   "source": [
    "# Car Dekho"
   ]
  },
  {
   "cell_type": "code",
   "execution_count": 243,
   "id": "7305062c",
   "metadata": {},
   "outputs": [],
   "source": [
    "# lets connect to driver\n",
    "\n",
    "driver= webdriver.Chrome(r'C:\\Users\\Administrator\\Data Science\\WebScrapping\\chromedriver.exe')\n",
    "driver.maximize_window()\n",
    "\n",
    "url='https://www.cardekho.com/used-cars+in+new-delhi'\n",
    "driver.get(url)"
   ]
  },
  {
   "cell_type": "code",
   "execution_count": 244,
   "id": "db8445e9",
   "metadata": {},
   "outputs": [],
   "source": [
    "link= driver.find_elements_by_xpath('//div[@class=\" gsc_row minheight\"]/div/a')"
   ]
  },
  {
   "cell_type": "code",
   "execution_count": 245,
   "id": "2fed7ac8",
   "metadata": {},
   "outputs": [],
   "source": [
    "url=[]\n",
    "for i in link:\n",
    "    url.append(i.get_attribute('href'))\n",
    "    "
   ]
  },
  {
   "cell_type": "code",
   "execution_count": 246,
   "id": "d314b61e",
   "metadata": {},
   "outputs": [
    {
     "data": {
      "text/plain": [
       "260"
      ]
     },
     "execution_count": 246,
     "metadata": {},
     "output_type": "execute_result"
    }
   ],
   "source": [
    "len(url)"
   ]
  },
  {
   "cell_type": "code",
   "execution_count": 247,
   "id": "6abd446b",
   "metadata": {},
   "outputs": [
    {
     "data": {
      "text/plain": [
       "(260, 260, 260, 260, 260, 260, 260, 260, 260)"
      ]
     },
     "execution_count": 247,
     "metadata": {},
     "output_type": "execute_result"
    }
   ],
   "source": [
    "name=[]\n",
    "manufacture=[]\n",
    "model=[]\n",
    "fuel=[]\n",
    "driven=[]\n",
    "automatic=[]\n",
    "owner=[]\n",
    "location=[]\n",
    "postingdate=[]\n",
    "price=[]\n",
    "\n",
    "\n",
    "for i in url:\n",
    "    driver.get(i)\n",
    "    time.sleep(2)\n",
    "    # Name\n",
    "    try:\n",
    "        title= driver.find_element_by_xpath('//div[@class=\"paddingBorder clearfix\"]/div/h1')\n",
    "        name.append(title.text.split(' ',1)[1])\n",
    "        \n",
    "    except NoSuchElementException:\n",
    "        name.append('-')\n",
    "        \n",
    "    # Manufacture year \n",
    "    try:\n",
    "        title= driver.find_element_by_xpath('//div[@class=\"paddingBorder clearfix\"]/div/h1')\n",
    "        manufacture.append(title.text.split(' ',1)[0])\n",
    "    except NoSuchElementException:\n",
    "        manufacture.append('-')\n",
    "        \n",
    "    # Model\n",
    "    try:\n",
    "        Model=driver.find_element_by_xpath('//div[@class=\"paddingBorder clearfix\"]/div')\n",
    "        model.append(Model.text.split('\\n')[1])\n",
    "    except NoSuchElementException:\n",
    "        model.append('-')\n",
    "       \n",
    "    # Fuel Type\n",
    "    try:\n",
    "        tab=driver.find_element_by_xpath('//ul[@class=\"gsc_row detailsList\"]/li[3]')\n",
    "        fuel.append(tab.text.split('\\n')[1])\n",
    "    except NoSuchElementException:\n",
    "        fuel.append('-')\n",
    "        \n",
    "    # KM Driven\n",
    "    try:\n",
    "        tab=driver.find_element_by_xpath('//ul[@class=\"gsc_row detailsList\"]/li[4]')\n",
    "        driven.append(tab.text.split('\\n')[1])\n",
    "    except NoSuchElementException:\n",
    "        driven.append('-')\n",
    "        \n",
    "    # Automatic/ Manual\n",
    "    try:\n",
    "        tab=driver.find_element_by_xpath('//ul[@class=\"gsc_row detailsList\"]/li[8]')\n",
    "        automatic.append(tab.text.split('\\n')[1])\n",
    "    except NoSuchElementException:\n",
    "        automatic.append('-')\n",
    "      \n",
    "    # Owner count\n",
    "    try:\n",
    "        Owner=driver.find_element_by_xpath('//ul[@class=\"gsc_row detailsList\"]/li[6]')\n",
    "        owner.append(Owner.text.split('\\n')[1])\n",
    "    except NoSuchElementException:\n",
    "        owner.append('-')\n",
    "      \n",
    "    # Location\n",
    "    try:\n",
    "        Location=driver.find_element_by_xpath('//ul[@class=\"gsc_row detailsList\"]/li[7]')\n",
    "        location.append(Location.text.split('\\n')[1])\n",
    "    except NoSuchElementException:\n",
    "        location.append('-')\n",
    "        \n",
    "    # Posting\n",
    "    try:\n",
    "        Posting=driver.find_element_by_xpath('//div[@class=\"_1l939\"]/div[3]/div[2]/div[2]')\n",
    "        postingdate.append(Posting.text)\n",
    "    except NoSuchElementException:\n",
    "        postingdate.append('-')\n",
    "        \n",
    "    # Price\n",
    "    try:\n",
    "        Price=driver.find_element_by_xpath('//div[@class=\"paddingBorder clearfix\"]/div[2]/div/div')\n",
    "        price.append(Price.text.split('\\n')[0])\n",
    "    except NoSuchElementException:\n",
    "        price.append('-')\n",
    "        \n",
    "        \n",
    "        \n",
    "        \n",
    "        \n",
    "        \n",
    "len(name) , len(model), len(fuel),len(driven),len(automatic) ,len(owner),len(location),len(postingdate),len(price)\n",
    "        \n"
   ]
  },
  {
   "cell_type": "code",
   "execution_count": 248,
   "id": "c3c634ca",
   "metadata": {},
   "outputs": [],
   "source": [
    "data=pd.DataFrame({'Name': name,'Manufacture':manufacture,'Model':model,'Fuel':fuel,'Driven':driven,'Automatic':automatic,'Owner':owner,'Location':location,'Posting Date':postingdate,'Price':price})"
   ]
  },
  {
   "cell_type": "code",
   "execution_count": 249,
   "id": "d0f4cb3d",
   "metadata": {},
   "outputs": [
    {
     "data": {
      "text/html": [
       "<div>\n",
       "<style scoped>\n",
       "    .dataframe tbody tr th:only-of-type {\n",
       "        vertical-align: middle;\n",
       "    }\n",
       "\n",
       "    .dataframe tbody tr th {\n",
       "        vertical-align: top;\n",
       "    }\n",
       "\n",
       "    .dataframe thead th {\n",
       "        text-align: right;\n",
       "    }\n",
       "</style>\n",
       "<table border=\"1\" class=\"dataframe\">\n",
       "  <thead>\n",
       "    <tr style=\"text-align: right;\">\n",
       "      <th></th>\n",
       "      <th>Name</th>\n",
       "      <th>Manufacture</th>\n",
       "      <th>Model</th>\n",
       "      <th>Fuel</th>\n",
       "      <th>Driven</th>\n",
       "      <th>Automatic</th>\n",
       "      <th>Owner</th>\n",
       "      <th>Location</th>\n",
       "      <th>Posting Date</th>\n",
       "      <th>Price</th>\n",
       "    </tr>\n",
       "  </thead>\n",
       "  <tbody>\n",
       "    <tr>\n",
       "      <th>0</th>\n",
       "      <td>Maruti Swift</td>\n",
       "      <td>2015</td>\n",
       "      <td>VVT VXI</td>\n",
       "      <td>Petrol</td>\n",
       "      <td>43,832 Kms</td>\n",
       "      <td>Manual</td>\n",
       "      <td>1st Owner</td>\n",
       "      <td>DL2C</td>\n",
       "      <td>-</td>\n",
       "      <td>₹ 4,45,000</td>\n",
       "    </tr>\n",
       "    <tr>\n",
       "      <th>1</th>\n",
       "      <td>Maruti Alto 800</td>\n",
       "      <td>2015</td>\n",
       "      <td>VXI</td>\n",
       "      <td>Petrol</td>\n",
       "      <td>59,500 Kms</td>\n",
       "      <td>Manual</td>\n",
       "      <td>1st Owner</td>\n",
       "      <td>HR72</td>\n",
       "      <td>-</td>\n",
       "      <td>₹ 2,85,000</td>\n",
       "    </tr>\n",
       "    <tr>\n",
       "      <th>2</th>\n",
       "      <td>Maruti Ciaz</td>\n",
       "      <td>2018</td>\n",
       "      <td>1.4 Sigma</td>\n",
       "      <td>Petrol</td>\n",
       "      <td>19,880 Kms</td>\n",
       "      <td>Manual</td>\n",
       "      <td>1st Owner</td>\n",
       "      <td>DL9C</td>\n",
       "      <td>-</td>\n",
       "      <td>₹ 7,80,000</td>\n",
       "    </tr>\n",
       "    <tr>\n",
       "      <th>3</th>\n",
       "      <td>Hyundai i10</td>\n",
       "      <td>2014</td>\n",
       "      <td>Sportz 1.1L</td>\n",
       "      <td>Petrol</td>\n",
       "      <td>33,764 Kms</td>\n",
       "      <td>Manual</td>\n",
       "      <td>2nd Owner</td>\n",
       "      <td>HR03</td>\n",
       "      <td>-</td>\n",
       "      <td>₹ 3,23,000</td>\n",
       "    </tr>\n",
       "    <tr>\n",
       "      <th>4</th>\n",
       "      <td>Renault Kiger</td>\n",
       "      <td>2021</td>\n",
       "      <td>RXT AMT</td>\n",
       "      <td>Petrol</td>\n",
       "      <td>5,799 Kms</td>\n",
       "      <td>Automatic</td>\n",
       "      <td>1st Owner</td>\n",
       "      <td>DL3C</td>\n",
       "      <td>-</td>\n",
       "      <td>₹ 8,02,000</td>\n",
       "    </tr>\n",
       "    <tr>\n",
       "      <th>...</th>\n",
       "      <td>...</td>\n",
       "      <td>...</td>\n",
       "      <td>...</td>\n",
       "      <td>...</td>\n",
       "      <td>...</td>\n",
       "      <td>...</td>\n",
       "      <td>...</td>\n",
       "      <td>...</td>\n",
       "      <td>...</td>\n",
       "      <td>...</td>\n",
       "    </tr>\n",
       "    <tr>\n",
       "      <th>255</th>\n",
       "      <td>Renault Triber</td>\n",
       "      <td>2019</td>\n",
       "      <td>RXT BSIV</td>\n",
       "      <td>Petrol</td>\n",
       "      <td>12,609 Kms</td>\n",
       "      <td>Manual</td>\n",
       "      <td>1st Owner</td>\n",
       "      <td>HR51</td>\n",
       "      <td>-</td>\n",
       "      <td>₹ 5,45,000</td>\n",
       "    </tr>\n",
       "    <tr>\n",
       "      <th>256</th>\n",
       "      <td>Maruti Baleno</td>\n",
       "      <td>2019</td>\n",
       "      <td>Delta</td>\n",
       "      <td>Petrol</td>\n",
       "      <td>19,282 Kms</td>\n",
       "      <td>Manual</td>\n",
       "      <td>1st Owner</td>\n",
       "      <td>HR26</td>\n",
       "      <td>-</td>\n",
       "      <td>₹ 5,99,000</td>\n",
       "    </tr>\n",
       "    <tr>\n",
       "      <th>257</th>\n",
       "      <td>Maruti Ciaz</td>\n",
       "      <td>2014</td>\n",
       "      <td>ZDi Option</td>\n",
       "      <td>Diesel</td>\n",
       "      <td>65,952 Kms</td>\n",
       "      <td>Manual</td>\n",
       "      <td>2nd Owner</td>\n",
       "      <td>DL1C</td>\n",
       "      <td>-</td>\n",
       "      <td>₹ 4,63,000</td>\n",
       "    </tr>\n",
       "    <tr>\n",
       "      <th>258</th>\n",
       "      <td>Maruti Swift</td>\n",
       "      <td>2014</td>\n",
       "      <td>VDI</td>\n",
       "      <td>Diesel</td>\n",
       "      <td>1,17,915 Kms</td>\n",
       "      <td>Manual</td>\n",
       "      <td>1st Owner</td>\n",
       "      <td>DL2C</td>\n",
       "      <td>-</td>\n",
       "      <td>₹ 3,26,000</td>\n",
       "    </tr>\n",
       "    <tr>\n",
       "      <th>259</th>\n",
       "      <td>Toyota Corolla Altis</td>\n",
       "      <td>2018</td>\n",
       "      <td>1.8 VL CVT</td>\n",
       "      <td>Petrol</td>\n",
       "      <td>63,366 Kms</td>\n",
       "      <td>Automatic</td>\n",
       "      <td>1st Owner</td>\n",
       "      <td>DL1C</td>\n",
       "      <td>-</td>\n",
       "      <td>₹ 14,57,000</td>\n",
       "    </tr>\n",
       "  </tbody>\n",
       "</table>\n",
       "<p>260 rows × 10 columns</p>\n",
       "</div>"
      ],
      "text/plain": [
       "                     Name Manufacture        Model    Fuel        Driven  \\\n",
       "0            Maruti Swift        2015      VVT VXI  Petrol    43,832 Kms   \n",
       "1         Maruti Alto 800        2015          VXI  Petrol    59,500 Kms   \n",
       "2             Maruti Ciaz        2018    1.4 Sigma  Petrol    19,880 Kms   \n",
       "3             Hyundai i10        2014  Sportz 1.1L  Petrol    33,764 Kms   \n",
       "4           Renault Kiger        2021      RXT AMT  Petrol     5,799 Kms   \n",
       "..                    ...         ...          ...     ...           ...   \n",
       "255        Renault Triber        2019     RXT BSIV  Petrol    12,609 Kms   \n",
       "256         Maruti Baleno        2019        Delta  Petrol    19,282 Kms   \n",
       "257           Maruti Ciaz        2014   ZDi Option  Diesel    65,952 Kms   \n",
       "258          Maruti Swift        2014          VDI  Diesel  1,17,915 Kms   \n",
       "259  Toyota Corolla Altis        2018   1.8 VL CVT  Petrol    63,366 Kms   \n",
       "\n",
       "     Automatic      Owner Location Posting Date        Price  \n",
       "0       Manual  1st Owner     DL2C            -   ₹ 4,45,000  \n",
       "1       Manual  1st Owner     HR72            -   ₹ 2,85,000  \n",
       "2       Manual  1st Owner     DL9C            -   ₹ 7,80,000  \n",
       "3       Manual  2nd Owner     HR03            -   ₹ 3,23,000  \n",
       "4    Automatic  1st Owner     DL3C            -   ₹ 8,02,000  \n",
       "..         ...        ...      ...          ...          ...  \n",
       "255     Manual  1st Owner     HR51            -   ₹ 5,45,000  \n",
       "256     Manual  1st Owner     HR26            -   ₹ 5,99,000  \n",
       "257     Manual  2nd Owner     DL1C            -   ₹ 4,63,000  \n",
       "258     Manual  1st Owner     DL2C            -   ₹ 3,26,000  \n",
       "259  Automatic  1st Owner     DL1C            -  ₹ 14,57,000  \n",
       "\n",
       "[260 rows x 10 columns]"
      ]
     },
     "execution_count": 249,
     "metadata": {},
     "output_type": "execute_result"
    }
   ],
   "source": [
    "data"
   ]
  },
  {
   "cell_type": "code",
   "execution_count": 250,
   "id": "5a1250f4",
   "metadata": {},
   "outputs": [],
   "source": [
    "# create excel file\n",
    "file = 'cardekho.xlsx'"
   ]
  },
  {
   "cell_type": "code",
   "execution_count": 251,
   "id": "9e7c2fb2",
   "metadata": {},
   "outputs": [
    {
     "name": "stdout",
     "output_type": "stream",
     "text": [
      "DataFrame is written to Excel File successfully.\n"
     ]
    }
   ],
   "source": [
    "# save data to excel\n",
    "\n",
    "df.to_excel(file)\n",
    "print('DataFrame is written to Excel File successfully.')"
   ]
  },
  {
   "cell_type": "code",
   "execution_count": null,
   "id": "8bea15b4",
   "metadata": {},
   "outputs": [],
   "source": []
  },
  {
   "cell_type": "code",
   "execution_count": 223,
   "id": "981b6251",
   "metadata": {},
   "outputs": [],
   "source": [
    "# details one by one\n",
    "\n",
    "driver= webdriver.Chrome(r'C:\\Users\\Administrator\\Data Science\\WebScrapping\\chromedriver.exe')\n",
    "driver.get('https://www.cardekho.com/buy-used-car-details/used-Maruti-Baleno-1.2-Alpha-cars-New-Delhi_785fa298-10bb-4099-b6ec-6def9c8a1a6d.htm')\n",
    "\n",
    "    "
   ]
  },
  {
   "cell_type": "code",
   "execution_count": 226,
   "id": "401b5bc5",
   "metadata": {},
   "outputs": [
    {
     "data": {
      "text/plain": [
       "'Petrol'"
      ]
     },
     "execution_count": 226,
     "metadata": {},
     "output_type": "execute_result"
    }
   ],
   "source": [
    "title= driver.find_element_by_xpath('//ul[@class=\"gsc_row detailsList\"]/li[3]')\n",
    "title.text.split('\\n')[1]"
   ]
  },
  {
   "cell_type": "code",
   "execution_count": null,
   "id": "a6f60b7a",
   "metadata": {},
   "outputs": [],
   "source": []
  }
 ],
 "metadata": {
  "kernelspec": {
   "display_name": "Python 3",
   "language": "python",
   "name": "python3"
  },
  "language_info": {
   "codemirror_mode": {
    "name": "ipython",
    "version": 3
   },
   "file_extension": ".py",
   "mimetype": "text/x-python",
   "name": "python",
   "nbconvert_exporter": "python",
   "pygments_lexer": "ipython3",
   "version": "3.8.8"
  }
 },
 "nbformat": 4,
 "nbformat_minor": 5
}
