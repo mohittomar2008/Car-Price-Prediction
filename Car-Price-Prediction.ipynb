{
 "cells": [
  {
   "cell_type": "code",
   "execution_count": 449,
   "id": "e3f5b6d2",
   "metadata": {},
   "outputs": [],
   "source": [
    "import pandas as pd\n",
    "import numpy as np\n",
    "import seaborn as sns\n",
    "import matplotlib.pyplot as plt\n",
    "%matplotlib inline\n",
    "\n",
    "import warnings\n",
    "warnings.filterwarnings('ignore')"
   ]
  },
  {
   "cell_type": "code",
   "execution_count": 450,
   "id": "f1e28e93",
   "metadata": {},
   "outputs": [],
   "source": [
    "d1=pd.read_excel('car24.xlsx', index_col=0)\n",
    "d2=pd.read_excel('cardekho.xlsx', index_col=0)\n",
    "d3=pd.read_excel('cardekho_agra.xlsx', index_col=0)\n",
    "d4=pd.read_excel('cardekho_ahmedabad.xlsx', index_col=0)\n",
    "d5=pd.read_excel('cardekho_bangalore.xlsx', index_col=0)\n",
    "d6=pd.read_excel('cardekho_chennai.xlsx', index_col=0)\n",
    "d7=pd.read_excel('cardekho_ghz.xlsx', index_col=0)\n",
    "d8=pd.read_excel('cardekho_kolkata.xlsx', index_col=0)\n",
    "d9=pd.read_excel('cardekho1.xlsx', index_col=0)\n",
    "d10=pd.read_excel('cardekho2.xlsx', index_col=0)"
   ]
  },
  {
   "cell_type": "code",
   "execution_count": 451,
   "id": "f17b4a5c",
   "metadata": {},
   "outputs": [
    {
     "data": {
      "text/plain": [
       "Index(['Name', 'Manufacture', 'Model', 'Fuel', 'Driven', 'Automatic', 'Owner',\n",
       "       'Location', 'Posting Date', 'Price'],\n",
       "      dtype='object')"
      ]
     },
     "execution_count": 451,
     "metadata": {},
     "output_type": "execute_result"
    }
   ],
   "source": [
    "d1.columns"
   ]
  },
  {
   "cell_type": "code",
   "execution_count": 452,
   "id": "5b1f65ff",
   "metadata": {},
   "outputs": [],
   "source": [
    "d1.drop('Posting Date',axis=1,inplace=True)"
   ]
  },
  {
   "cell_type": "code",
   "execution_count": 453,
   "id": "00b7f0f6",
   "metadata": {},
   "outputs": [],
   "source": [
    "d2.drop('Posting Date',axis=1,inplace=True)"
   ]
  },
  {
   "cell_type": "code",
   "execution_count": 454,
   "id": "bd084c99",
   "metadata": {},
   "outputs": [
    {
     "data": {
      "text/plain": [
       "((60, 9),\n",
       " (500, 9),\n",
       " (43, 9),\n",
       " (198, 9),\n",
       " (269, 9),\n",
       " (66, 9),\n",
       " (226, 9),\n",
       " (115, 9),\n",
       " (340, 9),\n",
       " (652, 9))"
      ]
     },
     "execution_count": 454,
     "metadata": {},
     "output_type": "execute_result"
    }
   ],
   "source": [
    "d1.shape ,d2.shape ,d3.shape ,d4.shape ,d5.shape ,d6.shape ,d7.shape ,d8.shape ,d9.shape ,d10.shape"
   ]
  },
  {
   "cell_type": "code",
   "execution_count": 455,
   "id": "fc3347a6",
   "metadata": {},
   "outputs": [
    {
     "data": {
      "text/plain": [
       "2469"
      ]
     },
     "execution_count": 455,
     "metadata": {},
     "output_type": "execute_result"
    }
   ],
   "source": [
    "60+500+43+198+269+66+226+115+340+652\n"
   ]
  },
  {
   "cell_type": "code",
   "execution_count": 456,
   "id": "0cc3cdbb",
   "metadata": {},
   "outputs": [
    {
     "data": {
      "text/plain": [
       "Name            0\n",
       "Manufacture     0\n",
       "Model          20\n",
       "Fuel            0\n",
       "Driven          0\n",
       "Automatic       0\n",
       "Owner           0\n",
       "Location        0\n",
       "Price           0\n",
       "dtype: int64"
      ]
     },
     "execution_count": 456,
     "metadata": {},
     "output_type": "execute_result"
    }
   ],
   "source": [
    "d2.isnull().sum()"
   ]
  },
  {
   "cell_type": "code",
   "execution_count": 457,
   "id": "679931a3",
   "metadata": {},
   "outputs": [],
   "source": [
    "d2.replace('-',np.nan, inplace=True)"
   ]
  },
  {
   "cell_type": "code",
   "execution_count": 458,
   "id": "e2be06c0",
   "metadata": {},
   "outputs": [
    {
     "data": {
      "text/plain": [
       "Name           40\n",
       "Manufacture    40\n",
       "Model          60\n",
       "Fuel           40\n",
       "Driven         40\n",
       "Automatic      40\n",
       "Owner          40\n",
       "Location       40\n",
       "Price          40\n",
       "dtype: int64"
      ]
     },
     "execution_count": 458,
     "metadata": {},
     "output_type": "execute_result"
    }
   ],
   "source": [
    "d2.isnull().sum()"
   ]
  },
  {
   "cell_type": "code",
   "execution_count": 459,
   "id": "10b3ab4d",
   "metadata": {},
   "outputs": [],
   "source": [
    "d2.dropna(inplace=True)"
   ]
  },
  {
   "cell_type": "code",
   "execution_count": 460,
   "id": "c1093688",
   "metadata": {},
   "outputs": [
    {
     "data": {
      "text/html": [
       "<div>\n",
       "<style scoped>\n",
       "    .dataframe tbody tr th:only-of-type {\n",
       "        vertical-align: middle;\n",
       "    }\n",
       "\n",
       "    .dataframe tbody tr th {\n",
       "        vertical-align: top;\n",
       "    }\n",
       "\n",
       "    .dataframe thead th {\n",
       "        text-align: right;\n",
       "    }\n",
       "</style>\n",
       "<table border=\"1\" class=\"dataframe\">\n",
       "  <thead>\n",
       "    <tr style=\"text-align: right;\">\n",
       "      <th></th>\n",
       "      <th>Name</th>\n",
       "      <th>Manufacture</th>\n",
       "      <th>Model</th>\n",
       "      <th>Fuel</th>\n",
       "      <th>Driven</th>\n",
       "      <th>Automatic</th>\n",
       "      <th>Owner</th>\n",
       "      <th>Location</th>\n",
       "      <th>Price</th>\n",
       "    </tr>\n",
       "  </thead>\n",
       "  <tbody>\n",
       "    <tr>\n",
       "      <th>0</th>\n",
       "      <td>Hyundai Verna</td>\n",
       "      <td>2019</td>\n",
       "      <td>1.6 SX VTVT (O)</td>\n",
       "      <td>Petrol</td>\n",
       "      <td>80,631 km</td>\n",
       "      <td>Manual</td>\n",
       "      <td>1st Owner</td>\n",
       "      <td>HR-26</td>\n",
       "      <td>₹ 9,81,699</td>\n",
       "    </tr>\n",
       "    <tr>\n",
       "      <th>1</th>\n",
       "      <td>KIA SELTOS</td>\n",
       "      <td>2020</td>\n",
       "      <td>HTK PLUS 1.5 PETROL</td>\n",
       "      <td>Petrol</td>\n",
       "      <td>12,981 km</td>\n",
       "      <td>Manual</td>\n",
       "      <td>2nd Owner</td>\n",
       "      <td>HR-26</td>\n",
       "      <td>₹ 11,55,299</td>\n",
       "    </tr>\n",
       "    <tr>\n",
       "      <th>2</th>\n",
       "      <td>Renault Kwid</td>\n",
       "      <td>2016</td>\n",
       "      <td>RXT</td>\n",
       "      <td>Petrol</td>\n",
       "      <td>22,388 km</td>\n",
       "      <td>Manual</td>\n",
       "      <td>1st Owner</td>\n",
       "      <td>DL-1C</td>\n",
       "      <td>₹ 2,79,799</td>\n",
       "    </tr>\n",
       "    <tr>\n",
       "      <th>3</th>\n",
       "      <td>Mercedes Benz C Class</td>\n",
       "      <td>2014</td>\n",
       "      <td>C 200 AVANTGARDE</td>\n",
       "      <td>Petrol</td>\n",
       "      <td>36,806 km</td>\n",
       "      <td>Automatic</td>\n",
       "      <td>1st Owner</td>\n",
       "      <td>UP-16</td>\n",
       "      <td>₹ 21,33,299</td>\n",
       "    </tr>\n",
       "    <tr>\n",
       "      <th>4</th>\n",
       "      <td>KIA SELTOS</td>\n",
       "      <td>2020</td>\n",
       "      <td>HTX AT PETROL</td>\n",
       "      <td>Petrol</td>\n",
       "      <td>21,784 km</td>\n",
       "      <td>Automatic</td>\n",
       "      <td>2nd Owner</td>\n",
       "      <td>HR-26</td>\n",
       "      <td>₹ 14,29,999</td>\n",
       "    </tr>\n",
       "  </tbody>\n",
       "</table>\n",
       "</div>"
      ],
      "text/plain": [
       "                    Name  Manufacture                Model    Fuel     Driven  \\\n",
       "0          Hyundai Verna         2019      1.6 SX VTVT (O)  Petrol  80,631 km   \n",
       "1             KIA SELTOS         2020  HTK PLUS 1.5 PETROL  Petrol  12,981 km   \n",
       "2           Renault Kwid         2016                  RXT  Petrol  22,388 km   \n",
       "3  Mercedes Benz C Class         2014     C 200 AVANTGARDE  Petrol  36,806 km   \n",
       "4             KIA SELTOS         2020        HTX AT PETROL  Petrol  21,784 km   \n",
       "\n",
       "   Automatic      Owner Location        Price  \n",
       "0     Manual  1st Owner    HR-26   ₹ 9,81,699  \n",
       "1     Manual  2nd Owner    HR-26  ₹ 11,55,299  \n",
       "2     Manual  1st Owner    DL-1C   ₹ 2,79,799  \n",
       "3  Automatic  1st Owner    UP-16  ₹ 21,33,299  \n",
       "4  Automatic  2nd Owner    HR-26  ₹ 14,29,999  "
      ]
     },
     "execution_count": 460,
     "metadata": {},
     "output_type": "execute_result"
    }
   ],
   "source": [
    "d1.head(5)"
   ]
  },
  {
   "cell_type": "code",
   "execution_count": 461,
   "id": "a8b62db3",
   "metadata": {},
   "outputs": [
    {
     "data": {
      "text/plain": [
       "array(['HR-26', 'DL-1C', 'UP-16', 'DL-6C', 'DL-8C', 'DL-7C', 'UP-37',\n",
       "       'UP-14', 'HR-79', 'DL-10', 'DL-3C', 'DL-9C', 'DL-5C', 'DL-2C',\n",
       "       'DL-4C', 'HR-51', 'HR-29', 'HR-98', 'DL-12', 'HR-55'], dtype=object)"
      ]
     },
     "execution_count": 461,
     "metadata": {},
     "output_type": "execute_result"
    }
   ],
   "source": [
    "d1['Location'].unique()"
   ]
  },
  {
   "cell_type": "code",
   "execution_count": 462,
   "id": "76da4420",
   "metadata": {},
   "outputs": [],
   "source": [
    "d1['Location']=d1['Location'].str.split('-').str.slice(0,1).str.join(' ')"
   ]
  },
  {
   "cell_type": "code",
   "execution_count": null,
   "id": "db6007b0",
   "metadata": {},
   "outputs": [],
   "source": []
  },
  {
   "cell_type": "code",
   "execution_count": 463,
   "id": "ac3a2fee",
   "metadata": {},
   "outputs": [
    {
     "data": {
      "text/html": [
       "<div>\n",
       "<style scoped>\n",
       "    .dataframe tbody tr th:only-of-type {\n",
       "        vertical-align: middle;\n",
       "    }\n",
       "\n",
       "    .dataframe tbody tr th {\n",
       "        vertical-align: top;\n",
       "    }\n",
       "\n",
       "    .dataframe thead th {\n",
       "        text-align: right;\n",
       "    }\n",
       "</style>\n",
       "<table border=\"1\" class=\"dataframe\">\n",
       "  <thead>\n",
       "    <tr style=\"text-align: right;\">\n",
       "      <th></th>\n",
       "      <th>Name</th>\n",
       "      <th>Manufacture</th>\n",
       "      <th>Model</th>\n",
       "      <th>Fuel</th>\n",
       "      <th>Driven</th>\n",
       "      <th>Automatic</th>\n",
       "      <th>Owner</th>\n",
       "      <th>Location</th>\n",
       "      <th>Price</th>\n",
       "    </tr>\n",
       "  </thead>\n",
       "  <tbody>\n",
       "    <tr>\n",
       "      <th>0</th>\n",
       "      <td>Maruti Suzuki Swift</td>\n",
       "      <td>2021</td>\n",
       "      <td>VXI</td>\n",
       "      <td>PETROL</td>\n",
       "      <td>51000.0 KM</td>\n",
       "      <td>MANUAL</td>\n",
       "      <td>1st</td>\n",
       "      <td>Ellis Nagar, Madurai</td>\n",
       "      <td>₹ 6,90,000</td>\n",
       "    </tr>\n",
       "    <tr>\n",
       "      <th>1</th>\n",
       "      <td>Renault Duster</td>\n",
       "      <td>2015</td>\n",
       "      <td>85PS Diesel RxE</td>\n",
       "      <td>DIESEL</td>\n",
       "      <td>74253.0 KM</td>\n",
       "      <td>MANUAL</td>\n",
       "      <td>2nd</td>\n",
       "      <td>Mayur Vihar, Delhi</td>\n",
       "      <td>₹ 4,75,000</td>\n",
       "    </tr>\n",
       "    <tr>\n",
       "      <th>2</th>\n",
       "      <td>Maruti Suzuki Celerio</td>\n",
       "      <td>2015</td>\n",
       "      <td>VXI AMT</td>\n",
       "      <td>PETROL</td>\n",
       "      <td>36213.0 KM</td>\n",
       "      <td>MANUAL</td>\n",
       "      <td>2nd</td>\n",
       "      <td>Kapsi MIDC, Nagpur</td>\n",
       "      <td>₹ 4,00,000</td>\n",
       "    </tr>\n",
       "    <tr>\n",
       "      <th>4</th>\n",
       "      <td>Ford Figo</td>\n",
       "      <td>2013</td>\n",
       "      <td>2012-2015 Diesel EXI</td>\n",
       "      <td>DIESEL</td>\n",
       "      <td>70000 KM</td>\n",
       "      <td>MANUAL</td>\n",
       "      <td>Second</td>\n",
       "      <td>Sajjan Bilas Evergreen Society, Bhilwara</td>\n",
       "      <td>₹ 2,00,000</td>\n",
       "    </tr>\n",
       "    <tr>\n",
       "      <th>5</th>\n",
       "      <td>Maruti Suzuki Swift</td>\n",
       "      <td>2009</td>\n",
       "      <td>VDI</td>\n",
       "      <td>DIESEL</td>\n",
       "      <td>135,000 KM</td>\n",
       "      <td>MANUAL</td>\n",
       "      <td>4+</td>\n",
       "      <td>Ranna Circle, Mudhol</td>\n",
       "      <td>₹ 2,60,000</td>\n",
       "    </tr>\n",
       "  </tbody>\n",
       "</table>\n",
       "</div>"
      ],
      "text/plain": [
       "                     Name Manufacture                 Model    Fuel  \\\n",
       "0    Maruti Suzuki Swift         2021                   VXI  PETROL   \n",
       "1         Renault Duster         2015       85PS Diesel RxE  DIESEL   \n",
       "2  Maruti Suzuki Celerio         2015               VXI AMT  PETROL   \n",
       "4              Ford Figo         2013  2012-2015 Diesel EXI  DIESEL   \n",
       "5    Maruti Suzuki Swift         2009                   VDI  DIESEL   \n",
       "\n",
       "       Driven Automatic   Owner                                  Location  \\\n",
       "0  51000.0 KM    MANUAL     1st                      Ellis Nagar, Madurai   \n",
       "1  74253.0 KM    MANUAL     2nd                        Mayur Vihar, Delhi   \n",
       "2  36213.0 KM    MANUAL     2nd                        Kapsi MIDC, Nagpur   \n",
       "4    70000 KM    MANUAL  Second  Sajjan Bilas Evergreen Society, Bhilwara   \n",
       "5  135,000 KM    MANUAL      4+                      Ranna Circle, Mudhol   \n",
       "\n",
       "        Price  \n",
       "0  ₹ 6,90,000  \n",
       "1  ₹ 4,75,000  \n",
       "2  ₹ 4,00,000  \n",
       "4  ₹ 2,00,000  \n",
       "5  ₹ 2,60,000  "
      ]
     },
     "execution_count": 463,
     "metadata": {},
     "output_type": "execute_result"
    }
   ],
   "source": [
    "d2.head(5)"
   ]
  },
  {
   "cell_type": "code",
   "execution_count": 464,
   "id": "1e857421",
   "metadata": {},
   "outputs": [],
   "source": [
    "d2['Location']=d2['Location'].str.split(',').str.slice(1,2).str.join(' ')"
   ]
  },
  {
   "cell_type": "code",
   "execution_count": 465,
   "id": "afd3dc77",
   "metadata": {},
   "outputs": [],
   "source": [
    "d2['Location']=d2['Location'].str.strip()"
   ]
  },
  {
   "cell_type": "code",
   "execution_count": 466,
   "id": "297a480a",
   "metadata": {},
   "outputs": [
    {
     "data": {
      "text/plain": [
       "array(['Madurai', 'Delhi', 'Nagpur', 'Bhilwara', 'Mudhol', 'Thrissur',\n",
       "       'Chirmiri', 'Tiruppur', 'Karnal', 'Gunupur', 'Sagar', 'Srinagar',\n",
       "       'Malappuram', 'Jorhat', 'Mavelikkara', 'Nashik', 'Ara',\n",
       "       'Muzaffarnagar', 'Coimbatore', 'Hyderabad', 'Lucknow', 'Salem',\n",
       "       'Kochi', 'Chennai', 'Ahmedabad', 'Surat', 'Jaipur', 'Kolhapur',\n",
       "       'Chandigarh', 'Mumbai', 'Patiala', 'Ghaziabad', 'Bengaluru',\n",
       "       'Bobbili', 'Vijayawada', 'Herbertpur', 'Gorakhpur', 'Palakkodu',\n",
       "       'Thiruvallur', 'Barnala', 'Pali Lalitpur District', 'Kakinada',\n",
       "       'Kancheepuram', 'Jambusar', 'Khanna', 'Kottayam', 'Gwalior',\n",
       "       'SIDCUL Haridwar', 'Vadodara', 'Guntur', 'Idukki Township',\n",
       "       'Ballia', 'Islampur', 'Pune', 'Rajapalayam', 'Bathinda',\n",
       "       'Senapati', 'Adoor', 'Manjeri', 'Varanasi', 'Tikari',\n",
       "       'Mannarkad I', 'Udaipur', 'Noida', 'Thiruvananthapuram',\n",
       "       'Kotputli', 'Kondotty', 'Guwahati', 'Perumbavoor', 'Kushinagar',\n",
       "       'Bhubaneshwar', 'Gurgaon', 'Hisar', 'Satna', 'Sonipat',\n",
       "       'Nakkapalle', 'Sangli Miraj Kupwad', 'Kota', 'Tirupati',\n",
       "       'Rayadurg', 'Ratu', 'Greater Noida', 'Khanauri', 'Muvattupuzha',\n",
       "       'Neem Ka Thana', 'Nizambad', 'Ludhiana', 'Thane', 'Bareilly',\n",
       "       'Panipat', 'Virajpete', 'Mangaldoi', 'Narnaul', 'Rajkot',\n",
       "       'Fazi Nagar', 'Palakkad', 'Sitamarhi', 'Dhanaula', 'Thalassery',\n",
       "       'Jhansi', 'Durgapur', 'Kolkata', 'Tuticorin', 'Maralia', 'Rohtak',\n",
       "       'Rajahmundry', 'Banda', 'Pileru', 'Erode', 'Edavilangu', 'Indore',\n",
       "       'Tiruchirappalli', 'Kashipur', 'Jahanabad', '', 'Gharsana',\n",
       "       'Dhariwal', 'Navi Mumbai', 'Kurnool', 'Thanjavur', 'Dehradun',\n",
       "       'Ramnagar', 'Uttar Champamura', 'Kudal MIDC', 'Mettupalayam',\n",
       "       'Pollachi', 'Pataudi', 'Malaut', 'Shivamogga', 'Mairwa', 'Vaduj',\n",
       "       'Cuddalore', 'Gourdanda', 'Kannod', 'Nokha', 'Lakhimpur',\n",
       "       'Taliparamba', 'Derapur', 'Jodhpur', 'Palwancha', 'Jasdan',\n",
       "       'Allahabad', 'Aligarh', 'Chaibasa', 'Srikakulam', 'Pithoragarh',\n",
       "       'Gaya', 'Ranchi', 'Dinanagar', 'Mangaluru', 'Chauparan',\n",
       "       'Bakiabad', 'Kollam', 'Kannur', 'Narsipatnam', 'Bungal', 'Patna',\n",
       "       'Umri Kalan', 'Ballari', 'Sitapur', 'Bokaro Steel City',\n",
       "       'Junagadh', 'Navsari', 'Aurangabad', 'Yamunanagar', 'Phagwara',\n",
       "       'Ettumanoor', 'Mohali', 'Chakia', 'Konch', 'Allipura', 'Bettiah',\n",
       "       'Bikaner', 'Mudki', 'Rayachoti', 'Kozhikode', 'Bhopal', 'Nellore'],\n",
       "      dtype=object)"
      ]
     },
     "execution_count": 466,
     "metadata": {},
     "output_type": "execute_result"
    }
   ],
   "source": [
    "d2['Location'].unique()"
   ]
  },
  {
   "cell_type": "code",
   "execution_count": 467,
   "id": "5b68dff8",
   "metadata": {},
   "outputs": [],
   "source": [
    "dic={\"Madurai\":'TN',\"Delhi\":'DL',\"Nagpur\":'MH',\"Bhilwara\":'RJ',\"Mudhol\":'KR',\"Thrissur\":'KE',\"Chirmiri\":'CH',\"Tiruppur\":'TN',\n",
    "\"Karnal\":'HR',\"Gunupur\":'OD',\"Sagar\":'MP',\"Srinagar\":'JK',\"Malappuram\":'KE',\"Jorhat\":'AS',\"Mavelikkara\":'KE',\n",
    "\"Nashik\":'MH',\"Ara\":'BI',\"Muzaffarnagar\":'UP',\"Coimbatore\":'TN',\"Hyderabad\":'HY',\n",
    "\"Lucknow\":'UP',\"Salem\":'TN',\"Kochi\":'KE','Chennai':'TN',\"Ahmedabad\":'GU',\"Surat\":'GU',\n",
    "\"Jaipur\":'RJ',\"Kolhapur\":'MH',\"Chandigarh\":'PJ',\"Mumbai\":'MH',\"Patiala\":'PJ',\n",
    "\"Ghaziabad\":'UP',\"Bengaluru\":'KR',\"Bobbili\":'AP',\"Vijayawada\":'AP',\n",
    "\"Herbertpur\":'UK',\"Gorakhpur\":'UP',\"Palakkodu\":'TN',\"Thiruvallur\":'TN',\n",
    "\"Barnala\":'PJ',\"Pali Lalitpur District\":'UP',\"Kakinada\":'AP',\n",
    "\"Kancheepuram\":'TN',\"Jambusar\":'GU',\"Khanna\":'PJ',\"Kottayam\":'KE',\"Gwalior\":'MP',\n",
    "\"SIDCUL Haridwar\":'UK',\"Vadodara\":'GU',\"Guntur\":'AP',\"Idukki Township\":'KE',\n",
    "\"Ballia\":'UP',\"Islampur\":'WB',\"Pune\":'MH',\"Rajapalayam\":'TN',\"Bathinda\":'PJ',\n",
    "\"Senapati\":'MA',\"Adoor\":'KE',\"Manjeri\":'KE',\"Varanasi\":'UP',\"Tikari\":'BI',\n",
    "\"Mannarkad I\":'KE',\"Udaipur\":'RJ',\"Noida\":'UP',\"Thiruvananthapuram\":'KE',\n",
    "\"Kotputli\":'RJ',\"Kondotty\":'KE',\"Guwahati\":'AS',\"Perumbavoor\":'KE',\"Kushinagar\":'UP',\n",
    "\"Bhubaneshwar\":'OD',\"Gurgaon\":'HR',\"Hisar\":'HR',\"Satna\":'MP',\"Sonipat\":'HR',\n",
    "\"Nakkapalle\":'AP',\"Sangli Miraj Kupwad\":'MP',\"Kota\":'RJ',\"Tirupati\":'AP',\n",
    "\"Rayadurg\":'AP',\"Ratu\":'JH',\"Greater Noida\":'UP',\"Khanauri\":'PJ',\"Muvattupuzha\":'KE',\n",
    "\"Neem Ka Thana\":'RJ',\"Nizambad\":'TE',\"Ludhiana\":'PJ',\"Thane\":'MH',\"Bareilly\":'UP',\n",
    "\"Panipat\":'HR',\"Virajpete\":'KR',\"Mangaldoi\":'AS',\"Narnaul\":'HR',\"Rajkot\":'Gu',\n",
    "\"Fazi Nagar\":'UP',\"Palakkad\":'KE',\"Sitamarhi\":'BI',\"Dhanaula\":'PJ',\"Thalassery\":'KE',\n",
    "\"Jhansi\":'UP',\"Durgapur\":'WB',\"Kolkata\":'WB',\"Tuticorin\":'TN',\"Maralia\":'OD',\"Rohtak\":'HR',\n",
    "\"Rajahmundry\":'AP',\"Banda\":'UP',\"Pileru\":'AP',\"Erode\":'TN',\"Edavilangu\":'KE',\"Indore\":'MP',\n",
    "\"Tiruchirappalli\":'TN',\"Kashipur\":'UK',\"Jahanabad\":'BI',\"Gharsana\":'RJ',\n",
    "\"Dhariwal\":'PJ',\"Navi Mumbai\":'MH',\"Kurnool\":'AP',\"Thanjavur\":'TN',\"Dehradun\":'UK',\n",
    "\"Ramnagar\":'UK',\"Uttar Champamura\":'TI',\"Kudal MIDC\":'MH',\"Mettupalayam\":'TN',\n",
    "\"Pollachi\":'TN',\"Pataudi\":'HR',\"Malaut\":'PJ',\"Shivamogga\":'KR',\"Mairwa\":'BI',\"Vaduj\":'MH',\n",
    "\"Cuddalore\":'TN',\"Gourdanda\":'OD',\"Kannod\":'MP',\"Nokha\":'RJ',\"Lakhimpur\":'UP',\n",
    "\"Taliparamba\":'KE',\"Derapur\":'UP',\"Jodhpur\":'RJ',\"Palwancha\":'TE',\"Jasdan\":'GU',\n",
    "\"Allahabad\":'UP',\"Aligarh\":'UP',\"Chaibasa\":'JH',\"Srikakulam\":'AP',\"Pithoragarh\":'UK',\n",
    "\"Gaya\":'BI',\"Ranchi\":'JH',\"Dinanagar\":'PJ',\"Mangaluru\":'KR',\"Chauparan\":'JH',\n",
    "\"Bakiabad\":'UP',\"Kollam\":'KE',\"Kannur\":'KE',\"Narsipatnam\":'AP',\"Bungal\":'PJ',\"Patna\":'BI',\n",
    "\"Umri Kalan\":'UP',\"Ballari\":'KR',\"Sitapur\":'UP',\"Bokaro Steel City\":'JH',\n",
    "\"Junagadh\":'GU',\"Navsari\":'GU',\"Aurangabad\":'MH',\"Yamunanagar\":'HR',\"Phagwara\":'PJ',\n",
    "\"Ettumanoor\":'KE',\"Mohali\":'PJ',\"Chakia\":'MH',\"Konch\":'UP',\"Allipura\":'KR',\"Bettiah\":'BI',\n",
    "\"Bikaner\":'RJ',\"Mudki\":'PJ',\"Rayachoti\":'AP',\"Kozhikode\":'KE',\"Bhopal\":'MP',\"Nellore\":'AP'}"
   ]
  },
  {
   "cell_type": "raw",
   "id": "36225628",
   "metadata": {},
   "source": [
    "TN- Tamil Naidu\n",
    "MH= Maharastra\n",
    "KR= Karnataka\n",
    "RJ= Rajistan\n",
    "KE= kerala\n",
    "CH=Chhattisgarh\n",
    "od=Odisha\n",
    "AS= Assam\n",
    "BI= Bihar\n",
    "HY= Hyderabad\n",
    "GU= Gujrat\n",
    "PJ= Punjab\n",
    "AP= Andra Pradesh\n",
    "UK= uttarankand\n",
    "MA= Manipur\n",
    "JH= jharkhand\n",
    "TE= Telangana\n",
    "TI= tripura"
   ]
  },
  {
   "cell_type": "code",
   "execution_count": 468,
   "id": "75b79296",
   "metadata": {},
   "outputs": [],
   "source": [
    "d2['Location']=d2['Location'].replace(dic)"
   ]
  },
  {
   "cell_type": "code",
   "execution_count": 469,
   "id": "b9ca38d1",
   "metadata": {},
   "outputs": [
    {
     "data": {
      "text/html": [
       "<div>\n",
       "<style scoped>\n",
       "    .dataframe tbody tr th:only-of-type {\n",
       "        vertical-align: middle;\n",
       "    }\n",
       "\n",
       "    .dataframe tbody tr th {\n",
       "        vertical-align: top;\n",
       "    }\n",
       "\n",
       "    .dataframe thead th {\n",
       "        text-align: right;\n",
       "    }\n",
       "</style>\n",
       "<table border=\"1\" class=\"dataframe\">\n",
       "  <thead>\n",
       "    <tr style=\"text-align: right;\">\n",
       "      <th></th>\n",
       "      <th>Name</th>\n",
       "      <th>Manufacture</th>\n",
       "      <th>Model</th>\n",
       "      <th>Fuel</th>\n",
       "      <th>Driven</th>\n",
       "      <th>Automatic</th>\n",
       "      <th>Owner</th>\n",
       "      <th>Location</th>\n",
       "      <th>Price</th>\n",
       "    </tr>\n",
       "  </thead>\n",
       "  <tbody>\n",
       "    <tr>\n",
       "      <th>0</th>\n",
       "      <td>Maruti Suzuki Swift</td>\n",
       "      <td>2021</td>\n",
       "      <td>VXI</td>\n",
       "      <td>PETROL</td>\n",
       "      <td>51000.0 KM</td>\n",
       "      <td>MANUAL</td>\n",
       "      <td>1st</td>\n",
       "      <td>TN</td>\n",
       "      <td>₹ 6,90,000</td>\n",
       "    </tr>\n",
       "    <tr>\n",
       "      <th>1</th>\n",
       "      <td>Renault Duster</td>\n",
       "      <td>2015</td>\n",
       "      <td>85PS Diesel RxE</td>\n",
       "      <td>DIESEL</td>\n",
       "      <td>74253.0 KM</td>\n",
       "      <td>MANUAL</td>\n",
       "      <td>2nd</td>\n",
       "      <td>DL</td>\n",
       "      <td>₹ 4,75,000</td>\n",
       "    </tr>\n",
       "    <tr>\n",
       "      <th>2</th>\n",
       "      <td>Maruti Suzuki Celerio</td>\n",
       "      <td>2015</td>\n",
       "      <td>VXI AMT</td>\n",
       "      <td>PETROL</td>\n",
       "      <td>36213.0 KM</td>\n",
       "      <td>MANUAL</td>\n",
       "      <td>2nd</td>\n",
       "      <td>MH</td>\n",
       "      <td>₹ 4,00,000</td>\n",
       "    </tr>\n",
       "    <tr>\n",
       "      <th>4</th>\n",
       "      <td>Ford Figo</td>\n",
       "      <td>2013</td>\n",
       "      <td>2012-2015 Diesel EXI</td>\n",
       "      <td>DIESEL</td>\n",
       "      <td>70000 KM</td>\n",
       "      <td>MANUAL</td>\n",
       "      <td>Second</td>\n",
       "      <td>RJ</td>\n",
       "      <td>₹ 2,00,000</td>\n",
       "    </tr>\n",
       "    <tr>\n",
       "      <th>5</th>\n",
       "      <td>Maruti Suzuki Swift</td>\n",
       "      <td>2009</td>\n",
       "      <td>VDI</td>\n",
       "      <td>DIESEL</td>\n",
       "      <td>135,000 KM</td>\n",
       "      <td>MANUAL</td>\n",
       "      <td>4+</td>\n",
       "      <td>KR</td>\n",
       "      <td>₹ 2,60,000</td>\n",
       "    </tr>\n",
       "  </tbody>\n",
       "</table>\n",
       "</div>"
      ],
      "text/plain": [
       "                     Name Manufacture                 Model    Fuel  \\\n",
       "0    Maruti Suzuki Swift         2021                   VXI  PETROL   \n",
       "1         Renault Duster         2015       85PS Diesel RxE  DIESEL   \n",
       "2  Maruti Suzuki Celerio         2015               VXI AMT  PETROL   \n",
       "4              Ford Figo         2013  2012-2015 Diesel EXI  DIESEL   \n",
       "5    Maruti Suzuki Swift         2009                   VDI  DIESEL   \n",
       "\n",
       "       Driven Automatic   Owner Location       Price  \n",
       "0  51000.0 KM    MANUAL     1st       TN  ₹ 6,90,000  \n",
       "1  74253.0 KM    MANUAL     2nd       DL  ₹ 4,75,000  \n",
       "2  36213.0 KM    MANUAL     2nd       MH  ₹ 4,00,000  \n",
       "4    70000 KM    MANUAL  Second       RJ  ₹ 2,00,000  \n",
       "5  135,000 KM    MANUAL      4+       KR  ₹ 2,60,000  "
      ]
     },
     "execution_count": 469,
     "metadata": {},
     "output_type": "execute_result"
    }
   ],
   "source": [
    "d2.head()"
   ]
  },
  {
   "cell_type": "code",
   "execution_count": null,
   "id": "5a06e0e5",
   "metadata": {},
   "outputs": [],
   "source": []
  },
  {
   "cell_type": "code",
   "execution_count": 470,
   "id": "ee955446",
   "metadata": {},
   "outputs": [
    {
     "data": {
      "text/html": [
       "<div>\n",
       "<style scoped>\n",
       "    .dataframe tbody tr th:only-of-type {\n",
       "        vertical-align: middle;\n",
       "    }\n",
       "\n",
       "    .dataframe tbody tr th {\n",
       "        vertical-align: top;\n",
       "    }\n",
       "\n",
       "    .dataframe thead th {\n",
       "        text-align: right;\n",
       "    }\n",
       "</style>\n",
       "<table border=\"1\" class=\"dataframe\">\n",
       "  <thead>\n",
       "    <tr style=\"text-align: right;\">\n",
       "      <th></th>\n",
       "      <th>Name</th>\n",
       "      <th>Manufacture</th>\n",
       "      <th>Model</th>\n",
       "      <th>Fuel</th>\n",
       "      <th>Driven</th>\n",
       "      <th>Automatic</th>\n",
       "      <th>Owner</th>\n",
       "      <th>Location</th>\n",
       "      <th>Price</th>\n",
       "    </tr>\n",
       "  </thead>\n",
       "  <tbody>\n",
       "    <tr>\n",
       "      <th>0</th>\n",
       "      <td>Volkswagen Polo</td>\n",
       "      <td>2016</td>\n",
       "      <td>Select 1.2 MPI Highline</td>\n",
       "      <td>Petrol</td>\n",
       "      <td>27,654 Kms</td>\n",
       "      <td>Manual</td>\n",
       "      <td>1st Owner</td>\n",
       "      <td>UP80</td>\n",
       "      <td>₹ 4,50,000</td>\n",
       "    </tr>\n",
       "    <tr>\n",
       "      <th>1</th>\n",
       "      <td>Honda Brio</td>\n",
       "      <td>2014</td>\n",
       "      <td>S MT</td>\n",
       "      <td>Petrol</td>\n",
       "      <td>85,075 Kms</td>\n",
       "      <td>UP81</td>\n",
       "      <td>1st Owner</td>\n",
       "      <td>11 2022</td>\n",
       "      <td>₹ 3,05,000</td>\n",
       "    </tr>\n",
       "    <tr>\n",
       "      <th>2</th>\n",
       "      <td>Honda City</td>\n",
       "      <td>2018</td>\n",
       "      <td>i-VTEC V</td>\n",
       "      <td>Petrol</td>\n",
       "      <td>29,278 Kms</td>\n",
       "      <td>Manual</td>\n",
       "      <td>1st Owner</td>\n",
       "      <td>UP80</td>\n",
       "      <td>₹ 8,05,000</td>\n",
       "    </tr>\n",
       "    <tr>\n",
       "      <th>3</th>\n",
       "      <td>Maruti Ertiga</td>\n",
       "      <td>2015</td>\n",
       "      <td>ZDI</td>\n",
       "      <td>Diesel</td>\n",
       "      <td>56,771 Kms</td>\n",
       "      <td>Manual</td>\n",
       "      <td>1st Owner</td>\n",
       "      <td>UP80</td>\n",
       "      <td>₹ 6,36,000</td>\n",
       "    </tr>\n",
       "    <tr>\n",
       "      <th>4</th>\n",
       "      <td>Hyundai i20</td>\n",
       "      <td>2015</td>\n",
       "      <td>Magna 1.2</td>\n",
       "      <td>Petrol</td>\n",
       "      <td>30,852 Kms</td>\n",
       "      <td>Manual</td>\n",
       "      <td>1st Owner</td>\n",
       "      <td>UP80</td>\n",
       "      <td>₹ 4,64,000</td>\n",
       "    </tr>\n",
       "  </tbody>\n",
       "</table>\n",
       "</div>"
      ],
      "text/plain": [
       "              Name  Manufacture                    Model    Fuel      Driven  \\\n",
       "0  Volkswagen Polo         2016  Select 1.2 MPI Highline  Petrol  27,654 Kms   \n",
       "1       Honda Brio         2014                     S MT  Petrol  85,075 Kms   \n",
       "2       Honda City         2018                 i-VTEC V  Petrol  29,278 Kms   \n",
       "3    Maruti Ertiga         2015                      ZDI  Diesel  56,771 Kms   \n",
       "4      Hyundai i20         2015                Magna 1.2  Petrol  30,852 Kms   \n",
       "\n",
       "  Automatic      Owner Location       Price  \n",
       "0    Manual  1st Owner     UP80  ₹ 4,50,000  \n",
       "1      UP81  1st Owner  11 2022  ₹ 3,05,000  \n",
       "2    Manual  1st Owner     UP80  ₹ 8,05,000  \n",
       "3    Manual  1st Owner     UP80  ₹ 6,36,000  \n",
       "4    Manual  1st Owner     UP80  ₹ 4,64,000  "
      ]
     },
     "execution_count": 470,
     "metadata": {},
     "output_type": "execute_result"
    }
   ],
   "source": [
    "d3.head()"
   ]
  },
  {
   "cell_type": "code",
   "execution_count": 471,
   "id": "47f9e461",
   "metadata": {},
   "outputs": [
    {
     "data": {
      "text/plain": [
       "array(['UP80', '11 2022', 'UP83', 'UP32', 'UP78', 'UP85', 'UP16'],\n",
       "      dtype=object)"
      ]
     },
     "execution_count": 471,
     "metadata": {},
     "output_type": "execute_result"
    }
   ],
   "source": [
    "d3['Location'].unique()"
   ]
  },
  {
   "cell_type": "code",
   "execution_count": 472,
   "id": "9e6b3545",
   "metadata": {},
   "outputs": [],
   "source": [
    "d3['Location']=d3['Location'].str.slice(0,2)"
   ]
  },
  {
   "cell_type": "code",
   "execution_count": 473,
   "id": "fa39c587",
   "metadata": {},
   "outputs": [
    {
     "data": {
      "text/html": [
       "<div>\n",
       "<style scoped>\n",
       "    .dataframe tbody tr th:only-of-type {\n",
       "        vertical-align: middle;\n",
       "    }\n",
       "\n",
       "    .dataframe tbody tr th {\n",
       "        vertical-align: top;\n",
       "    }\n",
       "\n",
       "    .dataframe thead th {\n",
       "        text-align: right;\n",
       "    }\n",
       "</style>\n",
       "<table border=\"1\" class=\"dataframe\">\n",
       "  <thead>\n",
       "    <tr style=\"text-align: right;\">\n",
       "      <th></th>\n",
       "      <th>Name</th>\n",
       "      <th>Manufacture</th>\n",
       "      <th>Model</th>\n",
       "      <th>Fuel</th>\n",
       "      <th>Driven</th>\n",
       "      <th>Automatic</th>\n",
       "      <th>Owner</th>\n",
       "      <th>Location</th>\n",
       "      <th>Price</th>\n",
       "    </tr>\n",
       "  </thead>\n",
       "  <tbody>\n",
       "    <tr>\n",
       "      <th>0</th>\n",
       "      <td>Volkswagen Polo</td>\n",
       "      <td>2016</td>\n",
       "      <td>Select 1.2 MPI Highline</td>\n",
       "      <td>Petrol</td>\n",
       "      <td>27,654 Kms</td>\n",
       "      <td>Manual</td>\n",
       "      <td>1st Owner</td>\n",
       "      <td>UP</td>\n",
       "      <td>₹ 4,50,000</td>\n",
       "    </tr>\n",
       "    <tr>\n",
       "      <th>1</th>\n",
       "      <td>Honda Brio</td>\n",
       "      <td>2014</td>\n",
       "      <td>S MT</td>\n",
       "      <td>Petrol</td>\n",
       "      <td>85,075 Kms</td>\n",
       "      <td>UP81</td>\n",
       "      <td>1st Owner</td>\n",
       "      <td>11</td>\n",
       "      <td>₹ 3,05,000</td>\n",
       "    </tr>\n",
       "    <tr>\n",
       "      <th>2</th>\n",
       "      <td>Honda City</td>\n",
       "      <td>2018</td>\n",
       "      <td>i-VTEC V</td>\n",
       "      <td>Petrol</td>\n",
       "      <td>29,278 Kms</td>\n",
       "      <td>Manual</td>\n",
       "      <td>1st Owner</td>\n",
       "      <td>UP</td>\n",
       "      <td>₹ 8,05,000</td>\n",
       "    </tr>\n",
       "    <tr>\n",
       "      <th>3</th>\n",
       "      <td>Maruti Ertiga</td>\n",
       "      <td>2015</td>\n",
       "      <td>ZDI</td>\n",
       "      <td>Diesel</td>\n",
       "      <td>56,771 Kms</td>\n",
       "      <td>Manual</td>\n",
       "      <td>1st Owner</td>\n",
       "      <td>UP</td>\n",
       "      <td>₹ 6,36,000</td>\n",
       "    </tr>\n",
       "    <tr>\n",
       "      <th>4</th>\n",
       "      <td>Hyundai i20</td>\n",
       "      <td>2015</td>\n",
       "      <td>Magna 1.2</td>\n",
       "      <td>Petrol</td>\n",
       "      <td>30,852 Kms</td>\n",
       "      <td>Manual</td>\n",
       "      <td>1st Owner</td>\n",
       "      <td>UP</td>\n",
       "      <td>₹ 4,64,000</td>\n",
       "    </tr>\n",
       "  </tbody>\n",
       "</table>\n",
       "</div>"
      ],
      "text/plain": [
       "              Name  Manufacture                    Model    Fuel      Driven  \\\n",
       "0  Volkswagen Polo         2016  Select 1.2 MPI Highline  Petrol  27,654 Kms   \n",
       "1       Honda Brio         2014                     S MT  Petrol  85,075 Kms   \n",
       "2       Honda City         2018                 i-VTEC V  Petrol  29,278 Kms   \n",
       "3    Maruti Ertiga         2015                      ZDI  Diesel  56,771 Kms   \n",
       "4      Hyundai i20         2015                Magna 1.2  Petrol  30,852 Kms   \n",
       "\n",
       "  Automatic      Owner Location       Price  \n",
       "0    Manual  1st Owner       UP  ₹ 4,50,000  \n",
       "1      UP81  1st Owner       11  ₹ 3,05,000  \n",
       "2    Manual  1st Owner       UP  ₹ 8,05,000  \n",
       "3    Manual  1st Owner       UP  ₹ 6,36,000  \n",
       "4    Manual  1st Owner       UP  ₹ 4,64,000  "
      ]
     },
     "execution_count": 473,
     "metadata": {},
     "output_type": "execute_result"
    }
   ],
   "source": [
    "d3.head()"
   ]
  },
  {
   "cell_type": "code",
   "execution_count": 474,
   "id": "2b859777",
   "metadata": {},
   "outputs": [],
   "source": [
    "d4['Location']=d4['Location'].str.slice(0,2)\n",
    "d5['Location']=d5['Location'].str.slice(0,2)\n",
    "d6['Location']=d6['Location'].str.slice(0,2)\n",
    "d7['Location']=d7['Location'].str.slice(0,2)\n",
    "d8['Location']=d8['Location'].str.slice(0,2)\n",
    "d9['Location']=d9['Location'].str.slice(0,2)\n",
    "d10['Location']=d10['Location'].str.slice(0,2)"
   ]
  },
  {
   "cell_type": "code",
   "execution_count": null,
   "id": "6e0f0238",
   "metadata": {},
   "outputs": [],
   "source": []
  },
  {
   "cell_type": "code",
   "execution_count": null,
   "id": "76189fde",
   "metadata": {},
   "outputs": [],
   "source": []
  },
  {
   "cell_type": "code",
   "execution_count": 475,
   "id": "bbf656d2",
   "metadata": {},
   "outputs": [
    {
     "data": {
      "text/plain": [
       "((60, 9),\n",
       " (440, 9),\n",
       " (43, 9),\n",
       " (198, 9),\n",
       " (269, 9),\n",
       " (66, 9),\n",
       " (226, 9),\n",
       " (115, 9),\n",
       " (340, 9),\n",
       " (652, 9))"
      ]
     },
     "execution_count": 475,
     "metadata": {},
     "output_type": "execute_result"
    }
   ],
   "source": [
    "d1.shape ,d2.shape ,d3.shape ,d4.shape ,d5.shape ,d6.shape ,d7.shape ,d8.shape ,d9.shape ,d10.shape"
   ]
  },
  {
   "cell_type": "code",
   "execution_count": 476,
   "id": "e368e5c3",
   "metadata": {},
   "outputs": [],
   "source": [
    "data = d1.append(d2, ignore_index=True)"
   ]
  },
  {
   "cell_type": "code",
   "execution_count": 477,
   "id": "7b3cd15f",
   "metadata": {},
   "outputs": [],
   "source": [
    "data=data.append(d3,ignore_index=True)"
   ]
  },
  {
   "cell_type": "code",
   "execution_count": 478,
   "id": "b82358df",
   "metadata": {},
   "outputs": [],
   "source": [
    "data=data.append(d4,ignore_index=True)"
   ]
  },
  {
   "cell_type": "code",
   "execution_count": 479,
   "id": "28707f85",
   "metadata": {},
   "outputs": [],
   "source": [
    "data=data.append(d5,ignore_index=True)"
   ]
  },
  {
   "cell_type": "code",
   "execution_count": 480,
   "id": "5c64ffcf",
   "metadata": {},
   "outputs": [],
   "source": [
    "data=data.append(d6,ignore_index=True)"
   ]
  },
  {
   "cell_type": "code",
   "execution_count": 481,
   "id": "d0889c3f",
   "metadata": {},
   "outputs": [],
   "source": [
    "data=data.append(d7,ignore_index=True)"
   ]
  },
  {
   "cell_type": "code",
   "execution_count": 482,
   "id": "472b691a",
   "metadata": {},
   "outputs": [],
   "source": [
    "data=data.append(d8,ignore_index=True)"
   ]
  },
  {
   "cell_type": "code",
   "execution_count": 483,
   "id": "f106c8d7",
   "metadata": {},
   "outputs": [],
   "source": [
    "data=data.append(d9,ignore_index=True)"
   ]
  },
  {
   "cell_type": "code",
   "execution_count": 484,
   "id": "3bbac7fa",
   "metadata": {},
   "outputs": [],
   "source": [
    "data=data.append(d10,ignore_index=True)"
   ]
  },
  {
   "cell_type": "code",
   "execution_count": 485,
   "id": "cbbbe908",
   "metadata": {},
   "outputs": [
    {
     "data": {
      "text/plain": [
       "(2409, 9)"
      ]
     },
     "execution_count": 485,
     "metadata": {},
     "output_type": "execute_result"
    }
   ],
   "source": [
    "data.shape"
   ]
  },
  {
   "cell_type": "code",
   "execution_count": 486,
   "id": "c1cc3b5f",
   "metadata": {},
   "outputs": [
    {
     "data": {
      "text/html": [
       "<div>\n",
       "<style scoped>\n",
       "    .dataframe tbody tr th:only-of-type {\n",
       "        vertical-align: middle;\n",
       "    }\n",
       "\n",
       "    .dataframe tbody tr th {\n",
       "        vertical-align: top;\n",
       "    }\n",
       "\n",
       "    .dataframe thead th {\n",
       "        text-align: right;\n",
       "    }\n",
       "</style>\n",
       "<table border=\"1\" class=\"dataframe\">\n",
       "  <thead>\n",
       "    <tr style=\"text-align: right;\">\n",
       "      <th></th>\n",
       "      <th>Name</th>\n",
       "      <th>Manufacture</th>\n",
       "      <th>Model</th>\n",
       "      <th>Fuel</th>\n",
       "      <th>Driven</th>\n",
       "      <th>Automatic</th>\n",
       "      <th>Owner</th>\n",
       "      <th>Location</th>\n",
       "      <th>Price</th>\n",
       "    </tr>\n",
       "  </thead>\n",
       "  <tbody>\n",
       "    <tr>\n",
       "      <th>0</th>\n",
       "      <td>Hyundai Verna</td>\n",
       "      <td>2019</td>\n",
       "      <td>1.6 SX VTVT (O)</td>\n",
       "      <td>Petrol</td>\n",
       "      <td>80,631 km</td>\n",
       "      <td>Manual</td>\n",
       "      <td>1st Owner</td>\n",
       "      <td>HR</td>\n",
       "      <td>₹ 9,81,699</td>\n",
       "    </tr>\n",
       "    <tr>\n",
       "      <th>1</th>\n",
       "      <td>KIA SELTOS</td>\n",
       "      <td>2020</td>\n",
       "      <td>HTK PLUS 1.5 PETROL</td>\n",
       "      <td>Petrol</td>\n",
       "      <td>12,981 km</td>\n",
       "      <td>Manual</td>\n",
       "      <td>2nd Owner</td>\n",
       "      <td>HR</td>\n",
       "      <td>₹ 11,55,299</td>\n",
       "    </tr>\n",
       "    <tr>\n",
       "      <th>2</th>\n",
       "      <td>Renault Kwid</td>\n",
       "      <td>2016</td>\n",
       "      <td>RXT</td>\n",
       "      <td>Petrol</td>\n",
       "      <td>22,388 km</td>\n",
       "      <td>Manual</td>\n",
       "      <td>1st Owner</td>\n",
       "      <td>DL</td>\n",
       "      <td>₹ 2,79,799</td>\n",
       "    </tr>\n",
       "    <tr>\n",
       "      <th>3</th>\n",
       "      <td>Mercedes Benz C Class</td>\n",
       "      <td>2014</td>\n",
       "      <td>C 200 AVANTGARDE</td>\n",
       "      <td>Petrol</td>\n",
       "      <td>36,806 km</td>\n",
       "      <td>Automatic</td>\n",
       "      <td>1st Owner</td>\n",
       "      <td>UP</td>\n",
       "      <td>₹ 21,33,299</td>\n",
       "    </tr>\n",
       "    <tr>\n",
       "      <th>4</th>\n",
       "      <td>KIA SELTOS</td>\n",
       "      <td>2020</td>\n",
       "      <td>HTX AT PETROL</td>\n",
       "      <td>Petrol</td>\n",
       "      <td>21,784 km</td>\n",
       "      <td>Automatic</td>\n",
       "      <td>2nd Owner</td>\n",
       "      <td>HR</td>\n",
       "      <td>₹ 14,29,999</td>\n",
       "    </tr>\n",
       "  </tbody>\n",
       "</table>\n",
       "</div>"
      ],
      "text/plain": [
       "                    Name Manufacture                Model    Fuel     Driven  \\\n",
       "0          Hyundai Verna        2019      1.6 SX VTVT (O)  Petrol  80,631 km   \n",
       "1             KIA SELTOS        2020  HTK PLUS 1.5 PETROL  Petrol  12,981 km   \n",
       "2           Renault Kwid        2016                  RXT  Petrol  22,388 km   \n",
       "3  Mercedes Benz C Class        2014     C 200 AVANTGARDE  Petrol  36,806 km   \n",
       "4             KIA SELTOS        2020        HTX AT PETROL  Petrol  21,784 km   \n",
       "\n",
       "   Automatic      Owner Location        Price  \n",
       "0     Manual  1st Owner       HR   ₹ 9,81,699  \n",
       "1     Manual  2nd Owner       HR  ₹ 11,55,299  \n",
       "2     Manual  1st Owner       DL   ₹ 2,79,799  \n",
       "3  Automatic  1st Owner       UP  ₹ 21,33,299  \n",
       "4  Automatic  2nd Owner       HR  ₹ 14,29,999  "
      ]
     },
     "execution_count": 486,
     "metadata": {},
     "output_type": "execute_result"
    }
   ],
   "source": [
    "data.head()"
   ]
  },
  {
   "cell_type": "code",
   "execution_count": 487,
   "id": "d56671f9",
   "metadata": {},
   "outputs": [
    {
     "data": {
      "text/plain": [
       "Name           object\n",
       "Manufacture    object\n",
       "Model          object\n",
       "Fuel           object\n",
       "Driven         object\n",
       "Automatic      object\n",
       "Owner          object\n",
       "Location       object\n",
       "Price          object\n",
       "dtype: object"
      ]
     },
     "execution_count": 487,
     "metadata": {},
     "output_type": "execute_result"
    }
   ],
   "source": [
    "data.dtypes"
   ]
  },
  {
   "cell_type": "code",
   "execution_count": 488,
   "id": "dcd8ed6a",
   "metadata": {},
   "outputs": [],
   "source": [
    "data['Manufacture']=data['Manufacture'].astype('int')"
   ]
  },
  {
   "cell_type": "code",
   "execution_count": 489,
   "id": "f336dca9",
   "metadata": {},
   "outputs": [],
   "source": [
    "data['Driven']=data['Driven'].str.replace(',','').str.replace(' km','').str.replace(' Kms','').str.replace(' KM','')"
   ]
  },
  {
   "cell_type": "code",
   "execution_count": 490,
   "id": "e20a6e4e",
   "metadata": {},
   "outputs": [
    {
     "data": {
      "text/plain": [
       "Name           object\n",
       "Manufacture     int32\n",
       "Model          object\n",
       "Fuel           object\n",
       "Driven         object\n",
       "Automatic      object\n",
       "Owner          object\n",
       "Location       object\n",
       "Price          object\n",
       "dtype: object"
      ]
     },
     "execution_count": 490,
     "metadata": {},
     "output_type": "execute_result"
    }
   ],
   "source": [
    "data.dtypes"
   ]
  },
  {
   "cell_type": "code",
   "execution_count": null,
   "id": "6e1089f8",
   "metadata": {},
   "outputs": [],
   "source": []
  },
  {
   "cell_type": "code",
   "execution_count": 491,
   "id": "4f4a39ba",
   "metadata": {},
   "outputs": [],
   "source": [
    "data['Driven']=data['Driven'].replace('--','')\n",
    "data['Driven']=data['Driven'].replace('.0','')"
   ]
  },
  {
   "cell_type": "code",
   "execution_count": 492,
   "id": "16fb0fcd",
   "metadata": {},
   "outputs": [
    {
     "data": {
      "text/plain": [
       "'0          80631\\n1          12981\\n2          22388\\n3          36806\\n4          21784\\n5          20330\\n6          54723\\n7          47547\\n8          28289\\n9          40369\\n10         44319\\n11         23277\\n12         32251\\n13         46400\\n14         21490\\n15          2775\\n16         22505\\n17         22638\\n18         28843\\n19         63433\\n20         45246\\n21         12511\\n22          6344\\n23          2213\\n24          9370\\n25         11399\\n26         48915\\n27         51105\\n28         90086\\n29         66782\\n30         42422\\n31         13223\\n32         34566\\n33         42881\\n34         54517\\n35         11828\\n36         29645\\n37          4555\\n38          7760\\n39         26475\\n40         60774\\n41         20830\\n42          5287\\n43          6962\\n44          7212\\n45          2572\\n46         29974\\n47         73937\\n48          4536\\n49         30697\\n50         12855\\n51          8717\\n52         40193\\n53         45277\\n54          6568\\n55         18191\\n56         82295\\n57         23733\\n58          9835\\n59          3120\\n60       51000.0\\n61       74253.0\\n62       36213.0\\n63         70000\\n64        135000\\n65         75000\\n66        120000\\n67         50000\\n68         87000\\n69         51000\\n70       78000.0\\n71         62000\\n72         64000\\n73      195000.0\\n74      198000.0\\n75       81000.0\\n76       15000.0\\n77       26000.0\\n78       80500.0\\n79       23000.0\\n80         60000\\n81       18000.0\\n82        160000\\n83        120000\\n84       37000.0\\n85      260000.0\\n86       27000.0\\n87       75000.0\\n88       59000.0\\n89       61000.0\\n90       63200.0\\n91      110000.0\\n92       65000.0\\n93       85800.0\\n94       70000.0\\n95           0.0\\n96       65398.0\\n97       44000.0\\n98       88000.0\\n99       36000.0\\n100      63000.0\\n101        90000\\n102       120000\\n103      57000.0\\n104      35000.0\\n105      92000.0\\n106      83000.0\\n107       118000\\n108      28000.0\\n109        58000\\n110       707105\\n111        90000\\n112       4000.0\\n113      63000.0\\n114      75000.0\\n115       140000\\n116      20614.0\\n117     142058.0\\n118      50000.0\\n119       160000\\n120       120000\\n121       113346\\n122       100000\\n123       113000\\n124      34000.0\\n125       261000\\n126      67000.0\\n127        68000\\n128        98315\\n129        10000\\n130      65000.0\\n131         3000\\n132       105000\\n133      47000.0\\n134      93000.0\\n135        90000\\n136        90000\\n137        98800\\n138        77000\\n139      72000.0\\n140        80000\\n141        37000\\n142     114000.0\\n143         3450\\n144        45548\\n145      24000.0\\n146      42056.0\\n147      29000.0\\n148       151734\\n149     143000.0\\n150      37000.0\\n151      31000.0\\n152      68000.0\\n153        90000\\n154       140000\\n155      20000.0\\n156      98000.0\\n157        80000\\n158       130000\\n159         7500\\n160      44000.0\\n161      76000.0\\n162      90480.0\\n163       125000\\n164        76000\\n165        35000\\n166      50000.0\\n167       130000\\n168        71626\\n169      20000.0\\n170        90000\\n171       120000\\n172      55000.0\\n173      98000.0\\n174     125000.0\\n175     130000.0\\n176     134000.0\\n177     235000.0\\n178      35000.0\\n179      85000.0\\n180      40000.0\\n181      55000.0\\n182      35000.0\\n183      30000.0\\n184      65000.0\\n185      81200.0\\n186      70000.0\\n187        30000\\n188        90000\\n189      24000.0\\n190      42000.0\\n191      48000.0\\n192      83000.0\\n193      50000.0\\n194        19000\\n195        75000\\n196        80000\\n197        80000\\n198     100000.0\\n199     111200.0\\n200      50000.0\\n201       118000\\n202        25055\\n203      58000.0\\n204      25000.0\\n205        90000\\n206        50000\\n207        39000\\n208        93000\\n209       240000\\n210       100000\\n211        80000\\n212      50000.0\\n213      72000.0\\n214        22000\\n215        30500\\n216        70000\\n217      78000.0\\n218        45630\\n219        60000\\n220       150000\\n221      80000.0\\n222      95000.0\\n223      83025.0\\n224       180000\\n225        50000\\n226         5500\\n227       100000\\n228        23214\\n229        85000\\n230      82000.0\\n231        64000\\n232        79000\\n233       165000\\n234        45000\\n235        92000\\n236        91000\\n237       180000\\n238        40000\\n239        77000\\n240        47000\\n241      28108.0\\n242      60000.0\\n243       140000\\n244        90000\\n245        41251\\n246        70000\\n247        83545\\n248             \\n249       149000\\n250        78523\\n251      82000.0\\n252       230000\\n253       125000\\n254     117000.0\\n255      25183.0\\n256      20000.0\\n257      55600.0\\n258       160000\\n259       120000\\n260      99000.0\\n261      13500.0\\n262     115000.0\\n263     135000.0\\n264      44500.0\\n265     145000.0\\n266      58000.0\\n267      85000.0\\n268      48000.0\\n269       2600.0\\n270      59000.0\\n271      63000.0\\n272        43000\\n273      69000.0\\n274      37000.0\\n275     175850.0\\n276      54000.0\\n277        10000\\n278       120000\\n279     100000.0\\n280        88400\\n281      72000.0\\n282       120000\\n283           15\\n284       108000\\n285        80000\\n286            0\\n287      72000.0\\n288        50000\\n289     150000.0\\n290       200000\\n291        70000\\n292      59000.0\\n293        10000\\n294       120000\\n295       100000\\n296      75000.0\\n297        92000\\n298      90000.0\\n299      76000.0\\n300       136000\\n301      55000.0\\n302      86000.0\\n303      71000.0\\n304      25000.0\\n305     127346.0\\n306      20000.0\\n307      98000.0\\n308       5000.0\\n309      74000.0\\n310      55000.0\\n311      82000.0\\n312        70000\\n313        90000\\n314      31000.0\\n315        75000\\n316      76000.0\\n317      74000.0\\n318       100000\\n319      72000.0\\n320       185000\\n321       102000\\n322        80000\\n323        82000\\n324      50000.0\\n325      61258.0\\n326        90000\\n327        70000\\n328        94000\\n329       120822\\n330         3300\\n331        71500\\n332             \\n333       148000\\n334      78444.0\\n335        78456\\n336       125000\\n337        60000\\n338      70000.0\\n339             \\n340       130000\\n341      58444.0\\n342      61900.0\\n343      60000.0\\n344      50000.0\\n345       120000\\n346        50000\\n347        65739\\n348        80000\\n349      72000.0\\n350        67000\\n351      80000.0\\n352       150000\\n353      26000.0\\n354       115000\\n355     110000.0\\n356      20000.0\\n357      65000.0\\n358      78000.0\\n359      72000.0\\n360     144255.0\\n361      92000.0\\n362      51000.0\\n363       120000\\n364        30000\\n365        85000\\n366      70000.0\\n367        64000\\n368        93450\\n369        96000\\n370        39810\\n371       150000\\n372        59000\\n373        60000\\n374        70000\\n375     120000.0\\n376        60000\\n377        50507\\n378      55000.0\\n379         7900\\n380      69000.0\\n381       160000\\n382        70000\\n383     140000.0\\n384       100000\\n385       111000\\n386        64000\\n387      38000.0\\n388        69000\\n389           13\\n390      76000.0\\n391       2000.0\\n392     115000.0\\n393     175000.0\\n394     120375.0\\n395      84060.0\\n396      98000.0\\n397       6500.0\\n398        90000\\n399        70000\\n400     122000.0\\n401      62000.0\\n402      53000.0\\n403      62000.0\\n404      72000.0\\n405        90000\\n406      56000.0\\n407        28000\\n408     128000.0\\n409      96000.0\\n410        83000\\n411      55000.0\\n412        75000\\n413     103000.0\\n414      85000.0\\n415        70000\\n416        70000\\n417        84000\\n418       7000.0\\n419        62000\\n420      80000.0\\n421       312000\\n422       130000\\n423       120100\\n424       165000\\n425        62031\\n426      53000.0\\n427        48000\\n428        70000\\n429      20500.0\\n430      78000.0\\n431        40000\\n432        40000\\n433      44000.0\\n434      40000.0\\n435      66000.0\\n436      78000.0\\n437      66000.0\\n438        92000\\n439       150000\\n440             \\n441        52000\\n442     100000.0\\n443      50000.0\\n444     270000.0\\n445       132532\\n446       4000.0\\n447      29000.0\\n448      60000.0\\n449      76000.0\\n450        70000\\n451        90000\\n452       124000\\n453       115000\\n454       110000\\n455       135000\\n456      55000.0\\n457      72000.0\\n458      61803.0\\n459        77500\\n460      82000.0\\n461     100000.0\\n462      52000.0\\n463       9899.0\\n464     114000.0\\n465      38000.0\\n466      67000.0\\n467        30000\\n468        10000\\n469        14700\\n470      32000.0\\n471       114108\\n472        34000\\n473        83000\\n474       120000\\n475        81000\\n476     104750.0\\n477     108750.0\\n478      60000.0\\n479     120000.0\\n480      49000.0\\n481      12000.0\\n482      39000.0\\n483      70000.0\\n484       160000\\n485        70000\\n486      65000.0\\n487      12000.0\\n488       168000\\n489      78000.0\\n490      82000.0\\n491      82000.0\\n492      62000.0\\n493      70000.0\\n494      76000.0\\n495        90800\\n496      62500.0\\n497       135280\\n498        67000\\n499      40000.0\\n500        27654\\n501        85075\\n502        29278\\n503        56771\\n504        30852\\n505        79343\\n506        40299\\n507        31134\\n508        32438\\n509        23882\\n510        19941\\n511        29309\\n512        51572\\n513        22879\\n514        37319\\n515        93915\\n516        28722\\n517        36403\\n518        50927\\n519        95123\\n520        76944\\n521        71440\\n522        61521\\n523        63757\\n524       118354\\n525        70351\\n526        39085\\n527        33372\\n528        34593\\n529        63303\\n530        73174\\n531        62216\\n532        96947\\n533        50062\\n534        30298\\n535        49421\\n536        53336\\n537        51117\\n538        20781\\n539        32631\\n540        68946\\n541        50149\\n542        29924\\n543        86702\\n544        56708\\n545        85483\\n546         4491\\n547        43368\\n548        11828\\n549        58463\\n550         4323\\n551        54966\\n552        28835\\n553        56510\\n554        55435\\n555        29726\\n556        39821\\n557        54195\\n558        89301\\n559         5709\\n560        21186\\n561         4337\\n562        38749\\n563         5709\\n564        21186\\n565         4337\\n566        38749\\n567        22650\\n568        15370\\n569        22454\\n570         6680\\n571        56130\\n572        53988\\n573        49990\\n574        28970\\n575        31525\\n576        40998\\n577        23902\\n578         8948\\n579        70195\\n580        43266\\n581        25129\\n582        62014\\n583        72922\\n584        51305\\n585        14660\\n586        41230\\n587        25288\\n588        42089\\n589        34814\\n590       104924\\n591        42117\\n592        90156\\n593        71277\\n594        90533\\n595        62988\\n596        14556\\n597        21286\\n598        46194\\n599         4463\\n600        81016\\n601        28679\\n602        30250\\n603        75451\\n604        86923\\n605        41071\\n606        37963\\n607        70926\\n608        64039\\n609        26524\\n610        54309\\n611        49331\\n612        64509\\n613        84340\\n614        54555\\n615        79290\\n616        89087\\n617        45861\\n618        71102\\n619        35812\\n620        74847\\n621        69812\\n622        37515\\n623        23734\\n624        86488\\n625        56354\\n626        87735\\n627        97772\\n628        79285\\n629        85339\\n630        57429\\n631        60985\\n632        52343\\n633        86586\\n634        29862\\n635        90221\\n636        15924\\n637        35338\\n638        57412\\n639        42399\\n640        28323\\n641        34359\\n642        25434\\n643        12231\\n644        13892\\n645        18806\\n646        62814\\n647        81336\\n648        52350\\n649        72771\\n650        65836\\n651        57624\\n652        34125\\n653        21043\\n654        80674\\n655        56692\\n656        37588\\n657        82411\\n658        21424\\n659        80168\\n660        27126\\n661        50990\\n662        80703\\n663        89680\\n664        52102\\n665        38028\\n666        53441\\n667        47150\\n668        67885\\n669        60806\\n670        10007\\n671        15748\\n672        70787\\n673        50193\\n674        36832\\n675        58324\\n676        27930\\n677        34368\\n678        73299\\n679         5008\\n680        32348\\n681        50966\\n682        78449\\n683        42735\\n684         6996\\n685         9780\\n686        80731\\n687        40965\\n688        43229\\n689        40797\\n690        34106\\n691        77790\\n692        50849\\n693        76828\\n694        62253\\n695        62879\\n696        45531\\n697        17773\\n698        40379\\n699        62269\\n700        27005\\n701        32198\\n702        41201\\n703        56431\\n704        72302\\n705        66066\\n706       100117\\n707        72361\\n708        83529\\n709        13165\\n710        74428\\n711        53496\\n712        72287\\n713         3726\\n714        40959\\n715        42374\\n716        31109\\n717        62586\\n718        59938\\n719        63000\\n720        59143\\n721        58775\\n722        62441\\n723        86443\\n724        39605\\n725        59647\\n726        75428\\n727        30267\\n728        35201\\n729        37909\\n730        56382\\n731        14854\\n732        81992\\n733        20401\\n734        80369\\n735        45684\\n736        37749\\n737        29146\\n738         6351\\n739        33599\\n740        15145\\n741         5586\\n742        15262\\n743        24497\\n744         4396\\n745        27949\\n746         7599\\n747        97787\\n748        33652\\n749        13542\\n750        75275\\n751        26073\\n752        17000\\n753        66477\\n754        47056\\n755        27485\\n756         7602\\n757        59567\\n758        30498\\n759        42619\\n760        25586\\n761        19000\\n762        47799\\n763         5467\\n764        51475\\n765        20846\\n766        21488\\n767        27805\\n768        26406\\n769        18266\\n770        55829\\n771        53195\\n772        54135\\n773         6260\\n774        64788\\n775         3734\\n776        40292\\n777        49297\\n778        61483\\n779        27237\\n780        38887\\n781        37265\\n782        58701\\n783        43701\\n784        21420\\n785        52998\\n786        17382\\n787        39974\\n788        64228\\n789         6989\\n790        39828\\n791        25977\\n792        56114\\n793        19542\\n794         5040\\n795        90778\\n796        19031\\n797        26839\\n798         7938\\n799        41898\\n800        36458\\n801        53272\\n802        47679\\n803        50486\\n804        71162\\n805          752\\n806         4138\\n807        28378\\n808        46172\\n809        35115\\n810        10720\\n811        26133\\n812        40766\\n813        35643\\n814        42759\\n815        47534\\n816        52638\\n817        15176\\n818        44332\\n819        37709\\n820        38679\\n821        30692\\n822        43980\\n823         8083\\n824        15158\\n825        32016\\n826        18686\\n827        29511\\n828        57345\\n829        69014\\n830        14514\\n831        61153\\n832        39126\\n833        21624\\n834        13011\\n835        78589\\n836        47400\\n837        42696\\n838        39655\\n839       111663\\n840        35188\\n841        13873\\n842        36674\\n843        20542\\n844        53590\\n845         9274\\n846        60863\\n847        34868\\n848        19033\\n849        82186\\n850        15464\\n851        13236\\n852        23079\\n853        50524\\n854        13165\\n855        13430\\n856         8226\\n857        41065\\n858        45729\\n859        15971\\n860         4801\\n861        24585\\n862        88322\\n863        40487\\n864        52797\\n865        21589\\n866        23288\\n867        34387\\n868        29980\\n869        40831\\n870        27887\\n871        66616\\n872         5481\\n873        49708\\n874        23805\\n875        45290\\n876         5991\\n877        23082\\n878        20695\\n879        20127\\n880       101781\\n881        82484\\n882        23836\\n883        44931\\n884         9387\\n885        29598\\n886        59621\\n887        78941\\n888        15091\\n889        83949\\n890        14980\\n891        62349\\n892        21963\\n893        71420\\n894        50438\\n895        68683\\n896        22067\\n897        34403\\n898        94115\\n899         5290\\n900        42614\\n901        31310\\n902        22637\\n903        10821\\n904        39271\\n905        48801\\n906        11267\\n907        30875\\n908        20440\\n909        69639\\n910         4357\\n911        70892\\n912        77465\\n913        84754\\n914        86166\\n915        22019\\n916        49361\\n917        10952\\n918        56543\\n919        20333\\n920        10043\\n921        26711\\n922        55706\\n923        42585\\n924        53628\\n925        23305\\n926        57471\\n927        25356\\n928        82140\\n929        36154\\n930        32258\\n931         8466\\n932        59000\\n933        72953\\n934        64097\\n935        15277\\n936       115350\\n937        34314\\n938        55074\\n939       101078\\n940        49703\\n941       100186\\n942        40661\\n943        68502\\n944        46294\\n945        38765\\n946        49504\\n947        84000\\n948        16376\\n949        23911\\n950        31460\\n951         8066\\n952        13487\\n953        14271\\n954        58918\\n955        53192\\n956        70813\\n957        71512\\n958       104586\\n959        44293\\n960       105183\\n961        42740\\n962        60279\\n963        35053\\n964        55280\\n965        90421\\n966        16335\\n967       103831\\n968        70568\\n969        64376\\n970         7107\\n971        31286\\n972        52000\\n973        42214\\n974        44538\\n975        24933\\n976        20064\\n977        16077\\n978        18231\\n979        27943\\n980        16402\\n981        49704\\n982        11965\\n983       117743\\n984         7072\\n985        39435\\n986        57346\\n987        60630\\n988        52029\\n989        85365\\n990        56535\\n991        99343\\n992        38443\\n993        40692\\n994        15924\\n995         1872\\n996        16643\\n997       100775\\n998        88336\\n999        92359\\n1000       58990\\n1001       67666\\n1002       44977\\n1003       37711\\n1004        8950\\n1005       22842\\n1006       54832\\n1007      121364\\n1008       26487\\n1009       93215\\n1010       29313\\n1011       17805\\n1012       34136\\n1013       41947\\n1014       10958\\n1015       37769\\n1016       62843\\n1017       73152\\n1018       34276\\n1019        3601\\n1020       32121\\n1021       39946\\n1022       67762\\n1023       27697\\n1024       28853\\n1025       84205\\n1026       40108\\n1027       18406\\n1028       97485\\n1029       48339\\n1030       31907\\n1031       61204\\n1032       27845\\n1033       42029\\n1034       81824\\n1035        9321\\n1036       49820\\n1037       84550\\n1038       30783\\n1039       69146\\n1040       55225\\n1041       41050\\n1042       77546\\n1043       67340\\n1044       41176\\n1045       69653\\n1046       14084\\n1047       24095\\n1048       28594\\n1049       55063\\n1050       73869\\n1051       88702\\n1052       28486\\n1053       34987\\n1054       37565\\n1055       33953\\n1056       44668\\n1057       80488\\n1058       35825\\n1059       20916\\n1060        9184\\n1061       70123\\n1062       14357\\n1063        6993\\n1064       47046\\n1065       53238\\n1066       76454\\n1067       13175\\n1068       13064\\n1069       58116\\n1070       31734\\n1071       75879\\n1072       32717\\n1073       36752\\n1074       12593\\n1075       82271\\n1076       65773\\n1077       19653\\n1078       47970\\n1079        5918\\n1080       24200\\n1081       29981\\n1082       68960\\n1083       14677\\n1084       47454\\n1085       24441\\n1086       80575\\n1087       55387\\n1088       19880\\n1089       38093\\n1090       87436\\n1091       45222\\n1092       27975\\n1093       17575\\n1094       46754\\n1095       43636\\n1096       71004\\n1097       22704\\n1098       47095\\n1099       29494\\n1100       32792\\n1101       11413\\n1102       60156\\n1103       63888\\n1104       13995\\n1105       44242\\n1106       45328\\n1107       31625\\n1108       59500\\n1109       48459\\n1110       36233\\n1111       65839\\n1112       88637\\n1113       64116\\n1114       43146\\n1115       85362\\n1116       42789\\n1117       96762\\n1118       62215\\n1119       43054\\n1120       21885\\n1121       37806\\n1122       91147\\n1123       31462\\n1124        9541\\n1125       13442\\n1126       22258\\n1127       40538\\n1128       56387\\n1129       75492\\n1130       80642\\n1131      101312\\n1132       13568\\n1133      109024\\n1134       36084\\n1135       70697\\n1136       27558\\n1137       22001\\n1138       47454\\n1139       10760\\n1140       69239\\n1141       44311\\n1142       33764\\n1143       33206\\n1144       34683\\n1145       47361\\n1146       75780\\n1147       61969\\n1148       96302\\n1149       27797\\n1150       41765\\n1151       32480\\n1152       22770\\n1153       14312\\n1154      109580\\n1155       39049\\n1156       24100\\n1157       91044\\n1158       32633\\n1159       32179\\n1160       75969\\n1161       18277\\n1162       50404\\n1163       42281\\n1164       51196\\n1165       83409\\n1166       94376\\n1167       11367\\n1168      121397\\n1169       28947\\n1170       93131\\n1171       17623\\n1172       16469\\n1173      106784\\n1174       36289\\n1175       44858\\n1176        8938\\n1177       43016\\n1178      109113\\n1179       26955\\n1180       23416\\n1181       49141\\n1182       52387\\n1183       23750\\n1184       81839\\n1185       78703\\n1186       54431\\n1187        9799\\n1188       59092\\n1189       47631\\n1190        3174\\n1191       40675\\n1192       11683\\n1193       41076\\n1194       34705\\n1195       44335\\n1196        7416\\n1197       32607\\n1198       79143\\n1199       76317\\n1200       71662\\n1201       29724\\n1202       38966\\n1203       45717\\n1204       36634\\n1205        5799\\n1206       59952\\n1207       39244\\n1208       22845\\n1209       29684\\n1210       26158\\n1211       66874\\n1212       77283\\n1213      119226\\n1214       10571\\n1215       21641\\n1216       37317\\n1217       37097\\n1218       11153\\n1219       24987\\n1220       11740\\n1221       91221\\n1222       26229\\n1223       45856\\n1224       32167\\n1225       29005\\n1226      110698\\n1227       27393\\n1228       28596\\n1229       92300\\n1230       26510\\n1231       57593\\n1232       36630\\n1233       87809\\n1234       28886\\n1235       14135\\n1236      137227\\n1237       33830\\n1238       37656\\n1239       26745\\n1240       22683\\n1241       62846\\n1242       57178\\n1243       42448\\n1244       94712\\n1245       27312\\n1246       45816\\n1247        7863\\n1248      102671\\n1249       83336\\n1250       14138\\n1251       50086\\n1252      114456\\n1253       58941\\n1254       15581\\n1255       62812\\n1256       92113\\n1257       67523\\n1258       34880\\n1259       17665\\n1260       24422\\n1261       74824\\n1262       82965\\n1263       90248\\n1264       19517\\n1265       87837\\n1266       40044\\n1267       10518\\n1268       80345\\n1269       17284\\n1270       11513\\n1271       75433\\n1272       47285\\n1273       67909\\n1274       47786\\n1275       26664\\n1276       60049\\n1277       16261\\n1278       14468\\n1279        9495\\n1280       13591\\n1281       73346\\n1282       34197\\n1283       58602\\n1284       38833\\n1285       65952\\n1286       77731\\n1287      117915\\n1288      114389\\n1289       63366\\n1290        8042\\n1291       54823\\n1292       45716\\n1293       38720\\n1294       67877\\n1295       81793\\n1296       48523\\n1297       54813\\n1298       81323\\n1299       90551\\n1300       22656\\n1301        1000\\n1302       24109\\n1303       40036\\n1304       17128\\n1305       22047\\n1306       31538\\n1307       25945\\n1308       94959\\n1309       20384\\n1310       97592\\n1311       42453\\n1312       86554\\n1313       90342\\n1314       93720\\n1315       20462\\n1316       36346\\n1317        5459\\n1318        8678\\n1319       52345\\n1320       41187\\n1321       37705\\n1322       41549\\n1323       26060\\n1324       42707\\n1325       41705\\n1326       12947\\n1327        8844\\n1328       25650\\n1329       38048\\n1330       21743\\n1331       14915\\n1332       28354\\n1333       16338\\n1334       55107\\n1335       31593\\n1336       79706\\n1337       38048\\n1338       21743\\n1339       14915\\n1340       28354\\n1341       16338\\n1342       55107\\n1343       31593\\n1344       82471\\n1345       29205\\n1346       78439\\n1347       49625\\n1348       54589\\n1349       19289\\n1350        1579\\n1351       12925\\n1352        6466\\n1353        3258\\n1354       35082\\n1355       52641\\n1356       89756\\n1357       35773\\n1358       30658\\n1359       16363\\n1360       61628\\n1361       22813\\n1362       64353\\n1363       64379\\n1364       35467\\n1365       35613\\n1366       51703\\n1367       33476\\n1368       20813\\n1369       79669\\n1370       25141\\n1371       49291\\n1372       49439\\n1373       38768\\n1374       27880\\n1375       35338\\n1376       42501\\n1377       22433\\n1378       58898\\n1379       31210\\n1380        9822\\n1381       21865\\n1382       38428\\n1383       50397\\n1384      106393\\n1385       37987\\n1386       44079\\n1387       45204\\n1388       80249\\n1389      101226\\n1390       79128\\n1391       32977\\n1392       51347\\n1393       65332\\n1394       45977\\n1395       35552\\n1396       41609\\n1397        5942\\n1398       88605\\n1399       49477\\n1400       25234\\n1401       51192\\n1402       21577\\n1403       27048\\n1404       23518\\n1405       14792\\n1406        4215\\n1407       67839\\n1408       78110\\n1409       48923\\n1410       50235\\n1411       47761\\n1412       82744\\n1413       44398\\n1414      114855\\n1415       17365\\n1416       14595\\n1417       65773\\n1418       47970\\n1419       19653\\n1420       29981\\n1421        5918\\n1422        7037\\n1423       14677\\n1424       47454\\n1425       21191\\n1426       24441\\n1427        6705\\n1428       19880\\n1429       12390\\n1430       13995\\n1431       11898\\n1432       87436\\n1433       45222\\n1434       46754\\n1435       60156\\n1436       47357\\n1437       43636\\n1438       71284\\n1439       71004\\n1440       22704\\n1441       47095\\n1442       50312\\n1443       29494\\n1444       32792\\n1445       36289\\n1446       11413\\n1447       65839\\n1448       63888\\n1449       45328\\n1450       59191\\n1451       44242\\n1452       31625\\n1453       68960\\n1454       48459\\n1455       27975\\n1456       36233\\n1457       43146\\n1458       27312\\n1459       88637\\n1460       64116\\n1461       55387\\n1462       62215\\n1463       85362\\n1464       96762\\n1465       37806\\n1466       82089\\n1467       43054\\n1468       21885\\n1469       22258\\n1470       91147\\n1471       31462\\n1472        9541\\n1473       13442\\n1474       27558\\n1475       40538\\n1476       66909\\n1477       56387\\n1478       75492\\n1479       80642\\n1480      101312\\n1481       30103\\n1482       13568\\n1483       42281\\n1484       36084\\n1485       70697\\n1486       10760\\n1487       22001\\n1488       47454\\n1489       33764\\n1490       33206\\n1491       44311\\n1492       61969\\n1493       27797\\n1494       34683\\n1495       75780\\n1496       17575\\n1497       69239\\n1498       96302\\n1499       47361\\n1500       22770\\n1501       32480\\n1502       13763\\n1503       39049\\n1504       14312\\n1505       41765\\n1506       50404\\n1507       24100\\n1508       43832\\n1509       59500\\n1510       32179\\n1511       35925\\n1512       75969\\n1513      109024\\n1514       39571\\n1515       83409\\n1516       18277\\n1517      109580\\n1518       32633\\n1519       94376\\n1520       51196\\n1521       11367\\n1522      121397\\n1523       38208\\n1524       93131\\n1525       17623\\n1526       28947\\n1527       16469\\n1528      106784\\n1529       88225\\n1530       44858\\n1531        8938\\n1532       43016\\n1533      109113\\n1534       78328\\n1535       35844\\n1536       23416\\n1537       49141\\n1538       52387\\n1539       23750\\n1540       59092\\n1541       78703\\n1542       34071\\n1543       54431\\n1544       28561\\n1545        9799\\n1546       81839\\n1547       42789\\n1548       47631\\n1549        3174\\n1550       41076\\n1551       40675\\n1552       11683\\n1553       76317\\n1554       34705\\n1555       44335\\n1556        7416\\n1557       32607\\n1558       79143\\n1559       38966\\n1560       71662\\n1561       29724\\n1562        5799\\n1563       45717\\n1564       36634\\n1565       91044\\n1566       59952\\n1567       39244\\n1568       22845\\n1569       26955\\n1570       26158\\n1571       66874\\n1572       30106\\n1573       77283\\n1574      119226\\n1575        9756\\n1576       10571\\n1577       21641\\n1578       29684\\n1579       37097\\n1580       11153\\n1581       62858\\n1582       11740\\n1583       37317\\n1584       45856\\n1585       91221\\n1586       15533\\n1587       29005\\n1588       90594\\n1589       27393\\n1590       92300\\n1591       26229\\n1592       32167\\n1593       57593\\n1594      110698\\n1595       36630\\n1596       46720\\n1597       87809\\n1598       51675\\n1599       14135\\n1600       28596\\n1601      137227\\n1602       33830\\n1603       26510\\n1604       37656\\n1605       28886\\n1606       22683\\n1607        5500\\n1608       57178\\n1609       18130\\n1610       94712\\n1611       62846\\n1612       45816\\n1613       42448\\n1614       83336\\n1615      102671\\n1616       50550\\n1617       61502\\n1618       14138\\n1619       50086\\n1620      114456\\n1621        7863\\n1622       29209\\n1623        4430\\n1624       26745\\n1625       58941\\n1626       23299\\n1627       68587\\n1628       29950\\n1629       15581\\n1630       62812\\n1631       92113\\n1632       54656\\n1633       62818\\n1634       67523\\n1635       34880\\n1636       34232\\n1637       69704\\n1638       17665\\n1639       24422\\n1640       74824\\n1641       90248\\n1642       82965\\n1643       60049\\n1644       19517\\n1645       39269\\n1646       38482\\n1647       32532\\n1648       87837\\n1649       40044\\n1650       10518\\n1651       80345\\n1652       17284\\n1653       11513\\n1654       75433\\n1655       74728\\n1656       47786\\n1657       61627\\n1658       47285\\n1659       67909\\n1660       26664\\n1661       16261\\n1662       14468\\n1663        9495\\n1664       13591\\n1665       10337\\n1666       49713\\n1667       73346\\n1668       34197\\n1669       58602\\n1670       38835\\n1671       38833\\n1672       65952\\n1673       77731\\n1674      117915\\n1675       34536\\n1676       57932\\n1677       19636\\n1678      114389\\n1679       63366\\n1680        8042\\n1681       54823\\n1682       45716\\n1683       14653\\n1684       25948\\n1685       48548\\n1686      100883\\n1687       72667\\n1688       61210\\n1689       59781\\n1690      108287\\n1691       24707\\n1692       62350\\n1693       68977\\n1694       62260\\n1695       63002\\n1696        2496\\n1697       57848\\n1698        8708\\n1699       40278\\n1700       66502\\n1701       58121\\n1702       84403\\n1703       83526\\n1704       38720\\n1705       15203\\n1706       53198\\n1707       49775\\n1708       41054\\n1709       67877\\n1710       58977\\n1711       26529\\n1712       47179\\n1713       16986\\n1714       60260\\n1715       38481\\n1716       96872\\n1717       11628\\n1718       29790\\n1719       25362\\n1720       48523\\n1721       81793\\n1722       40739\\n1723       43019\\n1724       40244\\n1725       54813\\n1726       37946\\n1727       60479\\n1728       32458\\n1729       74511\\n1730       79954\\n1731      101685\\n1732       18817\\n1733       66979\\n1734       35959\\n1735       51897\\n1736       48644\\n1737       37050\\n1738       29327\\n1739       10939\\n1740       33358\\n1741       48939\\n1742       69053\\n1743       38103\\n1744       49711\\n1745       62080\\n1746       44577\\n1747       81323\\n1748       66574\\n1749       54630\\n1750       63396\\n1751       28603\\n1752       37867\\n1753       90551\\n1754       63185\\n1755       22656\\n1756        1000\\n1757       40720\\n1758       36716\\n1759       48276\\n1760       81331\\n1761       54010\\n1762       31782\\n1763       79368\\n1764       46293\\n1765       26259\\n1766       56120\\n1767       16829\\n1768       40627\\n1769       40690\\n1770       29991\\n1771       28907\\n1772       56817\\n1773       63253\\n1774       51144\\n1775       78962\\n1776       46250\\n1777       50978\\n1778       42983\\n1779       59869\\n1780       60554\\n1781       46807\\n1782       42189\\n1783       56037\\n1784       42407\\n1785       23253\\n1786       54034\\n1787       71078\\n1788       98037\\n1789       39438\\n1790       60686\\n1791       57062\\n1792       63021\\n1793       55154\\n1794       53680\\n1795       44269\\n1796       56135\\n1797       78589\\n1798       24573\\n1799       32464\\n1800       61584\\n1801       55918\\n1802       80233\\n1803       38033\\n1804       35987\\n1805       41744\\n1806       43007\\n1807       60734\\n1808      101502\\n1809       56559\\n1810       63322\\n1811       12480\\n1812        9532\\n1813       22827\\n1814       39564\\n1815       15689\\n1816       51780\\n1817       58210\\n1818       29575\\n1819       21397\\n1820        2507\\n1821       31373\\n1822       43961\\n1823       43558\\n1824       71005\\n1825       28452\\n1826       17566\\n1827       30319\\n1828       11850\\n1829       59069\\n1830       43268\\n1831       35208\\n1832       36226\\n1833       44459\\n1834       33896\\n1835        8961\\n1836       36508\\n1837       37895\\n1838       50997\\n1839       21283\\n1840       39412\\n1841       32892\\n1842       24979\\n1843       75209\\n1844       43601\\n1845       28677\\n1846       49203\\n1847       43301\\n1848       17626\\n1849       85867\\n1850       47142\\n1851       33646\\n1852        5893\\n1853       61319\\n1854       41522\\n1855       32630\\n1856       79346\\n1857       75618\\n1858       52596\\n1859       46270\\n1860       75600\\n1861       37675\\n1862       65697\\n1863       87560\\n1864       66503\\n1865       20923\\n1866       52303\\n1867       63394\\n1868       69055\\n1869       23872\\n1870       60372\\n1871       36763\\n1872       85642\\n1873       51348\\n1874       25231\\n1875       31638\\n1876       58150\\n1877       61924\\n1878       34879\\n1879       80676\\n1880       44263\\n1881       45044\\n1882       58237\\n1883       24440\\n1884       38510\\n1885       12428\\n1886       80501\\n1887       33004\\n1888       28166\\n1889       38036\\n1890       52927\\n1891       54062\\n1892       25615\\n1893       25264\\n1894       15873\\n1895       43982\\n1896       23250\\n1897      108939\\n1898       68121\\n1899       90222\\n1900       46613\\n1901       50752\\n1902       55452\\n1903       23274\\n1904       41238\\n1905       60070\\n1906       34546\\n1907       55940\\n1908       40034\\n1909       80284\\n1910       19957\\n1911       73814\\n1912       21081\\n1913       38317\\n1914       32727\\n1915       72313\\n1916       58326\\n1917       65401\\n1918       55875\\n1919       82719\\n1920       45353\\n1921       49064\\n1922       47937\\n1923       15712\\n1924       69046\\n1925       82086\\n1926       77141\\n1927       59935\\n1928       30231\\n1929       38844\\n1930       32952\\n1931       35453\\n1932       13673\\n1933       63058\\n1934       19591\\n1935        7995\\n1936       68000\\n1937        4860\\n1938       46191\\n1939        9296\\n1940       61332\\n1941       28000\\n1942       53664\\n1943       19509\\n1944       34906\\n1945       50454\\n1946       60861\\n1947       57556\\n1948       71988\\n1949       74915\\n1950       22515\\n1951        7060\\n1952       68000\\n1953       10012\\n1954       50568\\n1955       37625\\n1956       31250\\n1957       29431\\n1958       89626\\n1959       76410\\n1960       84640\\n1961       25748\\n1962       31059\\n1963       70071\\n1964       74800\\n1965       84731\\n1966       59274\\n1967       42760\\n1968       77208\\n1969       32683\\n1970       49731\\n1971       58866\\n1972       28318\\n1973       64369\\n1974       44850\\n1975       75418\\n1976       56837\\n1977       65374\\n1978       85597\\n1979       64293\\n1980       26274\\n1981       18049\\n1982        7651\\n1983       75005\\n1984       29879\\n1985       29274\\n1986        9411\\n1987       15855\\n1988       22498\\n1989       80903\\n1990       74845\\n1991       33277\\n1992       54817\\n1993       79284\\n1994       22400\\n1995       73089\\n1996       61160\\n1997       44873\\n1998       57019\\n1999       43012\\n2000       10703\\n2001       60879\\n2002       19215\\n2003       38868\\n2004       19946\\n2005       60345\\n2006       12061\\n2007       10701\\n2008       61932\\n2009       21816\\n2010       42262\\n2011       40650\\n2012       38389\\n2013       32718\\n2014       33678\\n2015       48375\\n2016       72779\\n2017       11475\\n2018         600\\n2019       39609\\n2020       48303\\n2021       26742\\n2022       55183\\n2023       17605\\n2024       70410\\n2025       63274\\n2026       46811\\n2027       67840\\n2028       17753\\n2029       37198\\n2030       38719\\n2031       71356\\n2032       40939\\n2033       93789\\n2034       44028\\n2035       37602\\n2036       32670\\n2037       35089\\n2038       40970\\n2039       51379\\n2040       64244\\n2041       43333\\n2042       50890\\n2043       40281\\n2044       52203\\n2045       54062\\n2046       36256\\n2047        6457\\n2048       53805\\n2049       53350\\n2050       35338\\n2051       48406\\n2052       12418\\n2053       33383\\n2054        5048\\n2055       30139\\n2056       50248\\n2057       68085\\n2058       37546\\n2059       46825\\n2060       44710\\n2061       24907\\n2062       62051\\n2063       41178\\n2064        7962\\n2065       42531\\n2066       38535\\n2067       69496\\n2068       66046\\n2069       68157\\n2070       38381\\n2071       90351\\n2072       49916\\n2073       22864\\n2074       60045\\n2075       29167\\n2076       63010\\n2077       68998\\n2078       75078\\n2079       11609\\n2080       45344\\n2081       98140\\n2082         951\\n2083       49979\\n2084       15537\\n2085       49811\\n2086       71440\\n2087       33147\\n2088       23728\\n2089       46326\\n2090       67807\\n2091      125290\\n2092       36550\\n2093       38888\\n2094       70086\\n2095      132204\\n2096       65690\\n2097       62285\\n2098       26543\\n2099       38693\\n2100       16413\\n2101       24005\\n2102       42245\\n2103       87720\\n2104        8000\\n2105       85367\\n2106       33929\\n2107       36485\\n2108       33822\\n2109       22915\\n2110       52994\\n2111       35765\\n2112       97703\\n2113        9442\\n2114       77884\\n2115       36315\\n2116       25125\\n2117       71029\\n2118       43188\\n2119       27288\\n2120       14953\\n2121       20737\\n2122       42228\\n2123       13652\\n2124       12168\\n2125       43167\\n2126       51998\\n2127       57091\\n2128       29417\\n2129       38867\\n2130       21766\\n2131       86493\\n2132       70003\\n2133       61129\\n2134       50832\\n2135       69109\\n2136       89848\\n2137       25979\\n2138       37140\\n2139       34748\\n2140       33629\\n2141       36843\\n2142       65234\\n2143       71062\\n2144       80117\\n2145       24293\\n2146       36269\\n2147       97921\\n2148       52082\\n2149       91929\\n2150       43077\\n2151       13060\\n2152       32552\\n2153       35645\\n2154       90121\\n2155       36041\\n2156       23546\\n2157       59125\\n2158       22532\\n2159       67969\\n2160       66088\\n2161       77000\\n2162       79009\\n2163       32960\\n2164       14383\\n2165       10375\\n2166       88209\\n2167        3080\\n2168       80018\\n2169       51857\\n2170       51923\\n2171       42723\\n2172       24425\\n2173       48348\\n2174      102230\\n2175       84808\\n2176        8017\\n2177       46515\\n2178       28183\\n2179       12486\\n2180       58154\\n2181       21912\\n2182       31016\\n2183       43857\\n2184       92705\\n2185       28921\\n2186       82836\\n2187       21291\\n2188        6018\\n2189       25158\\n2190       92356\\n2191       48246\\n2192       80151\\n2193       54842\\n2194       19251\\n2195       47236\\n2196       54694\\n2197        9919\\n2198       65841\\n2199       55763\\n2200       43181\\n2201       35298\\n2202       11670\\n2203        4168\\n2204       44166\\n2205       44866\\n2206       41208\\n2207        3903\\n2208       18828\\n2209       43939\\n2210       42469\\n2211       54140\\n2212       49874\\n2213       50280\\n2214       70702\\n2215       50794\\n2216       64130\\n2217        6895\\n2218       25084\\n2219       38886\\n2220       17447\\n2221       57803\\n2222       57605\\n2223       78925\\n2224       25839\\n2225       53231\\n2226       30373\\n2227       60562\\n2228       74850\\n2229       17323\\n2230       39808\\n2231       32420\\n2232       60216\\n2233       60192\\n2234       39913\\n2235       31912\\n2236       92453\\n2237       24128\\n2238       26933\\n2239       59847\\n2240       37944\\n2241       54365\\n2242       13241\\n2243       63510\\n2244       75094\\n2245       19383\\n2246       64411\\n2247       46967\\n2248       46534\\n2249       25666\\n2250       61828\\n2251        4010\\n2252       23389\\n2253       13539\\n2254       26179\\n2255       39324\\n2256       55669\\n2257       29999\\n2258       73265\\n2259       60956\\n2260       54439\\n2261       58678\\n2262       17029\\n2263       59056\\n2264       70538\\n2265       58813\\n2266       86572\\n2267       62734\\n2268       78785\\n2269       61993\\n2270       50634\\n2271       19092\\n2272       52581\\n2273       82634\\n2274      100007\\n2275       48916\\n2276       46629\\n2277       46402\\n2278       56229\\n2279       48064\\n2280      119158\\n2281       86922\\n2282       73521\\n2283       84249\\n2284       58912\\n2285       77112\\n2286       72627\\n2287       53017\\n2288       35320\\n2289       41029\\n2290       71611\\n2291       46427\\n2292       80937\\n2293       86467\\n2294       79173\\n2295       37376\\n2296       45232\\n2297      105246\\n2298      102334\\n2299       95135\\n2300       70298\\n2301       78529\\n2302       86732\\n2303       97166\\n2304       62139\\n2305       33539\\n2306       41900\\n2307       24644\\n2308       19287\\n2309       20003\\n2310       10610\\n2311       20604\\n2312       37793\\n2313       13701\\n2314       26704\\n2315       32340\\n2316       42925\\n2317       34032\\n2318       26140\\n2319       15698\\n2320       30500\\n2321       48910\\n2322       24428\\n2323       35152\\n2324       52710\\n2325       16115\\n2326       11784\\n2327       91879\\n2328       24700\\n2329       75851\\n2330       69971\\n2331       27343\\n2332       47734\\n2333       15919\\n2334       58539\\n2335       57176\\n2336       29658\\n2337       69640\\n2338       52205\\n2339       52411\\n2340       24963\\n2341       37773\\n2342       76721\\n2343       27148\\n2344        9764\\n2345       22336\\n2346       49939\\n2347       16210\\n2348       33676\\n2349       44458\\n2350       13572\\n2351       28667\\n2352       24130\\n2353       31757\\n2354       28734\\n2355       77153\\n2356       26183\\n2357       19584\\n2358       42370\\n2359       24273\\n2360       38057\\n2361       41192\\n2362        7839\\n2363        8181\\n2364       23069\\n2365       75346\\n2366       16707\\n2367       30747\\n2368       59088\\n2369       73771\\n2370       39266\\n2371       85138\\n2372       28634\\n2373       70680\\n2374       35306\\n2375        8913\\n2376       17568\\n2377       35370\\n2378       64207\\n2379       47220\\n2380       28244\\n2381       15054\\n2382       62031\\n2383       40049\\n2384       14096\\n2385       62549\\n2386       54676\\n2387       97238\\n2388       63341\\n2389       29179\\n2390       16032\\n2391       65716\\n2392       60267\\n2393       23358\\n2394       19779\\n2395       19615\\n2396       54454\\n2397       89211\\n2398       10832\\n2399       25439\\n2400        9903\\n2401       55416\\n2402       10895\\n2403       86471\\n2404        6462\\n2405       15441\\n2406       28208\\n2407        7581\\n2408       19317'"
      ]
     },
     "execution_count": 492,
     "metadata": {},
     "output_type": "execute_result"
    }
   ],
   "source": [
    "data['Driven'].to_string()"
   ]
  },
  {
   "cell_type": "code",
   "execution_count": null,
   "id": "69a920d7",
   "metadata": {},
   "outputs": [],
   "source": []
  },
  {
   "cell_type": "code",
   "execution_count": null,
   "id": "1eac6e3d",
   "metadata": {},
   "outputs": [],
   "source": []
  },
  {
   "cell_type": "code",
   "execution_count": 493,
   "id": "96ccf656",
   "metadata": {},
   "outputs": [],
   "source": [
    "data['Driven']=pd.to_numeric(data['Driven'], errors='coerce')"
   ]
  },
  {
   "cell_type": "code",
   "execution_count": 494,
   "id": "27063fbd",
   "metadata": {},
   "outputs": [
    {
     "data": {
      "text/plain": [
       "Name            object\n",
       "Manufacture      int32\n",
       "Model           object\n",
       "Fuel            object\n",
       "Driven         float64\n",
       "Automatic       object\n",
       "Owner           object\n",
       "Location        object\n",
       "Price           object\n",
       "dtype: object"
      ]
     },
     "execution_count": 494,
     "metadata": {},
     "output_type": "execute_result"
    }
   ],
   "source": [
    "data.dtypes"
   ]
  },
  {
   "cell_type": "code",
   "execution_count": 495,
   "id": "3ea43ad6",
   "metadata": {},
   "outputs": [
    {
     "data": {
      "text/html": [
       "<div>\n",
       "<style scoped>\n",
       "    .dataframe tbody tr th:only-of-type {\n",
       "        vertical-align: middle;\n",
       "    }\n",
       "\n",
       "    .dataframe tbody tr th {\n",
       "        vertical-align: top;\n",
       "    }\n",
       "\n",
       "    .dataframe thead th {\n",
       "        text-align: right;\n",
       "    }\n",
       "</style>\n",
       "<table border=\"1\" class=\"dataframe\">\n",
       "  <thead>\n",
       "    <tr style=\"text-align: right;\">\n",
       "      <th></th>\n",
       "      <th>Name</th>\n",
       "      <th>Manufacture</th>\n",
       "      <th>Model</th>\n",
       "      <th>Fuel</th>\n",
       "      <th>Driven</th>\n",
       "      <th>Automatic</th>\n",
       "      <th>Owner</th>\n",
       "      <th>Location</th>\n",
       "      <th>Price</th>\n",
       "    </tr>\n",
       "  </thead>\n",
       "  <tbody>\n",
       "    <tr>\n",
       "      <th>0</th>\n",
       "      <td>Hyundai Verna</td>\n",
       "      <td>2019</td>\n",
       "      <td>1.6 SX VTVT (O)</td>\n",
       "      <td>Petrol</td>\n",
       "      <td>80631.0</td>\n",
       "      <td>Manual</td>\n",
       "      <td>1st Owner</td>\n",
       "      <td>HR</td>\n",
       "      <td>₹ 9,81,699</td>\n",
       "    </tr>\n",
       "    <tr>\n",
       "      <th>1</th>\n",
       "      <td>KIA SELTOS</td>\n",
       "      <td>2020</td>\n",
       "      <td>HTK PLUS 1.5 PETROL</td>\n",
       "      <td>Petrol</td>\n",
       "      <td>12981.0</td>\n",
       "      <td>Manual</td>\n",
       "      <td>2nd Owner</td>\n",
       "      <td>HR</td>\n",
       "      <td>₹ 11,55,299</td>\n",
       "    </tr>\n",
       "    <tr>\n",
       "      <th>2</th>\n",
       "      <td>Renault Kwid</td>\n",
       "      <td>2016</td>\n",
       "      <td>RXT</td>\n",
       "      <td>Petrol</td>\n",
       "      <td>22388.0</td>\n",
       "      <td>Manual</td>\n",
       "      <td>1st Owner</td>\n",
       "      <td>DL</td>\n",
       "      <td>₹ 2,79,799</td>\n",
       "    </tr>\n",
       "    <tr>\n",
       "      <th>3</th>\n",
       "      <td>Mercedes Benz C Class</td>\n",
       "      <td>2014</td>\n",
       "      <td>C 200 AVANTGARDE</td>\n",
       "      <td>Petrol</td>\n",
       "      <td>36806.0</td>\n",
       "      <td>Automatic</td>\n",
       "      <td>1st Owner</td>\n",
       "      <td>UP</td>\n",
       "      <td>₹ 21,33,299</td>\n",
       "    </tr>\n",
       "    <tr>\n",
       "      <th>4</th>\n",
       "      <td>KIA SELTOS</td>\n",
       "      <td>2020</td>\n",
       "      <td>HTX AT PETROL</td>\n",
       "      <td>Petrol</td>\n",
       "      <td>21784.0</td>\n",
       "      <td>Automatic</td>\n",
       "      <td>2nd Owner</td>\n",
       "      <td>HR</td>\n",
       "      <td>₹ 14,29,999</td>\n",
       "    </tr>\n",
       "  </tbody>\n",
       "</table>\n",
       "</div>"
      ],
      "text/plain": [
       "                    Name  Manufacture                Model    Fuel   Driven  \\\n",
       "0          Hyundai Verna         2019      1.6 SX VTVT (O)  Petrol  80631.0   \n",
       "1             KIA SELTOS         2020  HTK PLUS 1.5 PETROL  Petrol  12981.0   \n",
       "2           Renault Kwid         2016                  RXT  Petrol  22388.0   \n",
       "3  Mercedes Benz C Class         2014     C 200 AVANTGARDE  Petrol  36806.0   \n",
       "4             KIA SELTOS         2020        HTX AT PETROL  Petrol  21784.0   \n",
       "\n",
       "   Automatic      Owner Location        Price  \n",
       "0     Manual  1st Owner       HR   ₹ 9,81,699  \n",
       "1     Manual  2nd Owner       HR  ₹ 11,55,299  \n",
       "2     Manual  1st Owner       DL   ₹ 2,79,799  \n",
       "3  Automatic  1st Owner       UP  ₹ 21,33,299  \n",
       "4  Automatic  2nd Owner       HR  ₹ 14,29,999  "
      ]
     },
     "execution_count": 495,
     "metadata": {},
     "output_type": "execute_result"
    }
   ],
   "source": [
    "data.head()"
   ]
  },
  {
   "cell_type": "code",
   "execution_count": 496,
   "id": "75d2908a",
   "metadata": {},
   "outputs": [],
   "source": [
    "data['Price']=data['Price'].str.replace('₹','').str.replace(',','').astype('int')"
   ]
  },
  {
   "cell_type": "code",
   "execution_count": 497,
   "id": "ea122fe4",
   "metadata": {},
   "outputs": [
    {
     "data": {
      "text/plain": [
       "Name            object\n",
       "Manufacture      int32\n",
       "Model           object\n",
       "Fuel            object\n",
       "Driven         float64\n",
       "Automatic       object\n",
       "Owner           object\n",
       "Location        object\n",
       "Price            int32\n",
       "dtype: object"
      ]
     },
     "execution_count": 497,
     "metadata": {},
     "output_type": "execute_result"
    }
   ],
   "source": [
    "data.dtypes"
   ]
  },
  {
   "cell_type": "code",
   "execution_count": 498,
   "id": "b28f8627",
   "metadata": {},
   "outputs": [
    {
     "data": {
      "text/html": [
       "<div>\n",
       "<style scoped>\n",
       "    .dataframe tbody tr th:only-of-type {\n",
       "        vertical-align: middle;\n",
       "    }\n",
       "\n",
       "    .dataframe tbody tr th {\n",
       "        vertical-align: top;\n",
       "    }\n",
       "\n",
       "    .dataframe thead th {\n",
       "        text-align: right;\n",
       "    }\n",
       "</style>\n",
       "<table border=\"1\" class=\"dataframe\">\n",
       "  <thead>\n",
       "    <tr style=\"text-align: right;\">\n",
       "      <th></th>\n",
       "      <th>Name</th>\n",
       "      <th>Manufacture</th>\n",
       "      <th>Model</th>\n",
       "      <th>Fuel</th>\n",
       "      <th>Driven</th>\n",
       "      <th>Automatic</th>\n",
       "      <th>Owner</th>\n",
       "      <th>Location</th>\n",
       "      <th>Price</th>\n",
       "    </tr>\n",
       "  </thead>\n",
       "  <tbody>\n",
       "    <tr>\n",
       "      <th>0</th>\n",
       "      <td>Hyundai Verna</td>\n",
       "      <td>2019</td>\n",
       "      <td>1.6 SX VTVT (O)</td>\n",
       "      <td>Petrol</td>\n",
       "      <td>80631.0</td>\n",
       "      <td>Manual</td>\n",
       "      <td>1st Owner</td>\n",
       "      <td>HR</td>\n",
       "      <td>981699</td>\n",
       "    </tr>\n",
       "    <tr>\n",
       "      <th>1</th>\n",
       "      <td>KIA SELTOS</td>\n",
       "      <td>2020</td>\n",
       "      <td>HTK PLUS 1.5 PETROL</td>\n",
       "      <td>Petrol</td>\n",
       "      <td>12981.0</td>\n",
       "      <td>Manual</td>\n",
       "      <td>2nd Owner</td>\n",
       "      <td>HR</td>\n",
       "      <td>1155299</td>\n",
       "    </tr>\n",
       "    <tr>\n",
       "      <th>2</th>\n",
       "      <td>Renault Kwid</td>\n",
       "      <td>2016</td>\n",
       "      <td>RXT</td>\n",
       "      <td>Petrol</td>\n",
       "      <td>22388.0</td>\n",
       "      <td>Manual</td>\n",
       "      <td>1st Owner</td>\n",
       "      <td>DL</td>\n",
       "      <td>279799</td>\n",
       "    </tr>\n",
       "    <tr>\n",
       "      <th>3</th>\n",
       "      <td>Mercedes Benz C Class</td>\n",
       "      <td>2014</td>\n",
       "      <td>C 200 AVANTGARDE</td>\n",
       "      <td>Petrol</td>\n",
       "      <td>36806.0</td>\n",
       "      <td>Automatic</td>\n",
       "      <td>1st Owner</td>\n",
       "      <td>UP</td>\n",
       "      <td>2133299</td>\n",
       "    </tr>\n",
       "    <tr>\n",
       "      <th>4</th>\n",
       "      <td>KIA SELTOS</td>\n",
       "      <td>2020</td>\n",
       "      <td>HTX AT PETROL</td>\n",
       "      <td>Petrol</td>\n",
       "      <td>21784.0</td>\n",
       "      <td>Automatic</td>\n",
       "      <td>2nd Owner</td>\n",
       "      <td>HR</td>\n",
       "      <td>1429999</td>\n",
       "    </tr>\n",
       "  </tbody>\n",
       "</table>\n",
       "</div>"
      ],
      "text/plain": [
       "                    Name  Manufacture                Model    Fuel   Driven  \\\n",
       "0          Hyundai Verna         2019      1.6 SX VTVT (O)  Petrol  80631.0   \n",
       "1             KIA SELTOS         2020  HTK PLUS 1.5 PETROL  Petrol  12981.0   \n",
       "2           Renault Kwid         2016                  RXT  Petrol  22388.0   \n",
       "3  Mercedes Benz C Class         2014     C 200 AVANTGARDE  Petrol  36806.0   \n",
       "4             KIA SELTOS         2020        HTX AT PETROL  Petrol  21784.0   \n",
       "\n",
       "   Automatic      Owner Location    Price  \n",
       "0     Manual  1st Owner       HR   981699  \n",
       "1     Manual  2nd Owner       HR  1155299  \n",
       "2     Manual  1st Owner       DL   279799  \n",
       "3  Automatic  1st Owner       UP  2133299  \n",
       "4  Automatic  2nd Owner       HR  1429999  "
      ]
     },
     "execution_count": 498,
     "metadata": {},
     "output_type": "execute_result"
    }
   ],
   "source": [
    "data.head()"
   ]
  },
  {
   "cell_type": "code",
   "execution_count": 499,
   "id": "e22b18fa",
   "metadata": {},
   "outputs": [
    {
     "data": {
      "text/plain": [
       "array(['1st Owner', '2nd Owner', '3rd Owner', '1st', '2nd', 'Second',\n",
       "       '4+', '3rd', 'First', '4th', 'Third', 'Fourth', '--', '0th Owner'],\n",
       "      dtype=object)"
      ]
     },
     "execution_count": 499,
     "metadata": {},
     "output_type": "execute_result"
    }
   ],
   "source": [
    "data['Owner'].unique()"
   ]
  },
  {
   "cell_type": "code",
   "execution_count": 500,
   "id": "383be4f4",
   "metadata": {},
   "outputs": [],
   "source": [
    "data['Owner']=data['Owner'].replace({\"--\":0,\"0th Owner\":0,\"1st Owner\":1,\"1st\":1,\"First\":1,\"2nd Owner\":2,\"2nd\":2,\"Second\":2,\"3rd Owner\":3,\"3rd\":3,\"Third\":3,\"4+\":4,\"4th\":4,\"Fourth\":4   })"
   ]
  },
  {
   "cell_type": "code",
   "execution_count": 501,
   "id": "2980a79b",
   "metadata": {},
   "outputs": [
    {
     "data": {
      "text/html": [
       "<div>\n",
       "<style scoped>\n",
       "    .dataframe tbody tr th:only-of-type {\n",
       "        vertical-align: middle;\n",
       "    }\n",
       "\n",
       "    .dataframe tbody tr th {\n",
       "        vertical-align: top;\n",
       "    }\n",
       "\n",
       "    .dataframe thead th {\n",
       "        text-align: right;\n",
       "    }\n",
       "</style>\n",
       "<table border=\"1\" class=\"dataframe\">\n",
       "  <thead>\n",
       "    <tr style=\"text-align: right;\">\n",
       "      <th></th>\n",
       "      <th>Name</th>\n",
       "      <th>Manufacture</th>\n",
       "      <th>Model</th>\n",
       "      <th>Fuel</th>\n",
       "      <th>Driven</th>\n",
       "      <th>Automatic</th>\n",
       "      <th>Owner</th>\n",
       "      <th>Location</th>\n",
       "      <th>Price</th>\n",
       "    </tr>\n",
       "  </thead>\n",
       "  <tbody>\n",
       "    <tr>\n",
       "      <th>0</th>\n",
       "      <td>Hyundai Verna</td>\n",
       "      <td>2019</td>\n",
       "      <td>1.6 SX VTVT (O)</td>\n",
       "      <td>Petrol</td>\n",
       "      <td>80631.0</td>\n",
       "      <td>Manual</td>\n",
       "      <td>1</td>\n",
       "      <td>HR</td>\n",
       "      <td>981699</td>\n",
       "    </tr>\n",
       "    <tr>\n",
       "      <th>1</th>\n",
       "      <td>KIA SELTOS</td>\n",
       "      <td>2020</td>\n",
       "      <td>HTK PLUS 1.5 PETROL</td>\n",
       "      <td>Petrol</td>\n",
       "      <td>12981.0</td>\n",
       "      <td>Manual</td>\n",
       "      <td>2</td>\n",
       "      <td>HR</td>\n",
       "      <td>1155299</td>\n",
       "    </tr>\n",
       "    <tr>\n",
       "      <th>2</th>\n",
       "      <td>Renault Kwid</td>\n",
       "      <td>2016</td>\n",
       "      <td>RXT</td>\n",
       "      <td>Petrol</td>\n",
       "      <td>22388.0</td>\n",
       "      <td>Manual</td>\n",
       "      <td>1</td>\n",
       "      <td>DL</td>\n",
       "      <td>279799</td>\n",
       "    </tr>\n",
       "    <tr>\n",
       "      <th>3</th>\n",
       "      <td>Mercedes Benz C Class</td>\n",
       "      <td>2014</td>\n",
       "      <td>C 200 AVANTGARDE</td>\n",
       "      <td>Petrol</td>\n",
       "      <td>36806.0</td>\n",
       "      <td>Automatic</td>\n",
       "      <td>1</td>\n",
       "      <td>UP</td>\n",
       "      <td>2133299</td>\n",
       "    </tr>\n",
       "    <tr>\n",
       "      <th>4</th>\n",
       "      <td>KIA SELTOS</td>\n",
       "      <td>2020</td>\n",
       "      <td>HTX AT PETROL</td>\n",
       "      <td>Petrol</td>\n",
       "      <td>21784.0</td>\n",
       "      <td>Automatic</td>\n",
       "      <td>2</td>\n",
       "      <td>HR</td>\n",
       "      <td>1429999</td>\n",
       "    </tr>\n",
       "  </tbody>\n",
       "</table>\n",
       "</div>"
      ],
      "text/plain": [
       "                    Name  Manufacture                Model    Fuel   Driven  \\\n",
       "0          Hyundai Verna         2019      1.6 SX VTVT (O)  Petrol  80631.0   \n",
       "1             KIA SELTOS         2020  HTK PLUS 1.5 PETROL  Petrol  12981.0   \n",
       "2           Renault Kwid         2016                  RXT  Petrol  22388.0   \n",
       "3  Mercedes Benz C Class         2014     C 200 AVANTGARDE  Petrol  36806.0   \n",
       "4             KIA SELTOS         2020        HTX AT PETROL  Petrol  21784.0   \n",
       "\n",
       "   Automatic  Owner Location    Price  \n",
       "0     Manual      1       HR   981699  \n",
       "1     Manual      2       HR  1155299  \n",
       "2     Manual      1       DL   279799  \n",
       "3  Automatic      1       UP  2133299  \n",
       "4  Automatic      2       HR  1429999  "
      ]
     },
     "execution_count": 501,
     "metadata": {},
     "output_type": "execute_result"
    }
   ],
   "source": [
    "data.head()"
   ]
  },
  {
   "cell_type": "code",
   "execution_count": 502,
   "id": "f03535c9",
   "metadata": {},
   "outputs": [
    {
     "data": {
      "text/plain": [
       "array(['HR', 'DL', 'UP', 'TN', 'MH', 'RJ', 'KR', 'KE', 'CH', 'OD', 'MP',\n",
       "       'JK', 'AS', 'BI', 'HY', 'GU', 'PJ', 'AP', 'UK', 'WB', 'MA', 'JH',\n",
       "       'TE', 'Gu', '', 'TI', '11', 'GJ', '2 ', '5 ', '6 ', '8 ', 'KA',\n",
       "       '9 ', '1 ', '10', '12', 'TS', '3 ', '4 ', 'PB', '7 '], dtype=object)"
      ]
     },
     "execution_count": 502,
     "metadata": {},
     "output_type": "execute_result"
    }
   ],
   "source": [
    "data['Location'].unique()"
   ]
  },
  {
   "cell_type": "code",
   "execution_count": 503,
   "id": "3d2d2164",
   "metadata": {},
   "outputs": [
    {
     "data": {
      "text/plain": [
       "MH    710\n",
       "DL    382\n",
       "KA    263\n",
       "HR    227\n",
       "GJ    188\n",
       "UP    152\n",
       "TN    118\n",
       "WB    117\n",
       "KE     54\n",
       "PJ     34\n",
       "GU     20\n",
       "KR     19\n",
       "AP     16\n",
       "RJ     14\n",
       "BI     11\n",
       "HY     11\n",
       "MP      9\n",
       "UK      8\n",
       "OD      8\n",
       "JH      7\n",
       "AS      6\n",
       "        5\n",
       "6       3\n",
       "4       2\n",
       "1       2\n",
       "11      2\n",
       "TE      2\n",
       "5       2\n",
       "9       2\n",
       "10      2\n",
       "3       2\n",
       "JK      1\n",
       "Gu      1\n",
       "TS      1\n",
       "CH      1\n",
       "8       1\n",
       "MA      1\n",
       "2       1\n",
       "PB      1\n",
       "TI      1\n",
       "12      1\n",
       "7       1\n",
       "Name: Location, dtype: int64"
      ]
     },
     "execution_count": 503,
     "metadata": {},
     "output_type": "execute_result"
    }
   ],
   "source": [
    "data['Location'].value_counts()"
   ]
  },
  {
   "cell_type": "code",
   "execution_count": 504,
   "id": "19017bae",
   "metadata": {},
   "outputs": [
    {
     "data": {
      "text/plain": [
       "0    MH\n",
       "dtype: object"
      ]
     },
     "execution_count": 504,
     "metadata": {},
     "output_type": "execute_result"
    }
   ],
   "source": [
    "data['Location'].mode()"
   ]
  },
  {
   "cell_type": "code",
   "execution_count": 505,
   "id": "1e8b5f6f",
   "metadata": {},
   "outputs": [
    {
     "data": {
      "text/plain": [
       "Int64Index([677, 712, 737], dtype='int64')"
      ]
     },
     "execution_count": 505,
     "metadata": {},
     "output_type": "execute_result"
    }
   ],
   "source": [
    "data[data['Location']=='6 '].index"
   ]
  },
  {
   "cell_type": "code",
   "execution_count": 506,
   "id": "75258913",
   "metadata": {},
   "outputs": [
    {
     "data": {
      "text/plain": [
       "Int64Index([284, 322, 335, 373, 445], dtype='int64')"
      ]
     },
     "execution_count": 506,
     "metadata": {},
     "output_type": "execute_result"
    }
   ],
   "source": [
    "indices=data[data['Location']==''].index\n",
    "indices"
   ]
  },
  {
   "cell_type": "code",
   "execution_count": 507,
   "id": "9aa8f6e5",
   "metadata": {},
   "outputs": [],
   "source": [
    "data.loc[data[data['Location']=='6 '].index,'Location'] = 'MH'\n",
    "data.loc[data[data['Location']=='10'].index,'Location'] = 'MH'\n",
    "data.loc[data[data['Location']=='1 '].index,'Location'] = 'MH'\n",
    "data.loc[data[data['Location']=='11'].index,'Location'] = 'MH'\n",
    "data.loc[data[data['Location']=='4 '].index,'Location'] = 'MH'\n",
    "data.loc[data[data['Location']=='9 '].index,'Location'] = 'MH'\n",
    "data.loc[data[data['Location']=='5 '].index,'Location'] = 'MH'\n",
    "data.loc[data[data['Location']=='3 '].index,'Location'] = 'MH'\n",
    "data.loc[data[data['Location']=='7 '].index,'Location'] = 'MH'\n",
    "data.loc[data[data['Location']=='12'].index,'Location'] = 'MH'\n",
    "data.loc[data[data['Location']=='8 '].index,'Location'] = 'MH'\n",
    "data.loc[data[data['Location']=='2 '].index,'Location'] = 'MH'\n"
   ]
  },
  {
   "cell_type": "code",
   "execution_count": 508,
   "id": "5b547d4d",
   "metadata": {},
   "outputs": [
    {
     "data": {
      "text/plain": [
       "array(['HR', 'DL', 'UP', 'TN', 'MH', 'RJ', 'KR', 'KE', 'CH', 'OD', 'MP',\n",
       "       'JK', 'AS', 'BI', 'HY', 'GU', 'PJ', 'AP', 'UK', 'WB', 'MA', 'JH',\n",
       "       'TE', 'Gu', '', 'TI', 'GJ', 'KA', 'TS', 'PB'], dtype=object)"
      ]
     },
     "execution_count": 508,
     "metadata": {},
     "output_type": "execute_result"
    }
   ],
   "source": [
    "data['Location'].unique()"
   ]
  },
  {
   "cell_type": "code",
   "execution_count": 509,
   "id": "5741f875",
   "metadata": {},
   "outputs": [
    {
     "data": {
      "text/html": [
       "<div>\n",
       "<style scoped>\n",
       "    .dataframe tbody tr th:only-of-type {\n",
       "        vertical-align: middle;\n",
       "    }\n",
       "\n",
       "    .dataframe tbody tr th {\n",
       "        vertical-align: top;\n",
       "    }\n",
       "\n",
       "    .dataframe thead th {\n",
       "        text-align: right;\n",
       "    }\n",
       "</style>\n",
       "<table border=\"1\" class=\"dataframe\">\n",
       "  <thead>\n",
       "    <tr style=\"text-align: right;\">\n",
       "      <th></th>\n",
       "      <th>Name</th>\n",
       "      <th>Manufacture</th>\n",
       "      <th>Model</th>\n",
       "      <th>Fuel</th>\n",
       "      <th>Driven</th>\n",
       "      <th>Automatic</th>\n",
       "      <th>Owner</th>\n",
       "      <th>Location</th>\n",
       "      <th>Price</th>\n",
       "    </tr>\n",
       "  </thead>\n",
       "  <tbody>\n",
       "    <tr>\n",
       "      <th>0</th>\n",
       "      <td>Hyundai Verna</td>\n",
       "      <td>2019</td>\n",
       "      <td>1.6 SX VTVT (O)</td>\n",
       "      <td>Petrol</td>\n",
       "      <td>80631.0</td>\n",
       "      <td>Manual</td>\n",
       "      <td>1</td>\n",
       "      <td>HR</td>\n",
       "      <td>981699</td>\n",
       "    </tr>\n",
       "    <tr>\n",
       "      <th>1</th>\n",
       "      <td>KIA SELTOS</td>\n",
       "      <td>2020</td>\n",
       "      <td>HTK PLUS 1.5 PETROL</td>\n",
       "      <td>Petrol</td>\n",
       "      <td>12981.0</td>\n",
       "      <td>Manual</td>\n",
       "      <td>2</td>\n",
       "      <td>HR</td>\n",
       "      <td>1155299</td>\n",
       "    </tr>\n",
       "    <tr>\n",
       "      <th>2</th>\n",
       "      <td>Renault Kwid</td>\n",
       "      <td>2016</td>\n",
       "      <td>RXT</td>\n",
       "      <td>Petrol</td>\n",
       "      <td>22388.0</td>\n",
       "      <td>Manual</td>\n",
       "      <td>1</td>\n",
       "      <td>DL</td>\n",
       "      <td>279799</td>\n",
       "    </tr>\n",
       "    <tr>\n",
       "      <th>3</th>\n",
       "      <td>Mercedes Benz C Class</td>\n",
       "      <td>2014</td>\n",
       "      <td>C 200 AVANTGARDE</td>\n",
       "      <td>Petrol</td>\n",
       "      <td>36806.0</td>\n",
       "      <td>Automatic</td>\n",
       "      <td>1</td>\n",
       "      <td>UP</td>\n",
       "      <td>2133299</td>\n",
       "    </tr>\n",
       "    <tr>\n",
       "      <th>4</th>\n",
       "      <td>KIA SELTOS</td>\n",
       "      <td>2020</td>\n",
       "      <td>HTX AT PETROL</td>\n",
       "      <td>Petrol</td>\n",
       "      <td>21784.0</td>\n",
       "      <td>Automatic</td>\n",
       "      <td>2</td>\n",
       "      <td>HR</td>\n",
       "      <td>1429999</td>\n",
       "    </tr>\n",
       "  </tbody>\n",
       "</table>\n",
       "</div>"
      ],
      "text/plain": [
       "                    Name  Manufacture                Model    Fuel   Driven  \\\n",
       "0          Hyundai Verna         2019      1.6 SX VTVT (O)  Petrol  80631.0   \n",
       "1             KIA SELTOS         2020  HTK PLUS 1.5 PETROL  Petrol  12981.0   \n",
       "2           Renault Kwid         2016                  RXT  Petrol  22388.0   \n",
       "3  Mercedes Benz C Class         2014     C 200 AVANTGARDE  Petrol  36806.0   \n",
       "4             KIA SELTOS         2020        HTX AT PETROL  Petrol  21784.0   \n",
       "\n",
       "   Automatic  Owner Location    Price  \n",
       "0     Manual      1       HR   981699  \n",
       "1     Manual      2       HR  1155299  \n",
       "2     Manual      1       DL   279799  \n",
       "3  Automatic      1       UP  2133299  \n",
       "4  Automatic      2       HR  1429999  "
      ]
     },
     "execution_count": 509,
     "metadata": {},
     "output_type": "execute_result"
    }
   ],
   "source": [
    "# In Location feature few columns have not correct data.\n",
    "\n",
    "data.head()"
   ]
  },
  {
   "cell_type": "code",
   "execution_count": 510,
   "id": "03804e0a",
   "metadata": {},
   "outputs": [
    {
     "name": "stdout",
     "output_type": "stream",
     "text": [
      "<class 'pandas.core.frame.DataFrame'>\n",
      "RangeIndex: 2409 entries, 0 to 2408\n",
      "Data columns (total 9 columns):\n",
      " #   Column       Non-Null Count  Dtype  \n",
      "---  ------       --------------  -----  \n",
      " 0   Name         2409 non-null   object \n",
      " 1   Manufacture  2409 non-null   int32  \n",
      " 2   Model        2409 non-null   object \n",
      " 3   Fuel         2409 non-null   object \n",
      " 4   Driven       2405 non-null   float64\n",
      " 5   Automatic    2409 non-null   object \n",
      " 6   Owner        2409 non-null   int64  \n",
      " 7   Location     2409 non-null   object \n",
      " 8   Price        2409 non-null   int32  \n",
      "dtypes: float64(1), int32(2), int64(1), object(5)\n",
      "memory usage: 150.7+ KB\n"
     ]
    }
   ],
   "source": [
    "data.info()"
   ]
  },
  {
   "cell_type": "code",
   "execution_count": 511,
   "id": "aba0faff",
   "metadata": {},
   "outputs": [
    {
     "data": {
      "text/html": [
       "<div>\n",
       "<style scoped>\n",
       "    .dataframe tbody tr th:only-of-type {\n",
       "        vertical-align: middle;\n",
       "    }\n",
       "\n",
       "    .dataframe tbody tr th {\n",
       "        vertical-align: top;\n",
       "    }\n",
       "\n",
       "    .dataframe thead th {\n",
       "        text-align: right;\n",
       "    }\n",
       "</style>\n",
       "<table border=\"1\" class=\"dataframe\">\n",
       "  <thead>\n",
       "    <tr style=\"text-align: right;\">\n",
       "      <th></th>\n",
       "      <th>Name</th>\n",
       "      <th>Manufacture</th>\n",
       "      <th>Model</th>\n",
       "      <th>Fuel</th>\n",
       "      <th>Driven</th>\n",
       "      <th>Automatic</th>\n",
       "      <th>Owner</th>\n",
       "      <th>Location</th>\n",
       "      <th>Price</th>\n",
       "    </tr>\n",
       "  </thead>\n",
       "  <tbody>\n",
       "    <tr>\n",
       "      <th>248</th>\n",
       "      <td>Maruti Suzuki 800</td>\n",
       "      <td>2003</td>\n",
       "      <td>EX</td>\n",
       "      <td>PETROL</td>\n",
       "      <td>NaN</td>\n",
       "      <td>MANUAL</td>\n",
       "      <td>0</td>\n",
       "      <td>OD</td>\n",
       "      <td>40000</td>\n",
       "    </tr>\n",
       "    <tr>\n",
       "      <th>332</th>\n",
       "      <td>Maruti Suzuki Alto</td>\n",
       "      <td>2005</td>\n",
       "      <td>2000-2005 LXI</td>\n",
       "      <td>PETROL</td>\n",
       "      <td>NaN</td>\n",
       "      <td>MANUAL</td>\n",
       "      <td>1</td>\n",
       "      <td>PJ</td>\n",
       "      <td>60000</td>\n",
       "    </tr>\n",
       "    <tr>\n",
       "      <th>339</th>\n",
       "      <td>Maruti Suzuki 800</td>\n",
       "      <td>2007</td>\n",
       "      <td>AC</td>\n",
       "      <td>PETROL</td>\n",
       "      <td>NaN</td>\n",
       "      <td>MANUAL</td>\n",
       "      <td>0</td>\n",
       "      <td>OD</td>\n",
       "      <td>60000</td>\n",
       "    </tr>\n",
       "    <tr>\n",
       "      <th>440</th>\n",
       "      <td>Maruti Suzuki Omni</td>\n",
       "      <td>2011</td>\n",
       "      <td>LPG BS-III</td>\n",
       "      <td>LPG</td>\n",
       "      <td>NaN</td>\n",
       "      <td>MANUAL</td>\n",
       "      <td>2</td>\n",
       "      <td>RJ</td>\n",
       "      <td>140000</td>\n",
       "    </tr>\n",
       "  </tbody>\n",
       "</table>\n",
       "</div>"
      ],
      "text/plain": [
       "                    Name  Manufacture          Model    Fuel  Driven  \\\n",
       "248   Maruti Suzuki 800          2003             EX  PETROL     NaN   \n",
       "332  Maruti Suzuki Alto          2005  2000-2005 LXI  PETROL     NaN   \n",
       "339   Maruti Suzuki 800          2007             AC  PETROL     NaN   \n",
       "440  Maruti Suzuki Omni          2011     LPG BS-III     LPG     NaN   \n",
       "\n",
       "    Automatic  Owner Location   Price  \n",
       "248    MANUAL      0       OD   40000  \n",
       "332    MANUAL      1       PJ   60000  \n",
       "339    MANUAL      0       OD   60000  \n",
       "440    MANUAL      2       RJ  140000  "
      ]
     },
     "execution_count": 511,
     "metadata": {},
     "output_type": "execute_result"
    }
   ],
   "source": [
    "data[data['Driven'].isnull()]"
   ]
  },
  {
   "cell_type": "code",
   "execution_count": 512,
   "id": "843f04dd",
   "metadata": {},
   "outputs": [
    {
     "data": {
      "text/html": [
       "<div>\n",
       "<style scoped>\n",
       "    .dataframe tbody tr th:only-of-type {\n",
       "        vertical-align: middle;\n",
       "    }\n",
       "\n",
       "    .dataframe tbody tr th {\n",
       "        vertical-align: top;\n",
       "    }\n",
       "\n",
       "    .dataframe thead th {\n",
       "        text-align: right;\n",
       "    }\n",
       "</style>\n",
       "<table border=\"1\" class=\"dataframe\">\n",
       "  <thead>\n",
       "    <tr style=\"text-align: right;\">\n",
       "      <th></th>\n",
       "      <th>Manufacture</th>\n",
       "      <th>Driven</th>\n",
       "      <th>Owner</th>\n",
       "      <th>Price</th>\n",
       "    </tr>\n",
       "  </thead>\n",
       "  <tbody>\n",
       "    <tr>\n",
       "      <th>Manufacture</th>\n",
       "      <td>1.000000</td>\n",
       "      <td>-0.466387</td>\n",
       "      <td>-0.411161</td>\n",
       "      <td>0.370071</td>\n",
       "    </tr>\n",
       "    <tr>\n",
       "      <th>Driven</th>\n",
       "      <td>-0.466387</td>\n",
       "      <td>1.000000</td>\n",
       "      <td>0.312309</td>\n",
       "      <td>-0.137347</td>\n",
       "    </tr>\n",
       "    <tr>\n",
       "      <th>Owner</th>\n",
       "      <td>-0.411161</td>\n",
       "      <td>0.312309</td>\n",
       "      <td>1.000000</td>\n",
       "      <td>-0.133390</td>\n",
       "    </tr>\n",
       "    <tr>\n",
       "      <th>Price</th>\n",
       "      <td>0.370071</td>\n",
       "      <td>-0.137347</td>\n",
       "      <td>-0.133390</td>\n",
       "      <td>1.000000</td>\n",
       "    </tr>\n",
       "  </tbody>\n",
       "</table>\n",
       "</div>"
      ],
      "text/plain": [
       "             Manufacture    Driven     Owner     Price\n",
       "Manufacture     1.000000 -0.466387 -0.411161  0.370071\n",
       "Driven         -0.466387  1.000000  0.312309 -0.137347\n",
       "Owner          -0.411161  0.312309  1.000000 -0.133390\n",
       "Price           0.370071 -0.137347 -0.133390  1.000000"
      ]
     },
     "execution_count": 512,
     "metadata": {},
     "output_type": "execute_result"
    }
   ],
   "source": [
    "# Driven means km already runned is a important factor to determins price\n",
    "\n",
    "data.corr()"
   ]
  },
  {
   "cell_type": "code",
   "execution_count": 513,
   "id": "62f37547",
   "metadata": {},
   "outputs": [
    {
     "data": {
      "text/plain": [
       "<AxesSubplot:>"
      ]
     },
     "execution_count": 513,
     "metadata": {},
     "output_type": "execute_result"
    },
    {
     "data": {
      "image/png": "[encoded data removed]",
      "text/plain": [
       "<Figure size 432x288 with 2 Axes>"
      ]
     },
     "metadata": {
      "needs_background": "light"
     },
     "output_type": "display_data"
    }
   ],
   "source": [
    "sns.heatmap(data.corr(), annot=True)"
   ]
  },
  {
   "cell_type": "code",
   "execution_count": 514,
   "id": "071ed75c",
   "metadata": {},
   "outputs": [
    {
     "data": {
      "text/plain": [
       "array(['Hyundai Verna', 'KIA SELTOS', 'Renault Kwid',\n",
       "       'Mercedes Benz C Class', 'Maruti Baleno', 'Maruti Wagon R 1.0',\n",
       "       'Hyundai i10', 'Jaguar XF', 'Maruti Alto 800', 'Maruti Alto K10',\n",
       "       'Maruti Swift', 'Jeep Compass', 'Hyundai VENUE', 'MG HECTOR PLUS',\n",
       "       'Hyundai Elite i20', 'Nissan Micra', 'Honda City', 'Renault Kiger',\n",
       "       'Maruti Ciaz', 'Skoda Rapid', 'Toyota Fortuner', 'Hyundai i20',\n",
       "       'Hyundai Grand i10', 'Mercedes Benz E Class',\n",
       "       'Toyota URBAN CRUISER', 'Datsun Redi Go', 'Maruti Vitara Brezza',\n",
       "       'Renault Duster', 'Honda CRV', 'MG HECTOR', 'Hyundai Creta',\n",
       "       'Tata Tiago', 'Toyota Innova', 'Honda Jazz',\n",
       "       'Mahindra KUV 100 NXT', 'Mahindra Thar', 'Maruti Suzuki Swift ',\n",
       "       'Renault Duster ', 'Maruti Suzuki Celerio ', 'Ford Figo ',\n",
       "       'Maruti Suzuki Ertiga ', 'Maruti Suzuki Omni ',\n",
       "       'Maruti Suzuki 800 ', 'Maruti Suzuki Ciaz ', 'Mahindra Xuv500 ',\n",
       "       'Mahindra Bolero ', 'Hyundai Elite I20 ', 'Mercedes-Benz E-Class ',\n",
       "       'Toyota Innova ', 'Maruti Suzuki Eeco ', 'Hyundai I20 ',\n",
       "       'Honda Wr-V ', 'Renault Kwid ', 'Honda Jazz ', 'Renault Lodgy ',\n",
       "       'Hyundai Fluidic Verna ', 'Toyota Innova Crysta ',\n",
       "       'Maruti Suzuki Baleno ', 'Honda Amaze ', 'Nissan Terrano ',\n",
       "       'Honda City Zx ', 'Hyundai I10 ', 'Audi Q3 ', 'Honda Brio ',\n",
       "       'Maruti Suzuki Wagon R 1.0 ', 'Hyundai Sonata ', 'Nissan Micra ',\n",
       "       'Maruti Suzuki Grand Vitara ', 'Honda City ', 'Maruti Suzuki Zen ',\n",
       "       'Maruti Suzuki Alto ', 'Jeep Compass ', 'Hyundai Santro Xing ',\n",
       "       'Maruti Suzuki Wagon R Duo ', 'Mahindra Marazzo ',\n",
       "       'Mahindra Tuv 300 ', 'Mahindra Scorpio ', 'Hyundai Accent ',\n",
       "       'San Storm ', 'Fiat Grande Punto ', 'Tata Nexon ',\n",
       "       'Force Motors Trax Cruiser ', 'Tata Indica ', 'Maruti Suzuki Sx4 ',\n",
       "       'Maruti Suzuki Wagon R ', 'Maruti Suzuki Swift Dzire ',\n",
       "       'Toyota Fortuner ', 'Maruti Suzuki Ritz ', 'Toyota Etios Cross ',\n",
       "       'Hyundai Eon ', 'Maruti Suzuki Versa ', 'Maruti Suzuki Ignis ',\n",
       "       'Maruti Suzuki Alto 800 ', 'Renault Fluence ',\n",
       "       'Toyota Corolla Altis ', 'Hyundai Creta ', 'Chevrolet Spark ',\n",
       "       'Mahindra Xylo ', 'Mg Hector ', 'Toyota Etios ',\n",
       "       'Chevrolet Tavera ', 'Porsche Cayman ', 'Volkswagen Polo ',\n",
       "       'Maruti Suzuki A-Star ', 'Mercedes-Benz New C-Class ',\n",
       "       'Nissan Datsun Redi Go ', 'Tata Hexa ', 'Hyundai Grand I 10 ',\n",
       "       'Jaguar Xf ', 'Renault Pulse ', 'Honda Cr-V ', 'Chevrolet Beat ',\n",
       "       'Force Motors Force One ', 'Tata Safari ', 'Ford Figo Aspire ',\n",
       "       'Ford Fiesta Classic ', 'Audi A4 ', 'Tata Vista ',\n",
       "       'Hyundai Venue ', 'Hyundai Verna ', 'Hyundai Grand I10 ',\n",
       "       'Tata Manza ', 'Honda Civic ', 'Chevrolet Enjoy ',\n",
       "       'Tata Indigo Ecs ', 'Mercedes-Benz Gla ', 'Toyota Glanza ',\n",
       "       'Nissan Sunny ', 'Ford Endeavour ', 'Ford Ecosport ',\n",
       "       'Toyota Qualis ', 'Jeep Wrangler ', 'Skoda Rapid ',\n",
       "       'Tata Sumo Grande Mk Ii ', 'Tata Indica V2 ', 'Mahindra Thar ',\n",
       "       'Renault Scala ', 'Volkswagen Vento ', 'Tata Indica Vista ',\n",
       "       'Mercedes-Benz C-Class ', 'Maruti Suzuki Vitara Brezza ',\n",
       "       'Datsun Go ', 'Mercedes-Benz Glc Class ', 'Bmw 3 Series ',\n",
       "       'Hyundai Santa Fe ', 'Hyundai Getz ', 'Hummer H3 ',\n",
       "       'Chevrolet Sail U-Va ', 'Maruti Suzuki 1000 ', 'Tata Tiago Nrg ',\n",
       "       'Hindustan Motors Ambassador ', 'Mg Astor ',\n",
       "       'Mahindra Bolero Power Plus ', 'Maruti Suzuki Zen Estilo ',\n",
       "       'Bmw 5 Series ', 'Maruti Suzuki Alto K10 ', 'Bmw X1 ',\n",
       "       'Maruti Suzuki Xl6 ', 'Hyundai Xcent ', 'Mahindra Jeep ',\n",
       "       'Maruti Suzuki Wagon R Stingray ', 'Toyota Corolla ', 'Audi A6 ',\n",
       "       'Mercedes-Benz Cla ', 'Mahindra Xuv300 ', 'Ford Fiesta ',\n",
       "       'Volvo S60 ', 'Kia Seltos ', 'Maruti Suzuki Swift Dzire Tour ',\n",
       "       'Tata Nano ', 'Maruti Suzuki S-Presso ', 'Mercedes-Benz Sl-Class ',\n",
       "       'Maruti Suzuki S Cross ', 'Ford Aspire ', 'Bmw 7 Series ',\n",
       "       'Hyundai Elantra ', 'Mercedes-Benz Gle Class ', 'Jaguar Xj ',\n",
       "       'Mercedes Benz C Class ', 'Honda New Accord ', 'Volkswagen Polo',\n",
       "       'Honda Brio', 'Maruti Ertiga', 'Renault Triber', 'Tata Nexon',\n",
       "       'Maruti SX4 S Cross', 'Honda Amaze', 'Datsun GO Plus',\n",
       "       'Nissan Micra Active', 'Honda WR-V', 'Volkswagen Ameo',\n",
       "       'Mahindra Bolero', 'Mahindra XUV500', 'Mahindra Marazzo',\n",
       "       'Mahindra XUV300', 'Maruti Swift Dzire', 'Nissan Terrano',\n",
       "       'Maruti Wagon R Stingray', 'Mahindra Scorpio', 'Renault KWID',\n",
       "       'Volkswagen Vento', 'Hyundai Tucson', 'MG Hector', 'Tata Tigor',\n",
       "       'Hyundai Grand i10 Nios', 'Datsun RediGO', 'Hyundai EON',\n",
       "       'Maruti Wagon R', 'Hyundai Xcent', 'Toyota Innova Crysta',\n",
       "       'Maruti Ignis', 'Nissan Sunny', 'Mahindra KUV 100', 'Honda CR-V',\n",
       "       'Renault Lodgy', 'Datsun GO', 'Nissan Magnite', 'Honda Mobilio',\n",
       "       'Toyota Camry', 'Tata Zest', 'Hyundai Venue', 'Toyota Yaris',\n",
       "       'Nissan Kicks', 'MG Hector Plus', 'Toyota Urban cruiser',\n",
       "       'Maruti Baleno RS', 'Hyundai Santro', 'Maruti Celerio',\n",
       "       'Tata Harrier', 'Kia Seltos', 'Toyota Corolla Altis',\n",
       "       'Tata Altroz', 'Maruti Ritz', 'Hyundai i20 Active', 'Honda Accord',\n",
       "       'Skoda Octavia', 'Mahindra TUV 300', 'Renault Fluence',\n",
       "       'Toyota Etios', 'Hyundai Aura', 'Tata Nano', 'Maruti S-Presso',\n",
       "       'Renault Captur', 'Ford Figo', 'Hyundai Elantra',\n",
       "       'Hyundai Alcazar', 'Maruti Alto', 'Tata Hexa', 'Toyota Etios Liva',\n",
       "       'Maruti Celerio X', 'Mahindra Bolero Power Plus', 'Honda BR-V',\n",
       "       'Toyota Glanza', 'Maruti XL6', 'Honda Civic', 'Maruti Zen Estilo',\n",
       "       'Skoda Fabia', 'Skoda Superb', 'Toyota Etios 2014-2016',\n",
       "       'Ford Ecosport'], dtype=object)"
      ]
     },
     "execution_count": 514,
     "metadata": {},
     "output_type": "execute_result"
    }
   ],
   "source": [
    "# extract company name because brand always matters\n",
    "\n",
    "data['Name'].unique()"
   ]
  },
  {
   "cell_type": "code",
   "execution_count": 515,
   "id": "ca124df5",
   "metadata": {},
   "outputs": [],
   "source": [
    "data['Brand']=data['Name'].str.split(' ').str.slice(0,1).str.join(' ')"
   ]
  },
  {
   "cell_type": "code",
   "execution_count": 516,
   "id": "6df2b50f",
   "metadata": {},
   "outputs": [
    {
     "data": {
      "text/html": [
       "<div>\n",
       "<style scoped>\n",
       "    .dataframe tbody tr th:only-of-type {\n",
       "        vertical-align: middle;\n",
       "    }\n",
       "\n",
       "    .dataframe tbody tr th {\n",
       "        vertical-align: top;\n",
       "    }\n",
       "\n",
       "    .dataframe thead th {\n",
       "        text-align: right;\n",
       "    }\n",
       "</style>\n",
       "<table border=\"1\" class=\"dataframe\">\n",
       "  <thead>\n",
       "    <tr style=\"text-align: right;\">\n",
       "      <th></th>\n",
       "      <th>Name</th>\n",
       "      <th>Manufacture</th>\n",
       "      <th>Model</th>\n",
       "      <th>Fuel</th>\n",
       "      <th>Driven</th>\n",
       "      <th>Automatic</th>\n",
       "      <th>Owner</th>\n",
       "      <th>Location</th>\n",
       "      <th>Price</th>\n",
       "      <th>Brand</th>\n",
       "    </tr>\n",
       "  </thead>\n",
       "  <tbody>\n",
       "    <tr>\n",
       "      <th>0</th>\n",
       "      <td>Hyundai Verna</td>\n",
       "      <td>2019</td>\n",
       "      <td>1.6 SX VTVT (O)</td>\n",
       "      <td>Petrol</td>\n",
       "      <td>80631.0</td>\n",
       "      <td>Manual</td>\n",
       "      <td>1</td>\n",
       "      <td>HR</td>\n",
       "      <td>981699</td>\n",
       "      <td>Hyundai</td>\n",
       "    </tr>\n",
       "    <tr>\n",
       "      <th>1</th>\n",
       "      <td>KIA SELTOS</td>\n",
       "      <td>2020</td>\n",
       "      <td>HTK PLUS 1.5 PETROL</td>\n",
       "      <td>Petrol</td>\n",
       "      <td>12981.0</td>\n",
       "      <td>Manual</td>\n",
       "      <td>2</td>\n",
       "      <td>HR</td>\n",
       "      <td>1155299</td>\n",
       "      <td>KIA</td>\n",
       "    </tr>\n",
       "    <tr>\n",
       "      <th>2</th>\n",
       "      <td>Renault Kwid</td>\n",
       "      <td>2016</td>\n",
       "      <td>RXT</td>\n",
       "      <td>Petrol</td>\n",
       "      <td>22388.0</td>\n",
       "      <td>Manual</td>\n",
       "      <td>1</td>\n",
       "      <td>DL</td>\n",
       "      <td>279799</td>\n",
       "      <td>Renault</td>\n",
       "    </tr>\n",
       "    <tr>\n",
       "      <th>3</th>\n",
       "      <td>Mercedes Benz C Class</td>\n",
       "      <td>2014</td>\n",
       "      <td>C 200 AVANTGARDE</td>\n",
       "      <td>Petrol</td>\n",
       "      <td>36806.0</td>\n",
       "      <td>Automatic</td>\n",
       "      <td>1</td>\n",
       "      <td>UP</td>\n",
       "      <td>2133299</td>\n",
       "      <td>Mercedes</td>\n",
       "    </tr>\n",
       "    <tr>\n",
       "      <th>4</th>\n",
       "      <td>KIA SELTOS</td>\n",
       "      <td>2020</td>\n",
       "      <td>HTX AT PETROL</td>\n",
       "      <td>Petrol</td>\n",
       "      <td>21784.0</td>\n",
       "      <td>Automatic</td>\n",
       "      <td>2</td>\n",
       "      <td>HR</td>\n",
       "      <td>1429999</td>\n",
       "      <td>KIA</td>\n",
       "    </tr>\n",
       "  </tbody>\n",
       "</table>\n",
       "</div>"
      ],
      "text/plain": [
       "                    Name  Manufacture                Model    Fuel   Driven  \\\n",
       "0          Hyundai Verna         2019      1.6 SX VTVT (O)  Petrol  80631.0   \n",
       "1             KIA SELTOS         2020  HTK PLUS 1.5 PETROL  Petrol  12981.0   \n",
       "2           Renault Kwid         2016                  RXT  Petrol  22388.0   \n",
       "3  Mercedes Benz C Class         2014     C 200 AVANTGARDE  Petrol  36806.0   \n",
       "4             KIA SELTOS         2020        HTX AT PETROL  Petrol  21784.0   \n",
       "\n",
       "   Automatic  Owner Location    Price     Brand  \n",
       "0     Manual      1       HR   981699   Hyundai  \n",
       "1     Manual      2       HR  1155299       KIA  \n",
       "2     Manual      1       DL   279799   Renault  \n",
       "3  Automatic      1       UP  2133299  Mercedes  \n",
       "4  Automatic      2       HR  1429999       KIA  "
      ]
     },
     "execution_count": 516,
     "metadata": {},
     "output_type": "execute_result"
    }
   ],
   "source": [
    "data.head()"
   ]
  },
  {
   "cell_type": "code",
   "execution_count": 517,
   "id": "d50e9dac",
   "metadata": {},
   "outputs": [
    {
     "data": {
      "text/plain": [
       "array(['Hyundai', 'KIA', 'Renault', 'Mercedes', 'Maruti', 'Jaguar',\n",
       "       'Jeep', 'MG', 'Nissan', 'Honda', 'Skoda', 'Toyota', 'Datsun',\n",
       "       'Tata', 'Mahindra', 'Ford', 'Mercedes-Benz', 'Audi', 'San', 'Fiat',\n",
       "       'Force', 'Chevrolet', 'Mg', 'Porsche', 'Volkswagen', 'Bmw',\n",
       "       'Hummer', 'Hindustan', 'Volvo', 'Kia'], dtype=object)"
      ]
     },
     "execution_count": 517,
     "metadata": {},
     "output_type": "execute_result"
    }
   ],
   "source": [
    "data['Brand'].unique()"
   ]
  },
  {
   "cell_type": "code",
   "execution_count": 518,
   "id": "db9e06e0",
   "metadata": {},
   "outputs": [],
   "source": [
    "data['Brand']=data['Brand'].replace('Kia','KIA')\n",
    "data['Brand']=data['Brand'].replace('Mg','MG')\n",
    "data['Brand']=data['Brand'].replace('Mercedes-Benz','Mercedes')"
   ]
  },
  {
   "cell_type": "code",
   "execution_count": 519,
   "id": "e2d31b44",
   "metadata": {},
   "outputs": [
    {
     "data": {
      "text/plain": [
       "array([2019, 2020, 2016, 2014, 2018, 2011, 2013, 2009, 2021, 2010, 2015,\n",
       "       2017, 2002, 2012, 2007, 2008, 2006, 2004, 2003, 2005, 2001, 1998,\n",
       "       2022, 1990, 2000, 1996])"
      ]
     },
     "execution_count": 519,
     "metadata": {},
     "output_type": "execute_result"
    }
   ],
   "source": [
    "data['Manufacture'].unique()"
   ]
  },
  {
   "cell_type": "code",
   "execution_count": 520,
   "id": "384106cd",
   "metadata": {},
   "outputs": [
    {
     "data": {
      "text/plain": [
       "856"
      ]
     },
     "execution_count": 520,
     "metadata": {},
     "output_type": "execute_result"
    }
   ],
   "source": [
    "data['Model'].nunique()"
   ]
  },
  {
   "cell_type": "code",
   "execution_count": 521,
   "id": "f972b307",
   "metadata": {},
   "outputs": [],
   "source": [
    "# Model have 856 unique categories,"
   ]
  },
  {
   "cell_type": "code",
   "execution_count": 522,
   "id": "5eed6acd",
   "metadata": {},
   "outputs": [
    {
     "data": {
      "text/plain": [
       "array(['Petrol', 'Diesel', 'PETROL', 'DIESEL', 'ELECTRIC',\n",
       "       'CNG & HYBRIDS', 'CNG', 'LPG', '--'], dtype=object)"
      ]
     },
     "execution_count": 522,
     "metadata": {},
     "output_type": "execute_result"
    }
   ],
   "source": [
    "data['Fuel'].unique()"
   ]
  },
  {
   "cell_type": "code",
   "execution_count": 523,
   "id": "56d383e5",
   "metadata": {},
   "outputs": [],
   "source": [
    "data['Fuel']=data['Fuel'].replace('PETROL','Petrol')\n",
    "data['Fuel']=data['Fuel'].replace('DIESEL','Diesel')\n"
   ]
  },
  {
   "cell_type": "code",
   "execution_count": 524,
   "id": "53c549c5",
   "metadata": {},
   "outputs": [
    {
     "data": {
      "text/plain": [
       "array(['Petrol', 'Diesel', 'ELECTRIC', 'CNG & HYBRIDS', 'CNG', 'LPG',\n",
       "       '--'], dtype=object)"
      ]
     },
     "execution_count": 524,
     "metadata": {},
     "output_type": "execute_result"
    }
   ],
   "source": [
    "data['Fuel'].unique()"
   ]
  },
  {
   "cell_type": "code",
   "execution_count": 525,
   "id": "1c7c96f3",
   "metadata": {},
   "outputs": [
    {
     "data": {
      "text/html": [
       "<div>\n",
       "<style scoped>\n",
       "    .dataframe tbody tr th:only-of-type {\n",
       "        vertical-align: middle;\n",
       "    }\n",
       "\n",
       "    .dataframe tbody tr th {\n",
       "        vertical-align: top;\n",
       "    }\n",
       "\n",
       "    .dataframe thead th {\n",
       "        text-align: right;\n",
       "    }\n",
       "</style>\n",
       "<table border=\"1\" class=\"dataframe\">\n",
       "  <thead>\n",
       "    <tr style=\"text-align: right;\">\n",
       "      <th></th>\n",
       "      <th>Name</th>\n",
       "      <th>Manufacture</th>\n",
       "      <th>Model</th>\n",
       "      <th>Fuel</th>\n",
       "      <th>Driven</th>\n",
       "      <th>Automatic</th>\n",
       "      <th>Owner</th>\n",
       "      <th>Location</th>\n",
       "      <th>Price</th>\n",
       "      <th>Brand</th>\n",
       "    </tr>\n",
       "  </thead>\n",
       "  <tbody>\n",
       "    <tr>\n",
       "      <th>343</th>\n",
       "      <td>Nissan Terrano</td>\n",
       "      <td>2015</td>\n",
       "      <td>Others</td>\n",
       "      <td>--</td>\n",
       "      <td>60000.0</td>\n",
       "      <td>MANUAL</td>\n",
       "      <td>1</td>\n",
       "      <td>MH</td>\n",
       "      <td>600000</td>\n",
       "      <td>Nissan</td>\n",
       "    </tr>\n",
       "  </tbody>\n",
       "</table>\n",
       "</div>"
      ],
      "text/plain": [
       "                Name  Manufacture   Model Fuel   Driven Automatic  Owner  \\\n",
       "343  Nissan Terrano          2015  Others   --  60000.0    MANUAL      1   \n",
       "\n",
       "    Location   Price   Brand  \n",
       "343       MH  600000  Nissan  "
      ]
     },
     "execution_count": 525,
     "metadata": {},
     "output_type": "execute_result"
    }
   ],
   "source": [
    "data[data['Fuel']=='--']"
   ]
  },
  {
   "cell_type": "code",
   "execution_count": 526,
   "id": "56dd4922",
   "metadata": {},
   "outputs": [],
   "source": [
    "data.loc[data[data['Fuel']=='--'].index,'Fuel'] = 'Diesel'"
   ]
  },
  {
   "cell_type": "code",
   "execution_count": 527,
   "id": "ca3c22ab",
   "metadata": {},
   "outputs": [
    {
     "data": {
      "text/plain": [
       "array(['Petrol', 'Diesel', 'ELECTRIC', 'CNG & HYBRIDS', 'CNG', 'LPG'],\n",
       "      dtype=object)"
      ]
     },
     "execution_count": 527,
     "metadata": {},
     "output_type": "execute_result"
    }
   ],
   "source": [
    "data['Fuel'].unique()"
   ]
  },
  {
   "cell_type": "code",
   "execution_count": 528,
   "id": "9274bc8a",
   "metadata": {},
   "outputs": [
    {
     "data": {
      "text/plain": [
       "array([80631., 12981., 22388., ..., 28208.,  7581., 19317.])"
      ]
     },
     "execution_count": 528,
     "metadata": {},
     "output_type": "execute_result"
    }
   ],
   "source": [
    "data['Driven'].unique()"
   ]
  },
  {
   "cell_type": "code",
   "execution_count": 529,
   "id": "4ec4d5d0",
   "metadata": {},
   "outputs": [
    {
     "data": {
      "text/plain": [
       "array(['Manual', 'Automatic', 'MT', 'MANUAL', 'AUTOMATIC', '--', 'UP81',\n",
       "       'GJ01', 'GJ07', 'KA41', 'KA01', 'KA04', 'KA02', 'KA03', 'WB02',\n",
       "       'WB06', 'WB08', 'DL10', 'MH48', 'MH43', 'MH01'], dtype=object)"
      ]
     },
     "execution_count": 529,
     "metadata": {},
     "output_type": "execute_result"
    }
   ],
   "source": [
    "data['Automatic'].unique()"
   ]
  },
  {
   "cell_type": "code",
   "execution_count": 530,
   "id": "1c18649e",
   "metadata": {},
   "outputs": [
    {
     "data": {
      "text/plain": [
       "Manual       1601\n",
       "Automatic     346\n",
       "MANUAL        325\n",
       "AUTOMATIC     104\n",
       "--             11\n",
       "GJ01            5\n",
       "MH01            2\n",
       "WB02            2\n",
       "KA04            1\n",
       "KA03            1\n",
       "KA41            1\n",
       "MH48            1\n",
       "KA02            1\n",
       "UP81            1\n",
       "WB06            1\n",
       "MT              1\n",
       "DL10            1\n",
       "KA01            1\n",
       "MH43            1\n",
       "WB08            1\n",
       "GJ07            1\n",
       "Name: Automatic, dtype: int64"
      ]
     },
     "execution_count": 530,
     "metadata": {},
     "output_type": "execute_result"
    }
   ],
   "source": [
    "data['Automatic'].value_counts()"
   ]
  },
  {
   "cell_type": "code",
   "execution_count": 531,
   "id": "1f52f0ef",
   "metadata": {},
   "outputs": [],
   "source": [
    "data['Automatic']=data['Automatic'].replace('MANUAL','Manual')\n",
    "data['Automatic']=data['Automatic'].replace('AUTOMATIC','Automatic')"
   ]
  },
  {
   "cell_type": "code",
   "execution_count": 532,
   "id": "e316595c",
   "metadata": {},
   "outputs": [
    {
     "data": {
      "text/plain": [
       "Manual       1926\n",
       "Automatic     450\n",
       "--             11\n",
       "GJ01            5\n",
       "MH01            2\n",
       "WB02            2\n",
       "KA04            1\n",
       "KA03            1\n",
       "KA41            1\n",
       "MH48            1\n",
       "KA02            1\n",
       "UP81            1\n",
       "DL10            1\n",
       "MT              1\n",
       "KA01            1\n",
       "WB06            1\n",
       "MH43            1\n",
       "WB08            1\n",
       "GJ07            1\n",
       "Name: Automatic, dtype: int64"
      ]
     },
     "execution_count": 532,
     "metadata": {},
     "output_type": "execute_result"
    }
   ],
   "source": [
    "data['Automatic'].value_counts()"
   ]
  },
  {
   "cell_type": "code",
   "execution_count": 533,
   "id": "3fac6697",
   "metadata": {},
   "outputs": [
    {
     "data": {
      "text/plain": [
       "Int64Index([  35,  122,  164,  165,  253,  283,  284,  299,  320,  371,  421,\n",
       "             498,  501,  591,  592,  677,  689,  712,  737,  752,  844,  852,\n",
       "             932,  972, 1316, 1347, 1370, 1377, 1607, 2024, 2326, 2359, 2403],\n",
       "           dtype='int64')"
      ]
     },
     "execution_count": 533,
     "metadata": {},
     "output_type": "execute_result"
    }
   ],
   "source": [
    "data[(data['Automatic']!='Automatic') & (data['Automatic']!='Manual')].index"
   ]
  },
  {
   "cell_type": "code",
   "execution_count": null,
   "id": "30c235d6",
   "metadata": {},
   "outputs": [],
   "source": []
  },
  {
   "cell_type": "code",
   "execution_count": 534,
   "id": "f60aa088",
   "metadata": {},
   "outputs": [],
   "source": [
    "data.loc[data[(data['Automatic']!='Automatic') & (data['Automatic']!='Manual')].index,'Automatic'] = 'Manual'"
   ]
  },
  {
   "cell_type": "code",
   "execution_count": 535,
   "id": "4f44d960",
   "metadata": {},
   "outputs": [
    {
     "data": {
      "text/plain": [
       "Manual       1959\n",
       "Automatic     450\n",
       "Name: Automatic, dtype: int64"
      ]
     },
     "execution_count": 535,
     "metadata": {},
     "output_type": "execute_result"
    }
   ],
   "source": [
    "data['Automatic'].value_counts()"
   ]
  },
  {
   "cell_type": "code",
   "execution_count": null,
   "id": "cb626d88",
   "metadata": {},
   "outputs": [],
   "source": []
  },
  {
   "cell_type": "code",
   "execution_count": 536,
   "id": "1bd3b2bf",
   "metadata": {},
   "outputs": [
    {
     "data": {
      "text/plain": [
       "array([1, 2, 3, 4, 0], dtype=int64)"
      ]
     },
     "execution_count": 536,
     "metadata": {},
     "output_type": "execute_result"
    }
   ],
   "source": [
    "data['Owner'].unique()"
   ]
  },
  {
   "cell_type": "code",
   "execution_count": 537,
   "id": "fcaaea87",
   "metadata": {},
   "outputs": [
    {
     "data": {
      "text/plain": [
       "array(['HR', 'DL', 'UP', 'TN', 'MH', 'RJ', 'KR', 'KE', 'CH', 'OD', 'MP',\n",
       "       'JK', 'AS', 'BI', 'HY', 'GU', 'PJ', 'AP', 'UK', 'WB', 'MA', 'JH',\n",
       "       'TE', 'Gu', '', 'TI', 'GJ', 'KA', 'TS', 'PB'], dtype=object)"
      ]
     },
     "execution_count": 537,
     "metadata": {},
     "output_type": "execute_result"
    }
   ],
   "source": [
    "data['Location'].unique()"
   ]
  },
  {
   "cell_type": "code",
   "execution_count": 538,
   "id": "1ef9480a",
   "metadata": {},
   "outputs": [],
   "source": [
    "data['Location']=data['Location'].replace('Gu',\"GU\")\n",
    "data['Location']=data['Location'].replace('GJ',\"GU\")"
   ]
  },
  {
   "cell_type": "code",
   "execution_count": 539,
   "id": "1eaa13da",
   "metadata": {},
   "outputs": [
    {
     "data": {
      "text/plain": [
       "array(['HR', 'DL', 'UP', 'TN', 'MH', 'RJ', 'KR', 'KE', 'CH', 'OD', 'MP',\n",
       "       'JK', 'AS', 'BI', 'HY', 'GU', 'PJ', 'AP', 'UK', 'WB', 'MA', 'JH',\n",
       "       'TE', '', 'TI', 'KA', 'TS', 'PB'], dtype=object)"
      ]
     },
     "execution_count": 539,
     "metadata": {},
     "output_type": "execute_result"
    }
   ],
   "source": [
    "data['Location'].unique()"
   ]
  },
  {
   "cell_type": "code",
   "execution_count": 540,
   "id": "d12551a0",
   "metadata": {},
   "outputs": [
    {
     "data": {
      "text/html": [
       "<div>\n",
       "<style scoped>\n",
       "    .dataframe tbody tr th:only-of-type {\n",
       "        vertical-align: middle;\n",
       "    }\n",
       "\n",
       "    .dataframe tbody tr th {\n",
       "        vertical-align: top;\n",
       "    }\n",
       "\n",
       "    .dataframe thead th {\n",
       "        text-align: right;\n",
       "    }\n",
       "</style>\n",
       "<table border=\"1\" class=\"dataframe\">\n",
       "  <thead>\n",
       "    <tr style=\"text-align: right;\">\n",
       "      <th></th>\n",
       "      <th>Name</th>\n",
       "      <th>Manufacture</th>\n",
       "      <th>Model</th>\n",
       "      <th>Fuel</th>\n",
       "      <th>Driven</th>\n",
       "      <th>Automatic</th>\n",
       "      <th>Owner</th>\n",
       "      <th>Location</th>\n",
       "      <th>Price</th>\n",
       "      <th>Brand</th>\n",
       "    </tr>\n",
       "  </thead>\n",
       "  <tbody>\n",
       "    <tr>\n",
       "      <th>0</th>\n",
       "      <td>Hyundai Verna</td>\n",
       "      <td>2019</td>\n",
       "      <td>1.6 SX VTVT (O)</td>\n",
       "      <td>Petrol</td>\n",
       "      <td>80631.0</td>\n",
       "      <td>Manual</td>\n",
       "      <td>1</td>\n",
       "      <td>HR</td>\n",
       "      <td>981699</td>\n",
       "      <td>Hyundai</td>\n",
       "    </tr>\n",
       "    <tr>\n",
       "      <th>1</th>\n",
       "      <td>KIA SELTOS</td>\n",
       "      <td>2020</td>\n",
       "      <td>HTK PLUS 1.5 PETROL</td>\n",
       "      <td>Petrol</td>\n",
       "      <td>12981.0</td>\n",
       "      <td>Manual</td>\n",
       "      <td>2</td>\n",
       "      <td>HR</td>\n",
       "      <td>1155299</td>\n",
       "      <td>KIA</td>\n",
       "    </tr>\n",
       "    <tr>\n",
       "      <th>2</th>\n",
       "      <td>Renault Kwid</td>\n",
       "      <td>2016</td>\n",
       "      <td>RXT</td>\n",
       "      <td>Petrol</td>\n",
       "      <td>22388.0</td>\n",
       "      <td>Manual</td>\n",
       "      <td>1</td>\n",
       "      <td>DL</td>\n",
       "      <td>279799</td>\n",
       "      <td>Renault</td>\n",
       "    </tr>\n",
       "    <tr>\n",
       "      <th>3</th>\n",
       "      <td>Mercedes Benz C Class</td>\n",
       "      <td>2014</td>\n",
       "      <td>C 200 AVANTGARDE</td>\n",
       "      <td>Petrol</td>\n",
       "      <td>36806.0</td>\n",
       "      <td>Automatic</td>\n",
       "      <td>1</td>\n",
       "      <td>UP</td>\n",
       "      <td>2133299</td>\n",
       "      <td>Mercedes</td>\n",
       "    </tr>\n",
       "    <tr>\n",
       "      <th>4</th>\n",
       "      <td>KIA SELTOS</td>\n",
       "      <td>2020</td>\n",
       "      <td>HTX AT PETROL</td>\n",
       "      <td>Petrol</td>\n",
       "      <td>21784.0</td>\n",
       "      <td>Automatic</td>\n",
       "      <td>2</td>\n",
       "      <td>HR</td>\n",
       "      <td>1429999</td>\n",
       "      <td>KIA</td>\n",
       "    </tr>\n",
       "  </tbody>\n",
       "</table>\n",
       "</div>"
      ],
      "text/plain": [
       "                    Name  Manufacture                Model    Fuel   Driven  \\\n",
       "0          Hyundai Verna         2019      1.6 SX VTVT (O)  Petrol  80631.0   \n",
       "1             KIA SELTOS         2020  HTK PLUS 1.5 PETROL  Petrol  12981.0   \n",
       "2           Renault Kwid         2016                  RXT  Petrol  22388.0   \n",
       "3  Mercedes Benz C Class         2014     C 200 AVANTGARDE  Petrol  36806.0   \n",
       "4             KIA SELTOS         2020        HTX AT PETROL  Petrol  21784.0   \n",
       "\n",
       "   Automatic  Owner Location    Price     Brand  \n",
       "0     Manual      1       HR   981699   Hyundai  \n",
       "1     Manual      2       HR  1155299       KIA  \n",
       "2     Manual      1       DL   279799   Renault  \n",
       "3  Automatic      1       UP  2133299  Mercedes  \n",
       "4  Automatic      2       HR  1429999       KIA  "
      ]
     },
     "execution_count": 540,
     "metadata": {},
     "output_type": "execute_result"
    }
   ],
   "source": [
    "data.head()"
   ]
  },
  {
   "cell_type": "code",
   "execution_count": 541,
   "id": "a1c69f2f",
   "metadata": {},
   "outputs": [],
   "source": [
    "# Data Preprocessing has been done\n",
    "\n",
    "# Lets begin with feature Extraction"
   ]
  },
  {
   "cell_type": "code",
   "execution_count": 542,
   "id": "f182bdfb",
   "metadata": {},
   "outputs": [],
   "source": [
    "# Name feature is not required as we have extracted Brand company from it"
   ]
  },
  {
   "cell_type": "markdown",
   "id": "98632cb1",
   "metadata": {},
   "source": [
    "# Missing Value"
   ]
  },
  {
   "cell_type": "code",
   "execution_count": 543,
   "id": "e534d314",
   "metadata": {},
   "outputs": [
    {
     "data": {
      "text/plain": [
       "<AxesSubplot:>"
      ]
     },
     "execution_count": 543,
     "metadata": {},
     "output_type": "execute_result"
    },
    {
     "data": {
      "image/png": "[encoded data removed]",
      "text/plain": [
       "<Figure size 432x288 with 2 Axes>"
      ]
     },
     "metadata": {
      "needs_background": "light"
     },
     "output_type": "display_data"
    }
   ],
   "source": [
    "sns.heatmap(data.isnull())"
   ]
  },
  {
   "cell_type": "code",
   "execution_count": 544,
   "id": "c32b6ef5",
   "metadata": {},
   "outputs": [],
   "source": [
    "data['Driven'].fillna(data['Driven'].median(), inplace=True)"
   ]
  },
  {
   "cell_type": "code",
   "execution_count": null,
   "id": "c2cd9f29",
   "metadata": {},
   "outputs": [],
   "source": []
  },
  {
   "cell_type": "code",
   "execution_count": null,
   "id": "98c82aa8",
   "metadata": {},
   "outputs": [],
   "source": []
  },
  {
   "cell_type": "code",
   "execution_count": 545,
   "id": "e31eb327",
   "metadata": {},
   "outputs": [
    {
     "data": {
      "text/html": [
       "<div>\n",
       "<style scoped>\n",
       "    .dataframe tbody tr th:only-of-type {\n",
       "        vertical-align: middle;\n",
       "    }\n",
       "\n",
       "    .dataframe tbody tr th {\n",
       "        vertical-align: top;\n",
       "    }\n",
       "\n",
       "    .dataframe thead th {\n",
       "        text-align: right;\n",
       "    }\n",
       "</style>\n",
       "<table border=\"1\" class=\"dataframe\">\n",
       "  <thead>\n",
       "    <tr style=\"text-align: right;\">\n",
       "      <th></th>\n",
       "      <th>count</th>\n",
       "      <th>mean</th>\n",
       "      <th>std</th>\n",
       "      <th>min</th>\n",
       "      <th>25%</th>\n",
       "      <th>50%</th>\n",
       "      <th>75%</th>\n",
       "      <th>max</th>\n",
       "    </tr>\n",
       "  </thead>\n",
       "  <tbody>\n",
       "    <tr>\n",
       "      <th>Manufacture</th>\n",
       "      <td>2409.0</td>\n",
       "      <td>2015.922790</td>\n",
       "      <td>3.148171</td>\n",
       "      <td>1990.0</td>\n",
       "      <td>2014.0</td>\n",
       "      <td>2016.0</td>\n",
       "      <td>2018.0</td>\n",
       "      <td>2022.0</td>\n",
       "    </tr>\n",
       "    <tr>\n",
       "      <th>Driven</th>\n",
       "      <td>2409.0</td>\n",
       "      <td>51618.159402</td>\n",
       "      <td>35557.711126</td>\n",
       "      <td>0.0</td>\n",
       "      <td>27797.0</td>\n",
       "      <td>46294.0</td>\n",
       "      <td>70000.0</td>\n",
       "      <td>707105.0</td>\n",
       "    </tr>\n",
       "    <tr>\n",
       "      <th>Owner</th>\n",
       "      <td>2409.0</td>\n",
       "      <td>1.239518</td>\n",
       "      <td>0.530153</td>\n",
       "      <td>0.0</td>\n",
       "      <td>1.0</td>\n",
       "      <td>1.0</td>\n",
       "      <td>1.0</td>\n",
       "      <td>4.0</td>\n",
       "    </tr>\n",
       "    <tr>\n",
       "      <th>Price</th>\n",
       "      <td>2409.0</td>\n",
       "      <td>618425.081362</td>\n",
       "      <td>525215.825386</td>\n",
       "      <td>20000.0</td>\n",
       "      <td>365000.0</td>\n",
       "      <td>520000.0</td>\n",
       "      <td>717000.0</td>\n",
       "      <td>10900000.0</td>\n",
       "    </tr>\n",
       "  </tbody>\n",
       "</table>\n",
       "</div>"
      ],
      "text/plain": [
       "              count           mean            std      min       25%  \\\n",
       "Manufacture  2409.0    2015.922790       3.148171   1990.0    2014.0   \n",
       "Driven       2409.0   51618.159402   35557.711126      0.0   27797.0   \n",
       "Owner        2409.0       1.239518       0.530153      0.0       1.0   \n",
       "Price        2409.0  618425.081362  525215.825386  20000.0  365000.0   \n",
       "\n",
       "                  50%       75%         max  \n",
       "Manufacture    2016.0    2018.0      2022.0  \n",
       "Driven        46294.0   70000.0    707105.0  \n",
       "Owner             1.0       1.0         4.0  \n",
       "Price        520000.0  717000.0  10900000.0  "
      ]
     },
     "execution_count": 545,
     "metadata": {},
     "output_type": "execute_result"
    }
   ],
   "source": [
    "data.describe().T"
   ]
  },
  {
   "cell_type": "code",
   "execution_count": null,
   "id": "2ac04b91",
   "metadata": {},
   "outputs": [],
   "source": []
  },
  {
   "cell_type": "code",
   "execution_count": 546,
   "id": "e4c7b0c5",
   "metadata": {},
   "outputs": [
    {
     "data": {
      "text/plain": [
       "(array([ 0,  1,  2,  3,  4,  5,  6,  7,  8,  9, 10, 11, 12, 13, 14, 15, 16,\n",
       "        17, 18, 19, 20, 21, 22, 23, 24, 25, 26]),\n",
       " [Text(0, 0, 'Maruti'),\n",
       "  Text(1, 0, 'Hyundai'),\n",
       "  Text(2, 0, 'Honda'),\n",
       "  Text(3, 0, 'Mahindra'),\n",
       "  Text(4, 0, 'Renault'),\n",
       "  Text(5, 0, 'Toyota'),\n",
       "  Text(6, 0, 'Tata'),\n",
       "  Text(7, 0, 'Volkswagen'),\n",
       "  Text(8, 0, 'Nissan'),\n",
       "  Text(9, 0, 'MG'),\n",
       "  Text(10, 0, 'Datsun'),\n",
       "  Text(11, 0, 'Skoda'),\n",
       "  Text(12, 0, 'Ford'),\n",
       "  Text(13, 0, 'Jeep'),\n",
       "  Text(14, 0, 'Mercedes'),\n",
       "  Text(15, 0, 'Chevrolet'),\n",
       "  Text(16, 0, 'KIA'),\n",
       "  Text(17, 0, 'Bmw'),\n",
       "  Text(18, 0, 'Audi'),\n",
       "  Text(19, 0, 'Jaguar'),\n",
       "  Text(20, 0, 'Force'),\n",
       "  Text(21, 0, 'Hindustan'),\n",
       "  Text(22, 0, 'San'),\n",
       "  Text(23, 0, 'Hummer'),\n",
       "  Text(24, 0, 'Porsche'),\n",
       "  Text(25, 0, 'Volvo'),\n",
       "  Text(26, 0, 'Fiat')])"
      ]
     },
     "execution_count": 546,
     "metadata": {},
     "output_type": "execute_result"
    },
    {
     "data": {
      "image/png": "[encoded data removed]",
      "text/plain": [
       "<Figure size 864x576 with 1 Axes>"
      ]
     },
     "metadata": {
      "needs_background": "light"
     },
     "output_type": "display_data"
    }
   ],
   "source": [
    "plt.figure(figsize=(12,8))\n",
    "sns.countplot(data['Brand'], order=data['Brand'].value_counts().index)\n",
    "plt.xticks(rotation = 90)"
   ]
  },
  {
   "cell_type": "code",
   "execution_count": 547,
   "id": "0f46a8aa",
   "metadata": {},
   "outputs": [
    {
     "data": {
      "text/plain": [
       "Maruti        0.346202\n",
       "Hyundai       0.243670\n",
       "Honda         0.112910\n",
       "Mahindra      0.058115\n",
       "Renault       0.057700\n",
       "Toyota        0.037775\n",
       "Tata          0.036115\n",
       "Volkswagen    0.034454\n",
       "Nissan        0.011623\n",
       "MG            0.009963\n",
       "Datsun        0.009548\n",
       "Skoda         0.009132\n",
       "Ford          0.006642\n",
       "Jeep          0.005396\n",
       "Mercedes      0.004566\n",
       "Chevrolet     0.004151\n",
       "KIA           0.002906\n",
       "Bmw           0.002076\n",
       "Audi          0.002076\n",
       "Jaguar        0.001245\n",
       "Force         0.001245\n",
       "Hindustan     0.000415\n",
       "San           0.000415\n",
       "Hummer        0.000415\n",
       "Porsche       0.000415\n",
       "Volvo         0.000415\n",
       "Fiat          0.000415\n",
       "Name: Brand, dtype: float64"
      ]
     },
     "execution_count": 547,
     "metadata": {},
     "output_type": "execute_result"
    }
   ],
   "source": [
    "data['Brand'].value_counts(normalize=True)"
   ]
  },
  {
   "cell_type": "code",
   "execution_count": 548,
   "id": "461a05e9",
   "metadata": {},
   "outputs": [],
   "source": [
    "# Dataset have most values for Maruti, Hyundai and Honda cars"
   ]
  },
  {
   "cell_type": "code",
   "execution_count": 549,
   "id": "f920796a",
   "metadata": {},
   "outputs": [
    {
     "data": {
      "text/plain": [
       "(array([ 0,  1,  2,  3,  4,  5,  6,  7,  8,  9, 10, 11, 12, 13, 14, 15, 16,\n",
       "        17, 18, 19, 20, 21, 22, 23, 24, 25]),\n",
       " [Text(0, 0, '1990'),\n",
       "  Text(1, 0, '1996'),\n",
       "  Text(2, 0, '1998'),\n",
       "  Text(3, 0, '2000'),\n",
       "  Text(4, 0, '2001'),\n",
       "  Text(5, 0, '2002'),\n",
       "  Text(6, 0, '2003'),\n",
       "  Text(7, 0, '2004'),\n",
       "  Text(8, 0, '2005'),\n",
       "  Text(9, 0, '2006'),\n",
       "  Text(10, 0, '2007'),\n",
       "  Text(11, 0, '2008'),\n",
       "  Text(12, 0, '2009'),\n",
       "  Text(13, 0, '2010'),\n",
       "  Text(14, 0, '2011'),\n",
       "  Text(15, 0, '2012'),\n",
       "  Text(16, 0, '2013'),\n",
       "  Text(17, 0, '2014'),\n",
       "  Text(18, 0, '2015'),\n",
       "  Text(19, 0, '2016'),\n",
       "  Text(20, 0, '2017'),\n",
       "  Text(21, 0, '2018'),\n",
       "  Text(22, 0, '2019'),\n",
       "  Text(23, 0, '2020'),\n",
       "  Text(24, 0, '2021'),\n",
       "  Text(25, 0, '2022')])"
      ]
     },
     "execution_count": 549,
     "metadata": {},
     "output_type": "execute_result"
    },
    {
     "data": {
      "image/png": "[encoded data removed]",
      "text/plain": [
       "<Figure size 432x288 with 1 Axes>"
      ]
     },
     "metadata": {
      "needs_background": "light"
     },
     "output_type": "display_data"
    }
   ],
   "source": [
    "sns.countplot(data['Manufacture'])\n",
    "plt.xticks(rotation=90)"
   ]
  },
  {
   "cell_type": "code",
   "execution_count": 550,
   "id": "5aee3f12",
   "metadata": {},
   "outputs": [],
   "source": [
    "# Most used cars are available from 2014 to 2021"
   ]
  },
  {
   "cell_type": "code",
   "execution_count": 551,
   "id": "ec151318",
   "metadata": {},
   "outputs": [
    {
     "data": {
      "text/plain": [
       "Index(['Name', 'Manufacture', 'Model', 'Fuel', 'Driven', 'Automatic', 'Owner',\n",
       "       'Location', 'Price', 'Brand'],\n",
       "      dtype='object')"
      ]
     },
     "execution_count": 551,
     "metadata": {},
     "output_type": "execute_result"
    }
   ],
   "source": [
    "data.columns"
   ]
  },
  {
   "cell_type": "code",
   "execution_count": 552,
   "id": "17a8de84",
   "metadata": {},
   "outputs": [
    {
     "data": {
      "text/plain": [
       "<AxesSubplot:xlabel='Fuel', ylabel='count'>"
      ]
     },
     "execution_count": 552,
     "metadata": {},
     "output_type": "execute_result"
    },
    {
     "data": {
      "image/png": "[encoded data removed]",
      "text/plain": [
       "<Figure size 432x288 with 1 Axes>"
      ]
     },
     "metadata": {
      "needs_background": "light"
     },
     "output_type": "display_data"
    }
   ],
   "source": [
    "sns.countplot(data['Fuel'], order=data['Fuel'].value_counts().index)"
   ]
  },
  {
   "cell_type": "code",
   "execution_count": 553,
   "id": "c1a5fc35",
   "metadata": {},
   "outputs": [
    {
     "data": {
      "text/plain": [
       "Petrol           71.56\n",
       "Diesel           25.49\n",
       "CNG & HYBRIDS     1.45\n",
       "CNG               1.29\n",
       "LPG               0.12\n",
       "ELECTRIC          0.08\n",
       "Name: Fuel, dtype: float64"
      ]
     },
     "execution_count": 553,
     "metadata": {},
     "output_type": "execute_result"
    }
   ],
   "source": [
    "round(data['Fuel'].value_counts(normalize=True)*100,2)"
   ]
  },
  {
   "cell_type": "markdown",
   "id": "f2110e79",
   "metadata": {},
   "source": [
    "71% cars are on Petrol\n",
    "25.49% cars are on Diesel\n",
    "others are very few"
   ]
  },
  {
   "cell_type": "code",
   "execution_count": 554,
   "id": "2605d852",
   "metadata": {},
   "outputs": [
    {
     "data": {
      "text/plain": [
       "<AxesSubplot:xlabel='Driven', ylabel='Density'>"
      ]
     },
     "execution_count": 554,
     "metadata": {},
     "output_type": "execute_result"
    },
    {
     "data": {
      "image/png": "[encoded data removed]",
      "text/plain": [
       "<Figure size 432x288 with 1 Axes>"
      ]
     },
     "metadata": {
      "needs_background": "light"
     },
     "output_type": "display_data"
    }
   ],
   "source": [
    "sns.distplot(data['Driven'])"
   ]
  },
  {
   "cell_type": "code",
   "execution_count": 555,
   "id": "47d15c54",
   "metadata": {},
   "outputs": [],
   "source": [
    "# km driven already by car, data is right skewed, however peak is as normal distribution\n"
   ]
  },
  {
   "cell_type": "code",
   "execution_count": 556,
   "id": "17443ec7",
   "metadata": {},
   "outputs": [
    {
     "data": {
      "text/plain": [
       "<AxesSubplot:xlabel='Automatic', ylabel='count'>"
      ]
     },
     "execution_count": 556,
     "metadata": {},
     "output_type": "execute_result"
    },
    {
     "data": {
      "image/png": "[encoded data removed]",
      "text/plain": [
       "<Figure size 432x288 with 1 Axes>"
      ]
     },
     "metadata": {
      "needs_background": "light"
     },
     "output_type": "display_data"
    }
   ],
   "source": [
    "sns.countplot(data['Automatic'])"
   ]
  },
  {
   "cell_type": "code",
   "execution_count": 557,
   "id": "338a76c4",
   "metadata": {},
   "outputs": [
    {
     "data": {
      "text/plain": [
       "Manual       81.32\n",
       "Automatic    18.68\n",
       "Name: Automatic, dtype: float64"
      ]
     },
     "execution_count": 557,
     "metadata": {},
     "output_type": "execute_result"
    }
   ],
   "source": [
    "round(data['Automatic'].value_counts(normalize=True)*100,2)"
   ]
  },
  {
   "cell_type": "markdown",
   "id": "eacd6bee",
   "metadata": {},
   "source": [
    "81.32 acres are manual while 18.68% cars are Automatic"
   ]
  },
  {
   "cell_type": "code",
   "execution_count": 558,
   "id": "e11a38ec",
   "metadata": {},
   "outputs": [
    {
     "data": {
      "text/plain": [
       "Index(['Name', 'Manufacture', 'Model', 'Fuel', 'Driven', 'Automatic', 'Owner',\n",
       "       'Location', 'Price', 'Brand'],\n",
       "      dtype='object')"
      ]
     },
     "execution_count": 558,
     "metadata": {},
     "output_type": "execute_result"
    }
   ],
   "source": [
    "data.columns"
   ]
  },
  {
   "cell_type": "code",
   "execution_count": 559,
   "id": "087b9db6",
   "metadata": {},
   "outputs": [
    {
     "data": {
      "text/plain": [
       "<AxesSubplot:xlabel='Owner', ylabel='count'>"
      ]
     },
     "execution_count": 559,
     "metadata": {},
     "output_type": "execute_result"
    },
    {
     "data": {
      "image/png": "[encoded data removed]",
      "text/plain": [
       "<Figure size 432x288 with 1 Axes>"
      ]
     },
     "metadata": {
      "needs_background": "light"
     },
     "output_type": "display_data"
    }
   ],
   "source": [
    "sns.countplot(data['Owner'], order=data['Owner'].value_counts().index)"
   ]
  },
  {
   "cell_type": "code",
   "execution_count": 560,
   "id": "c2577e7f",
   "metadata": {},
   "outputs": [],
   "source": [
    "# means the total owner's of Car"
   ]
  },
  {
   "cell_type": "code",
   "execution_count": 561,
   "id": "b179dceb",
   "metadata": {},
   "outputs": [
    {
     "data": {
      "text/plain": [
       "<AxesSubplot:xlabel='Location', ylabel='count'>"
      ]
     },
     "execution_count": 561,
     "metadata": {},
     "output_type": "execute_result"
    },
    {
     "data": {
      "image/png": "[encoded data removed]",
      "text/plain": [
       "<Figure size 1080x576 with 1 Axes>"
      ]
     },
     "metadata": {
      "needs_background": "light"
     },
     "output_type": "display_data"
    }
   ],
   "source": [
    "plt.figure(figsize=(15,8))\n",
    "sns.countplot(data['Location'], order=data['Location'].value_counts().index)"
   ]
  },
  {
   "cell_type": "markdown",
   "id": "1ff650c9",
   "metadata": {},
   "source": [
    "Most of the cras are from Maharastra state, then Delhi state"
   ]
  },
  {
   "cell_type": "code",
   "execution_count": 562,
   "id": "b1082863",
   "metadata": {},
   "outputs": [
    {
     "data": {
      "text/plain": [
       "<AxesSubplot:xlabel='Price', ylabel='Density'>"
      ]
     },
     "execution_count": 562,
     "metadata": {},
     "output_type": "execute_result"
    },
    {
     "data": {
      "image/png": "[encoded data removed]",
      "text/plain": [
       "<Figure size 432x288 with 1 Axes>"
      ]
     },
     "metadata": {
      "needs_background": "light"
     },
     "output_type": "display_data"
    }
   ],
   "source": [
    "sns.distplot(data['Price'])"
   ]
  },
  {
   "cell_type": "markdown",
   "id": "8b9243e6",
   "metadata": {},
   "source": [
    "Right skewed data"
   ]
  },
  {
   "cell_type": "code",
   "execution_count": 563,
   "id": "153abbd3",
   "metadata": {},
   "outputs": [
    {
     "data": {
      "text/html": [
       "<div>\n",
       "<style scoped>\n",
       "    .dataframe tbody tr th:only-of-type {\n",
       "        vertical-align: middle;\n",
       "    }\n",
       "\n",
       "    .dataframe tbody tr th {\n",
       "        vertical-align: top;\n",
       "    }\n",
       "\n",
       "    .dataframe thead th {\n",
       "        text-align: right;\n",
       "    }\n",
       "</style>\n",
       "<table border=\"1\" class=\"dataframe\">\n",
       "  <thead>\n",
       "    <tr style=\"text-align: right;\">\n",
       "      <th></th>\n",
       "      <th>Name</th>\n",
       "      <th>Manufacture</th>\n",
       "      <th>Model</th>\n",
       "      <th>Fuel</th>\n",
       "      <th>Driven</th>\n",
       "      <th>Automatic</th>\n",
       "      <th>Owner</th>\n",
       "      <th>Location</th>\n",
       "      <th>Price</th>\n",
       "      <th>Brand</th>\n",
       "    </tr>\n",
       "  </thead>\n",
       "  <tbody>\n",
       "    <tr>\n",
       "      <th>0</th>\n",
       "      <td>Hyundai Verna</td>\n",
       "      <td>2019</td>\n",
       "      <td>1.6 SX VTVT (O)</td>\n",
       "      <td>Petrol</td>\n",
       "      <td>80631.0</td>\n",
       "      <td>Manual</td>\n",
       "      <td>1</td>\n",
       "      <td>HR</td>\n",
       "      <td>981699</td>\n",
       "      <td>Hyundai</td>\n",
       "    </tr>\n",
       "    <tr>\n",
       "      <th>1</th>\n",
       "      <td>KIA SELTOS</td>\n",
       "      <td>2020</td>\n",
       "      <td>HTK PLUS 1.5 PETROL</td>\n",
       "      <td>Petrol</td>\n",
       "      <td>12981.0</td>\n",
       "      <td>Manual</td>\n",
       "      <td>2</td>\n",
       "      <td>HR</td>\n",
       "      <td>1155299</td>\n",
       "      <td>KIA</td>\n",
       "    </tr>\n",
       "  </tbody>\n",
       "</table>\n",
       "</div>"
      ],
      "text/plain": [
       "            Name  Manufacture                Model    Fuel   Driven Automatic  \\\n",
       "0  Hyundai Verna         2019      1.6 SX VTVT (O)  Petrol  80631.0    Manual   \n",
       "1     KIA SELTOS         2020  HTK PLUS 1.5 PETROL  Petrol  12981.0    Manual   \n",
       "\n",
       "   Owner Location    Price    Brand  \n",
       "0      1       HR   981699  Hyundai  \n",
       "1      2       HR  1155299      KIA  "
      ]
     },
     "execution_count": 563,
     "metadata": {},
     "output_type": "execute_result"
    }
   ],
   "source": [
    "data.head(2)"
   ]
  },
  {
   "cell_type": "markdown",
   "id": "94d72ca5",
   "metadata": {},
   "source": [
    "data['Manufacture'] have year of car, so basically we ned tha age of car at the time of sell"
   ]
  },
  {
   "cell_type": "code",
   "execution_count": 564,
   "id": "a7613d71",
   "metadata": {},
   "outputs": [],
   "source": [
    "data['Years']=2022-data['Manufacture']"
   ]
  },
  {
   "cell_type": "code",
   "execution_count": 565,
   "id": "70f2b011",
   "metadata": {},
   "outputs": [
    {
     "data": {
      "text/html": [
       "<div>\n",
       "<style scoped>\n",
       "    .dataframe tbody tr th:only-of-type {\n",
       "        vertical-align: middle;\n",
       "    }\n",
       "\n",
       "    .dataframe tbody tr th {\n",
       "        vertical-align: top;\n",
       "    }\n",
       "\n",
       "    .dataframe thead th {\n",
       "        text-align: right;\n",
       "    }\n",
       "</style>\n",
       "<table border=\"1\" class=\"dataframe\">\n",
       "  <thead>\n",
       "    <tr style=\"text-align: right;\">\n",
       "      <th></th>\n",
       "      <th>Name</th>\n",
       "      <th>Manufacture</th>\n",
       "      <th>Model</th>\n",
       "      <th>Fuel</th>\n",
       "      <th>Driven</th>\n",
       "      <th>Automatic</th>\n",
       "      <th>Owner</th>\n",
       "      <th>Location</th>\n",
       "      <th>Price</th>\n",
       "      <th>Brand</th>\n",
       "      <th>Years</th>\n",
       "    </tr>\n",
       "  </thead>\n",
       "  <tbody>\n",
       "    <tr>\n",
       "      <th>0</th>\n",
       "      <td>Hyundai Verna</td>\n",
       "      <td>2019</td>\n",
       "      <td>1.6 SX VTVT (O)</td>\n",
       "      <td>Petrol</td>\n",
       "      <td>80631.0</td>\n",
       "      <td>Manual</td>\n",
       "      <td>1</td>\n",
       "      <td>HR</td>\n",
       "      <td>981699</td>\n",
       "      <td>Hyundai</td>\n",
       "      <td>3</td>\n",
       "    </tr>\n",
       "    <tr>\n",
       "      <th>1</th>\n",
       "      <td>KIA SELTOS</td>\n",
       "      <td>2020</td>\n",
       "      <td>HTK PLUS 1.5 PETROL</td>\n",
       "      <td>Petrol</td>\n",
       "      <td>12981.0</td>\n",
       "      <td>Manual</td>\n",
       "      <td>2</td>\n",
       "      <td>HR</td>\n",
       "      <td>1155299</td>\n",
       "      <td>KIA</td>\n",
       "      <td>2</td>\n",
       "    </tr>\n",
       "    <tr>\n",
       "      <th>2</th>\n",
       "      <td>Renault Kwid</td>\n",
       "      <td>2016</td>\n",
       "      <td>RXT</td>\n",
       "      <td>Petrol</td>\n",
       "      <td>22388.0</td>\n",
       "      <td>Manual</td>\n",
       "      <td>1</td>\n",
       "      <td>DL</td>\n",
       "      <td>279799</td>\n",
       "      <td>Renault</td>\n",
       "      <td>6</td>\n",
       "    </tr>\n",
       "    <tr>\n",
       "      <th>3</th>\n",
       "      <td>Mercedes Benz C Class</td>\n",
       "      <td>2014</td>\n",
       "      <td>C 200 AVANTGARDE</td>\n",
       "      <td>Petrol</td>\n",
       "      <td>36806.0</td>\n",
       "      <td>Automatic</td>\n",
       "      <td>1</td>\n",
       "      <td>UP</td>\n",
       "      <td>2133299</td>\n",
       "      <td>Mercedes</td>\n",
       "      <td>8</td>\n",
       "    </tr>\n",
       "    <tr>\n",
       "      <th>4</th>\n",
       "      <td>KIA SELTOS</td>\n",
       "      <td>2020</td>\n",
       "      <td>HTX AT PETROL</td>\n",
       "      <td>Petrol</td>\n",
       "      <td>21784.0</td>\n",
       "      <td>Automatic</td>\n",
       "      <td>2</td>\n",
       "      <td>HR</td>\n",
       "      <td>1429999</td>\n",
       "      <td>KIA</td>\n",
       "      <td>2</td>\n",
       "    </tr>\n",
       "  </tbody>\n",
       "</table>\n",
       "</div>"
      ],
      "text/plain": [
       "                    Name  Manufacture                Model    Fuel   Driven  \\\n",
       "0          Hyundai Verna         2019      1.6 SX VTVT (O)  Petrol  80631.0   \n",
       "1             KIA SELTOS         2020  HTK PLUS 1.5 PETROL  Petrol  12981.0   \n",
       "2           Renault Kwid         2016                  RXT  Petrol  22388.0   \n",
       "3  Mercedes Benz C Class         2014     C 200 AVANTGARDE  Petrol  36806.0   \n",
       "4             KIA SELTOS         2020        HTX AT PETROL  Petrol  21784.0   \n",
       "\n",
       "   Automatic  Owner Location    Price     Brand  Years  \n",
       "0     Manual      1       HR   981699   Hyundai      3  \n",
       "1     Manual      2       HR  1155299       KIA      2  \n",
       "2     Manual      1       DL   279799   Renault      6  \n",
       "3  Automatic      1       UP  2133299  Mercedes      8  \n",
       "4  Automatic      2       HR  1429999       KIA      2  "
      ]
     },
     "execution_count": 565,
     "metadata": {},
     "output_type": "execute_result"
    }
   ],
   "source": [
    "data.head()"
   ]
  },
  {
   "cell_type": "code",
   "execution_count": 566,
   "id": "67064514",
   "metadata": {},
   "outputs": [],
   "source": [
    "data.drop(['Name','Model','Manufacture'], axis=1, inplace=True)"
   ]
  },
  {
   "cell_type": "code",
   "execution_count": 567,
   "id": "7f8ace50",
   "metadata": {},
   "outputs": [
    {
     "data": {
      "text/plain": [
       "<AxesSubplot:xlabel='Years', ylabel='Price'>"
      ]
     },
     "execution_count": 567,
     "metadata": {},
     "output_type": "execute_result"
    },
    {
     "data": {
      "image/png": "[encoded data removed]",
      "text/plain": [
       "<Figure size 432x288 with 1 Axes>"
      ]
     },
     "metadata": {
      "needs_background": "light"
     },
     "output_type": "display_data"
    }
   ],
   "source": [
    "sns.scatterplot(data['Years'], data['Price'], hue=data['Owner'])"
   ]
  },
  {
   "cell_type": "markdown",
   "id": "86bd63c2",
   "metadata": {},
   "source": [
    "More years old car possible many owners has been changed so Price is less"
   ]
  },
  {
   "cell_type": "code",
   "execution_count": 568,
   "id": "01b1e6fd",
   "metadata": {},
   "outputs": [
    {
     "data": {
      "text/plain": [
       "<AxesSubplot:xlabel='Years', ylabel='Price'>"
      ]
     },
     "execution_count": 568,
     "metadata": {},
     "output_type": "execute_result"
    },
    {
     "data": {
      "image/png": "[encoded data removed]",
      "text/plain": [
       "<Figure size 432x288 with 1 Axes>"
      ]
     },
     "metadata": {
      "needs_background": "light"
     },
     "output_type": "display_data"
    }
   ],
   "source": [
    "sns.scatterplot(data['Years'], data['Price'], hue=data['Automatic'])"
   ]
  },
  {
   "cell_type": "code",
   "execution_count": 569,
   "id": "62e67406",
   "metadata": {},
   "outputs": [
    {
     "ename": "SyntaxError",
     "evalue": "invalid syntax (<ipython-input-569-e2eb30f74b36>, line 1)",
     "output_type": "error",
     "traceback": [
      "\u001b[1;36m  File \u001b[1;32m\"<ipython-input-569-e2eb30f74b36>\"\u001b[1;36m, line \u001b[1;32m1\u001b[0m\n\u001b[1;33m    Many years back, Automation was not in trends, so we hardly see automation in old cars\u001b[0m\n\u001b[1;37m         ^\u001b[0m\n\u001b[1;31mSyntaxError\u001b[0m\u001b[1;31m:\u001b[0m invalid syntax\n"
     ]
    }
   ],
   "source": [
    "Many years back, Automation was not in trends, so we hardly see automation in old cars"
   ]
  },
  {
   "cell_type": "code",
   "execution_count": 570,
   "id": "9edfd0ae",
   "metadata": {},
   "outputs": [
    {
     "data": {
      "text/plain": [
       "<AxesSubplot:xlabel='Years', ylabel='Price'>"
      ]
     },
     "execution_count": 570,
     "metadata": {},
     "output_type": "execute_result"
    },
    {
     "data": {
      "image/png": "[encoded data removed]",
      "text/plain": [
       "<Figure size 432x288 with 1 Axes>"
      ]
     },
     "metadata": {
      "needs_background": "light"
     },
     "output_type": "display_data"
    }
   ],
   "source": [
    "sns.scatterplot(data['Years'], data['Price'], hue=data['Fuel'])"
   ]
  },
  {
   "cell_type": "code",
   "execution_count": null,
   "id": "0e996ff8",
   "metadata": {},
   "outputs": [],
   "source": []
  },
  {
   "cell_type": "code",
   "execution_count": 571,
   "id": "4280e6eb",
   "metadata": {},
   "outputs": [
    {
     "data": {
      "text/plain": [
       "<AxesSubplot:xlabel='Years', ylabel='Price'>"
      ]
     },
     "execution_count": 571,
     "metadata": {},
     "output_type": "execute_result"
    },
    {
     "data": {
      "image/png": "[encoded data removed]",
      "text/plain": [
       "<Figure size 432x288 with 1 Axes>"
      ]
     },
     "metadata": {
      "needs_background": "light"
     },
     "output_type": "display_data"
    }
   ],
   "source": [
    "sns.regplot(data['Years'],data['Price'])"
   ]
  },
  {
   "cell_type": "code",
   "execution_count": 572,
   "id": "469b1a7a",
   "metadata": {},
   "outputs": [
    {
     "data": {
      "text/plain": [
       "<AxesSubplot:xlabel='Driven', ylabel='Price'>"
      ]
     },
     "execution_count": 572,
     "metadata": {},
     "output_type": "execute_result"
    },
    {
     "data": {
      "image/png": "[encoded data removed]",
      "text/plain": [
       "<Figure size 432x288 with 1 Axes>"
      ]
     },
     "metadata": {
      "needs_background": "light"
     },
     "output_type": "display_data"
    }
   ],
   "source": [
    "sns.regplot(data['Driven'],data['Price'])"
   ]
  },
  {
   "cell_type": "code",
   "execution_count": 573,
   "id": "eb544037",
   "metadata": {},
   "outputs": [
    {
     "data": {
      "text/html": [
       "<div>\n",
       "<style scoped>\n",
       "    .dataframe tbody tr th:only-of-type {\n",
       "        vertical-align: middle;\n",
       "    }\n",
       "\n",
       "    .dataframe tbody tr th {\n",
       "        vertical-align: top;\n",
       "    }\n",
       "\n",
       "    .dataframe thead th {\n",
       "        text-align: right;\n",
       "    }\n",
       "</style>\n",
       "<table border=\"1\" class=\"dataframe\">\n",
       "  <thead>\n",
       "    <tr style=\"text-align: right;\">\n",
       "      <th></th>\n",
       "      <th>Fuel</th>\n",
       "      <th>Driven</th>\n",
       "      <th>Automatic</th>\n",
       "      <th>Owner</th>\n",
       "      <th>Location</th>\n",
       "      <th>Price</th>\n",
       "      <th>Brand</th>\n",
       "      <th>Years</th>\n",
       "    </tr>\n",
       "  </thead>\n",
       "  <tbody>\n",
       "    <tr>\n",
       "      <th>0</th>\n",
       "      <td>Petrol</td>\n",
       "      <td>80631.0</td>\n",
       "      <td>Manual</td>\n",
       "      <td>1</td>\n",
       "      <td>HR</td>\n",
       "      <td>981699</td>\n",
       "      <td>Hyundai</td>\n",
       "      <td>3</td>\n",
       "    </tr>\n",
       "    <tr>\n",
       "      <th>1</th>\n",
       "      <td>Petrol</td>\n",
       "      <td>12981.0</td>\n",
       "      <td>Manual</td>\n",
       "      <td>2</td>\n",
       "      <td>HR</td>\n",
       "      <td>1155299</td>\n",
       "      <td>KIA</td>\n",
       "      <td>2</td>\n",
       "    </tr>\n",
       "    <tr>\n",
       "      <th>2</th>\n",
       "      <td>Petrol</td>\n",
       "      <td>22388.0</td>\n",
       "      <td>Manual</td>\n",
       "      <td>1</td>\n",
       "      <td>DL</td>\n",
       "      <td>279799</td>\n",
       "      <td>Renault</td>\n",
       "      <td>6</td>\n",
       "    </tr>\n",
       "  </tbody>\n",
       "</table>\n",
       "</div>"
      ],
      "text/plain": [
       "     Fuel   Driven Automatic  Owner Location    Price    Brand  Years\n",
       "0  Petrol  80631.0    Manual      1       HR   981699  Hyundai      3\n",
       "1  Petrol  12981.0    Manual      2       HR  1155299      KIA      2\n",
       "2  Petrol  22388.0    Manual      1       DL   279799  Renault      6"
      ]
     },
     "execution_count": 573,
     "metadata": {},
     "output_type": "execute_result"
    }
   ],
   "source": [
    "data.head(3)"
   ]
  },
  {
   "cell_type": "raw",
   "id": "2d4ee6c1",
   "metadata": {},
   "source": [
    "## Split independent and  dependent features"
   ]
  },
  {
   "cell_type": "code",
   "execution_count": 574,
   "id": "c7a67e53",
   "metadata": {},
   "outputs": [],
   "source": [
    "X= data.drop('Price', axis=1)\n",
    "Y=data['Price']"
   ]
  },
  {
   "cell_type": "code",
   "execution_count": 575,
   "id": "61946008",
   "metadata": {},
   "outputs": [
    {
     "data": {
      "text/plain": [
       "((2409, 7), (2409,))"
      ]
     },
     "execution_count": 575,
     "metadata": {},
     "output_type": "execute_result"
    }
   ],
   "source": [
    "X.shape , Y.shape"
   ]
  },
  {
   "cell_type": "code",
   "execution_count": 576,
   "id": "4a6964d5",
   "metadata": {},
   "outputs": [
    {
     "data": {
      "text/html": [
       "<div>\n",
       "<style scoped>\n",
       "    .dataframe tbody tr th:only-of-type {\n",
       "        vertical-align: middle;\n",
       "    }\n",
       "\n",
       "    .dataframe tbody tr th {\n",
       "        vertical-align: top;\n",
       "    }\n",
       "\n",
       "    .dataframe thead th {\n",
       "        text-align: right;\n",
       "    }\n",
       "</style>\n",
       "<table border=\"1\" class=\"dataframe\">\n",
       "  <thead>\n",
       "    <tr style=\"text-align: right;\">\n",
       "      <th></th>\n",
       "      <th>Fuel</th>\n",
       "      <th>Driven</th>\n",
       "      <th>Automatic</th>\n",
       "      <th>Owner</th>\n",
       "      <th>Location</th>\n",
       "      <th>Brand</th>\n",
       "      <th>Years</th>\n",
       "    </tr>\n",
       "  </thead>\n",
       "  <tbody>\n",
       "    <tr>\n",
       "      <th>0</th>\n",
       "      <td>Petrol</td>\n",
       "      <td>80631.0</td>\n",
       "      <td>Manual</td>\n",
       "      <td>1</td>\n",
       "      <td>HR</td>\n",
       "      <td>Hyundai</td>\n",
       "      <td>3</td>\n",
       "    </tr>\n",
       "    <tr>\n",
       "      <th>1</th>\n",
       "      <td>Petrol</td>\n",
       "      <td>12981.0</td>\n",
       "      <td>Manual</td>\n",
       "      <td>2</td>\n",
       "      <td>HR</td>\n",
       "      <td>KIA</td>\n",
       "      <td>2</td>\n",
       "    </tr>\n",
       "    <tr>\n",
       "      <th>2</th>\n",
       "      <td>Petrol</td>\n",
       "      <td>22388.0</td>\n",
       "      <td>Manual</td>\n",
       "      <td>1</td>\n",
       "      <td>DL</td>\n",
       "      <td>Renault</td>\n",
       "      <td>6</td>\n",
       "    </tr>\n",
       "    <tr>\n",
       "      <th>3</th>\n",
       "      <td>Petrol</td>\n",
       "      <td>36806.0</td>\n",
       "      <td>Automatic</td>\n",
       "      <td>1</td>\n",
       "      <td>UP</td>\n",
       "      <td>Mercedes</td>\n",
       "      <td>8</td>\n",
       "    </tr>\n",
       "    <tr>\n",
       "      <th>4</th>\n",
       "      <td>Petrol</td>\n",
       "      <td>21784.0</td>\n",
       "      <td>Automatic</td>\n",
       "      <td>2</td>\n",
       "      <td>HR</td>\n",
       "      <td>KIA</td>\n",
       "      <td>2</td>\n",
       "    </tr>\n",
       "  </tbody>\n",
       "</table>\n",
       "</div>"
      ],
      "text/plain": [
       "     Fuel   Driven  Automatic  Owner Location     Brand  Years\n",
       "0  Petrol  80631.0     Manual      1       HR   Hyundai      3\n",
       "1  Petrol  12981.0     Manual      2       HR       KIA      2\n",
       "2  Petrol  22388.0     Manual      1       DL   Renault      6\n",
       "3  Petrol  36806.0  Automatic      1       UP  Mercedes      8\n",
       "4  Petrol  21784.0  Automatic      2       HR       KIA      2"
      ]
     },
     "execution_count": 576,
     "metadata": {},
     "output_type": "execute_result"
    }
   ],
   "source": [
    "X.head()"
   ]
  },
  {
   "cell_type": "markdown",
   "id": "ca810b89",
   "metadata": {},
   "source": [
    "# Outlier"
   ]
  },
  {
   "cell_type": "code",
   "execution_count": 577,
   "id": "8ed64855",
   "metadata": {},
   "outputs": [
    {
     "data": {
      "text/plain": [
       "<AxesSubplot:xlabel='Driven'>"
      ]
     },
     "execution_count": 577,
     "metadata": {},
     "output_type": "execute_result"
    },
    {
     "data": {
      "image/png": "[encoded data removed]",
      "text/plain": [
       "<Figure size 432x288 with 1 Axes>"
      ]
     },
     "metadata": {
      "needs_background": "light"
     },
     "output_type": "display_data"
    }
   ],
   "source": [
    "sns.boxplot(data['Driven'])"
   ]
  },
  {
   "cell_type": "code",
   "execution_count": 578,
   "id": "2f549a80",
   "metadata": {},
   "outputs": [
    {
     "data": {
      "text/plain": [
       "42203.0"
      ]
     },
     "execution_count": 578,
     "metadata": {},
     "output_type": "execute_result"
    }
   ],
   "source": [
    "IQR= X['Driven'].quantile(.75)- X['Driven'].quantile(.25)\n",
    "IQR"
   ]
  },
  {
   "cell_type": "code",
   "execution_count": 579,
   "id": "812e977f",
   "metadata": {},
   "outputs": [
    {
     "data": {
      "text/plain": [
       "133304.5"
      ]
     },
     "execution_count": 579,
     "metadata": {},
     "output_type": "execute_result"
    }
   ],
   "source": [
    "upper= X['Driven'].quantile(.75) +(1.5 * IQR)\n",
    "upper"
   ]
  },
  {
   "cell_type": "code",
   "execution_count": 580,
   "id": "4abd90f4",
   "metadata": {},
   "outputs": [],
   "source": [
    "X['Driven']=np.where(X['Driven']>upper,upper,X['Driven'])"
   ]
  },
  {
   "cell_type": "code",
   "execution_count": 581,
   "id": "5369d030",
   "metadata": {},
   "outputs": [
    {
     "data": {
      "text/plain": [
       "<AxesSubplot:xlabel='Driven'>"
      ]
     },
     "execution_count": 581,
     "metadata": {},
     "output_type": "execute_result"
    },
    {
     "data": {
      "image/png": "[encoded data removed]",
      "text/plain": [
       "<Figure size 432x288 with 1 Axes>"
      ]
     },
     "metadata": {
      "needs_background": "light"
     },
     "output_type": "display_data"
    }
   ],
   "source": [
    "sns.boxplot(X['Driven'])"
   ]
  },
  {
   "cell_type": "code",
   "execution_count": 582,
   "id": "9e4a489b",
   "metadata": {},
   "outputs": [
    {
     "data": {
      "text/plain": [
       "(2409,)"
      ]
     },
     "execution_count": 582,
     "metadata": {},
     "output_type": "execute_result"
    }
   ],
   "source": [
    "X['Driven'].shape"
   ]
  },
  {
   "cell_type": "code",
   "execution_count": 583,
   "id": "b0ac3663",
   "metadata": {},
   "outputs": [
    {
     "data": {
      "text/plain": [
       "[0       80631.0\n",
       " 1       12981.0\n",
       " 2       22388.0\n",
       " 3       36806.0\n",
       " 4       21784.0\n",
       "          ...   \n",
       " 2404     6462.0\n",
       " 2405    15441.0\n",
       " 2406    28208.0\n",
       " 2407     7581.0\n",
       " 2408    19317.0\n",
       " Name: Driven, Length: 2409, dtype: float64]"
      ]
     },
     "execution_count": 583,
     "metadata": {},
     "output_type": "execute_result"
    }
   ],
   "source": [
    "[X['Driven']]"
   ]
  },
  {
   "cell_type": "markdown",
   "id": "20a5cacb",
   "metadata": {},
   "source": [
    "# Encoding"
   ]
  },
  {
   "cell_type": "code",
   "execution_count": 596,
   "id": "a2b324b1",
   "metadata": {},
   "outputs": [
    {
     "data": {
      "text/plain": [
       "32"
      ]
     },
     "execution_count": 596,
     "metadata": {},
     "output_type": "execute_result"
    }
   ],
   "source": [
    "pd.get_dummies"
   ]
  },
  {
   "cell_type": "code",
   "execution_count": null,
   "id": "e4a15d37",
   "metadata": {},
   "outputs": [],
   "source": []
  },
  {
   "cell_type": "code",
   "execution_count": null,
   "id": "1ce77fb0",
   "metadata": {},
   "outputs": [],
   "source": []
  },
  {
   "cell_type": "code",
   "execution_count": 600,
   "id": "3dae73b6",
   "metadata": {},
   "outputs": [
    {
     "data": {
      "text/html": [
       "<div>\n",
       "<style scoped>\n",
       "    .dataframe tbody tr th:only-of-type {\n",
       "        vertical-align: middle;\n",
       "    }\n",
       "\n",
       "    .dataframe tbody tr th {\n",
       "        vertical-align: top;\n",
       "    }\n",
       "\n",
       "    .dataframe thead th {\n",
       "        text-align: right;\n",
       "    }\n",
       "</style>\n",
       "<table border=\"1\" class=\"dataframe\">\n",
       "  <thead>\n",
       "    <tr style=\"text-align: right;\">\n",
       "      <th></th>\n",
       "      <th>Fuel</th>\n",
       "      <th>Driven</th>\n",
       "      <th>Automatic</th>\n",
       "      <th>Owner</th>\n",
       "      <th>Location</th>\n",
       "      <th>Brand</th>\n",
       "      <th>Years</th>\n",
       "    </tr>\n",
       "  </thead>\n",
       "  <tbody>\n",
       "    <tr>\n",
       "      <th>0</th>\n",
       "      <td>Petrol</td>\n",
       "      <td>80631.0</td>\n",
       "      <td>Manual</td>\n",
       "      <td>1</td>\n",
       "      <td>HR</td>\n",
       "      <td>Hyundai</td>\n",
       "      <td>3</td>\n",
       "    </tr>\n",
       "    <tr>\n",
       "      <th>1</th>\n",
       "      <td>Petrol</td>\n",
       "      <td>12981.0</td>\n",
       "      <td>Manual</td>\n",
       "      <td>2</td>\n",
       "      <td>HR</td>\n",
       "      <td>KIA</td>\n",
       "      <td>2</td>\n",
       "    </tr>\n",
       "    <tr>\n",
       "      <th>2</th>\n",
       "      <td>Petrol</td>\n",
       "      <td>22388.0</td>\n",
       "      <td>Manual</td>\n",
       "      <td>1</td>\n",
       "      <td>DL</td>\n",
       "      <td>Renault</td>\n",
       "      <td>6</td>\n",
       "    </tr>\n",
       "    <tr>\n",
       "      <th>3</th>\n",
       "      <td>Petrol</td>\n",
       "      <td>36806.0</td>\n",
       "      <td>Automatic</td>\n",
       "      <td>1</td>\n",
       "      <td>UP</td>\n",
       "      <td>Mercedes</td>\n",
       "      <td>8</td>\n",
       "    </tr>\n",
       "    <tr>\n",
       "      <th>4</th>\n",
       "      <td>Petrol</td>\n",
       "      <td>21784.0</td>\n",
       "      <td>Automatic</td>\n",
       "      <td>2</td>\n",
       "      <td>HR</td>\n",
       "      <td>KIA</td>\n",
       "      <td>2</td>\n",
       "    </tr>\n",
       "  </tbody>\n",
       "</table>\n",
       "</div>"
      ],
      "text/plain": [
       "     Fuel   Driven  Automatic  Owner Location     Brand  Years\n",
       "0  Petrol  80631.0     Manual      1       HR   Hyundai      3\n",
       "1  Petrol  12981.0     Manual      2       HR       KIA      2\n",
       "2  Petrol  22388.0     Manual      1       DL   Renault      6\n",
       "3  Petrol  36806.0  Automatic      1       UP  Mercedes      8\n",
       "4  Petrol  21784.0  Automatic      2       HR       KIA      2"
      ]
     },
     "execution_count": 600,
     "metadata": {},
     "output_type": "execute_result"
    }
   ],
   "source": [
    "X.head()"
   ]
  },
  {
   "cell_type": "code",
   "execution_count": 589,
   "id": "a626dc75",
   "metadata": {},
   "outputs": [],
   "source": [
    "from sklearn.preprocessing import MinMaxScaler\n",
    "sc=MinMaxScaler()\n",
    "k=sc.fit_transform([X['Driven']])"
   ]
  },
  {
   "cell_type": "code",
   "execution_count": 599,
   "id": "18964883",
   "metadata": {},
   "outputs": [],
   "source": [
    "from sklearn.preprocessing import OneHotEncoder"
   ]
  },
  {
   "cell_type": "code",
   "execution_count": 603,
   "id": "dd59d113",
   "metadata": {},
   "outputs": [],
   "source": [
    "from sklearn.compose import ColumnTransformer\n",
    "transformer= ColumnTransformer(transformers=[('tnf1',StandardScaler(),['Driven','Years']),('tnf2',OneHotEncoder(sparse=False,drop='first'),['Fuel','Automatic','Location','Brand'])],remainder='passthrough')"
   ]
  },
  {
   "cell_type": "code",
   "execution_count": 607,
   "id": "e9ebd41c",
   "metadata": {},
   "outputs": [],
   "source": [
    "x=pd.DataFrame(transformer.fit_transform(X))"
   ]
  },
  {
   "cell_type": "code",
   "execution_count": 611,
   "id": "d321a05e",
   "metadata": {},
   "outputs": [
    {
     "data": {
      "text/plain": [
       "((2409, 62), (2409,))"
      ]
     },
     "execution_count": 611,
     "metadata": {},
     "output_type": "execute_result"
    }
   ],
   "source": [
    "x.shape  , Y.shape"
   ]
  },
  {
   "cell_type": "code",
   "execution_count": null,
   "id": "1759a8e7",
   "metadata": {},
   "outputs": [],
   "source": []
  },
  {
   "cell_type": "code",
   "execution_count": null,
   "id": "42e02554",
   "metadata": {},
   "outputs": [],
   "source": []
  },
  {
   "cell_type": "code",
   "execution_count": null,
   "id": "be97a5a4",
   "metadata": {},
   "outputs": [],
   "source": []
  },
  {
   "cell_type": "markdown",
   "id": "eee00bd3",
   "metadata": {},
   "source": [
    "# Machine Learning"
   ]
  },
  {
   "cell_type": "code",
   "execution_count": 609,
   "id": "cb0ca67d",
   "metadata": {},
   "outputs": [],
   "source": [
    "from sklearn.model_selection import train_test_split\n",
    "from sklearn.linear_model import LinearRegression\n",
    "from sklearn.metrics import r2_score,mean_absolute_error,mean_squared_error"
   ]
  },
  {
   "cell_type": "code",
   "execution_count": 610,
   "id": "b7231749",
   "metadata": {},
   "outputs": [],
   "source": [
    "LR= LinearRegression()"
   ]
  },
  {
   "cell_type": "code",
   "execution_count": 614,
   "id": "b1e7471e",
   "metadata": {},
   "outputs": [
    {
     "name": "stdout",
     "output_type": "stream",
     "text": [
      "Best accuracy is  0.7333183508421615 on Random State = 93\n"
     ]
    }
   ],
   "source": [
    "# FInd best Random_state\n",
    "\n",
    "maxaccu=0\n",
    "maxRS=0\n",
    "\n",
    "for i in range(0,200):\n",
    "    x_train,x_test,y_train,y_test= train_test_split(x,Y,random_state=i,test_size=.20)\n",
    "    LR= LinearRegression()\n",
    "    LR.fit(x_train,y_train)\n",
    "    pred= LR.predict(x_test)\n",
    "    acc=r2_score(y_test,pred)\n",
    "    if acc>maxaccu:\n",
    "        maxaccu=acc\n",
    "        maxRS=i\n",
    "print(\"Best accuracy is \",maxaccu,\"on Random State =\",maxRS)"
   ]
  },
  {
   "cell_type": "code",
   "execution_count": 615,
   "id": "c5b09540",
   "metadata": {},
   "outputs": [
    {
     "data": {
      "text/plain": [
       "LinearRegression()"
      ]
     },
     "execution_count": 615,
     "metadata": {},
     "output_type": "execute_result"
    }
   ],
   "source": [
    "x_train,x_test,y_train,y_test= train_test_split(x,Y,random_state=93,test_size=.3)\n",
    "LR.fit(x_train,y_train)"
   ]
  },
  {
   "cell_type": "code",
   "execution_count": 616,
   "id": "806834c6",
   "metadata": {},
   "outputs": [],
   "source": [
    "from sklearn.linear_model import LinearRegression\n",
    "from sklearn.linear_model import Ridge, Lasso\n",
    "from sklearn.tree import DecisionTreeRegressor\n",
    "from sklearn.svm import SVR\n",
    "from sklearn.neighbors import KNeighborsRegressor\n",
    "from sklearn.ensemble import RandomForestRegressor\n",
    "from xgboost import XGBRegressor\n",
    "from sklearn.linear_model import ElasticNet\n",
    "from sklearn.linear_model import SGDRegressor\n",
    "from sklearn.ensemble import BaggingRegressor\n",
    "from sklearn.ensemble import AdaBoostRegressor\n",
    "from sklearn.ensemble import GradientBoostingRegressor"
   ]
  },
  {
   "cell_type": "code",
   "execution_count": 617,
   "id": "ea117540",
   "metadata": {},
   "outputs": [],
   "source": [
    "LR_model= LinearRegression()\n",
    "RD_model= Ridge()\n",
    "LS_model= Lasso()\n",
    "DT_model= DecisionTreeRegressor()\n",
    "SV_model= SVR()\n",
    "KNR_model= KNeighborsRegressor()\n",
    "RFR_model= RandomForestRegressor()\n",
    "XGB_model= XGBRegressor()\n",
    "Elastic_model= ElasticNet()\n",
    "SGH_model= SGDRegressor()\n",
    "Bag_model=BaggingRegressor()\n",
    "ADA_model=AdaBoostRegressor()\n",
    "GB_model= GradientBoostingRegressor()\n",
    "\n",
    "model=[LR_model,RD_model,LS_model,DT_model,SV_model,KNR_model,RFR_model,XGB_model,Elastic_model,SGH_model,Bag_model,ADA_model,GB_model ]"
   ]
  },
  {
   "cell_type": "code",
   "execution_count": 623,
   "id": "5a8404b0",
   "metadata": {},
   "outputs": [
    {
     "name": "stdout",
     "output_type": "stream",
     "text": [
      "mean_absolute_error of  LinearRegression() model 8.828208742411971e+16\n",
      "Root mean_square_error of LinearRegression() model 1.678520865528796e+18\n",
      "R2 Score of LinearRegression() model -2.047778590990217e+27\n",
      "XXXXXXXXXXXXXXXXXXXXXXXXXXXXXXXXXXXXXXXXXXXXXXXXXX \n",
      "\n",
      "\n",
      "mean_absolute_error of  Ridge() model 162611.25018360082\n",
      "Root mean_square_error of Ridge() model 244456.35434255\n",
      "R2 Score of Ridge() model 56.56576556972763\n",
      "XXXXXXXXXXXXXXXXXXXXXXXXXXXXXXXXXXXXXXXXXXXXXXXXXX \n",
      "\n",
      "\n",
      "mean_absolute_error of  Lasso() model 159113.96511569273\n",
      "Root mean_square_error of Lasso() model 246054.05010688494\n",
      "R2 Score of Lasso() model 55.99616316077911\n",
      "XXXXXXXXXXXXXXXXXXXXXXXXXXXXXXXXXXXXXXXXXXXXXXXXXX \n",
      "\n",
      "\n",
      "mean_absolute_error of  DecisionTreeRegressor() model 172948.21161825725\n",
      "Root mean_square_error of DecisionTreeRegressor() model 270705.6550524605\n",
      "R2 Score of DecisionTreeRegressor() model 46.73717879513583\n",
      "XXXXXXXXXXXXXXXXXXXXXXXXXXXXXXXXXXXXXXXXXXXXXXXXXX \n",
      "\n",
      "\n",
      "mean_absolute_error of  SVR() model 249096.84383214245\n",
      "Root mean_square_error of SVR() model 379961.8093661989\n",
      "R2 Score of SVR() model -4.932351138479185\n",
      "XXXXXXXXXXXXXXXXXXXXXXXXXXXXXXXXXXXXXXXXXXXXXXXXXX \n",
      "\n",
      "\n",
      "mean_absolute_error of  KNeighborsRegressor() model 151441.15850622405\n",
      "Root mean_square_error of KNeighborsRegressor() model 224203.60939384365\n",
      "R2 Score of KNeighborsRegressor() model 63.464529082584086\n",
      "XXXXXXXXXXXXXXXXXXXXXXXXXXXXXXXXXXXXXXXXXXXXXXXXXX \n",
      "\n",
      "\n",
      "mean_absolute_error of  RandomForestRegressor() model 137997.81991701247\n",
      "Root mean_square_error of RandomForestRegressor() model 221392.5801104105\n",
      "R2 Score of RandomForestRegressor() model 64.37493767476684\n",
      "XXXXXXXXXXXXXXXXXXXXXXXXXXXXXXXXXXXXXXXXXXXXXXXXXX \n",
      "\n",
      "\n",
      "mean_absolute_error of  XGBRegressor(base_score=0.5, booster='gbtree', colsample_bylevel=1,\n",
      "             colsample_bynode=1, colsample_bytree=1, enable_categorical=False,\n",
      "             gamma=0, gpu_id=-1, importance_type=None,\n",
      "             interaction_constraints='', learning_rate=0.300000012,\n",
      "             max_delta_step=0, max_depth=6, min_child_weight=1, missing=nan,\n",
      "             monotone_constraints='()', n_estimators=100, n_jobs=4,\n",
      "             num_parallel_tree=1, predictor='auto', random_state=0, reg_alpha=0,\n",
      "             reg_lambda=1, scale_pos_weight=1, subsample=1, tree_method='exact',\n",
      "             validate_parameters=1, verbosity=None) model 129935.79507045298\n",
      "Root mean_square_error of XGBRegressor(base_score=0.5, booster='gbtree', colsample_bylevel=1,\n",
      "             colsample_bynode=1, colsample_bytree=1, enable_categorical=False,\n",
      "             gamma=0, gpu_id=-1, importance_type=None,\n",
      "             interaction_constraints='', learning_rate=0.300000012,\n",
      "             max_delta_step=0, max_depth=6, min_child_weight=1, missing=nan,\n",
      "             monotone_constraints='()', n_estimators=100, n_jobs=4,\n",
      "             num_parallel_tree=1, predictor='auto', random_state=0, reg_alpha=0,\n",
      "             reg_lambda=1, scale_pos_weight=1, subsample=1, tree_method='exact',\n",
      "             validate_parameters=1, verbosity=None) model 199582.23102140517\n",
      "R2 Score of XGBRegressor(base_score=0.5, booster='gbtree', colsample_bylevel=1,\n",
      "             colsample_bynode=1, colsample_bytree=1, enable_categorical=False,\n",
      "             gamma=0, gpu_id=-1, importance_type=None,\n",
      "             interaction_constraints='', learning_rate=0.300000012,\n",
      "             max_delta_step=0, max_depth=6, min_child_weight=1, missing=nan,\n",
      "             monotone_constraints='()', n_estimators=100, n_jobs=4,\n",
      "             num_parallel_tree=1, predictor='auto', random_state=0, reg_alpha=0,\n",
      "             reg_lambda=1, scale_pos_weight=1, subsample=1, tree_method='exact',\n",
      "             validate_parameters=1, verbosity=None) model 71.04835427367422\n",
      "XXXXXXXXXXXXXXXXXXXXXXXXXXXXXXXXXXXXXXXXXXXXXXXXXX \n",
      "\n",
      "\n",
      "mean_absolute_error of  ElasticNet() model 194296.75578755455\n",
      "Root mean_square_error of ElasticNet() model 289643.19733454764\n",
      "R2 Score of ElasticNet() model 39.024386926494216\n",
      "XXXXXXXXXXXXXXXXXXXXXXXXXXXXXXXXXXXXXXXXXXXXXXXXXX \n",
      "\n",
      "\n",
      "mean_absolute_error of  SGDRegressor() model 165247.26380474234\n",
      "Root mean_square_error of SGDRegressor() model 249245.64885513845\n",
      "R2 Score of SGDRegressor() model 54.847200646479145\n",
      "XXXXXXXXXXXXXXXXXXXXXXXXXXXXXXXXXXXXXXXXXXXXXXXXXX \n",
      "\n",
      "\n",
      "mean_absolute_error of  BaggingRegressor() model 141777.67455048408\n",
      "Root mean_square_error of BaggingRegressor() model 226707.50250608008\n",
      "R2 Score of BaggingRegressor() model 62.64392016336136\n",
      "XXXXXXXXXXXXXXXXXXXXXXXXXXXXXXXXXXXXXXXXXXXXXXXXXX \n",
      "\n",
      "\n",
      "mean_absolute_error of  AdaBoostRegressor() model 450564.7078345731\n",
      "Root mean_square_error of AdaBoostRegressor() model 502097.16886841325\n",
      "R2 Score of AdaBoostRegressor() model -83.23357489670305\n",
      "XXXXXXXXXXXXXXXXXXXXXXXXXXXXXXXXXXXXXXXXXXXXXXXXXX \n",
      "\n",
      "\n",
      "mean_absolute_error of  GradientBoostingRegressor() model 136086.37426294867\n",
      "Root mean_square_error of GradientBoostingRegressor() model 196887.40307651323\n",
      "R2 Score of GradientBoostingRegressor() model 71.82490616524791\n",
      "XXXXXXXXXXXXXXXXXXXXXXXXXXXXXXXXXXXXXXXXXXXXXXXXXX \n",
      "\n",
      "\n"
     ]
    }
   ],
   "source": [
    "for m in model:\n",
    "    m.fit(x_train,y_train)\n",
    "    print('mean_absolute_error of ',m ,'model', mean_absolute_error(y_test,m.predict(x_test)))\n",
    "    print('Root mean_square_error of',m,'model' , np.sqrt(mean_squared_error(y_test,m.predict(x_test))))\n",
    "    print('R2 Score of',m,'model', r2_score(y_test,m.predict(x_test) )*100)\n",
    "    print('X' * 50, '\\n\\n')"
   ]
  },
  {
   "cell_type": "code",
   "execution_count": 621,
   "id": "7428747e",
   "metadata": {},
   "outputs": [
    {
     "data": {
      "text/plain": [
       "3.0"
      ]
     },
     "execution_count": 621,
     "metadata": {},
     "output_type": "execute_result"
    }
   ],
   "source": [
    "np.sqrt(9)"
   ]
  },
  {
   "cell_type": "markdown",
   "id": "77a60a93",
   "metadata": {},
   "source": [
    "# cross Validation"
   ]
  },
  {
   "cell_type": "code",
   "execution_count": 625,
   "id": "9711fffb",
   "metadata": {},
   "outputs": [],
   "source": [
    "from sklearn.model_selection import cross_val_score"
   ]
  },
  {
   "cell_type": "code",
   "execution_count": 626,
   "id": "b5266a26",
   "metadata": {},
   "outputs": [
    {
     "name": "stdout",
     "output_type": "stream",
     "text": [
      "Root mean_square of  LinearRegression() model 1.678520865528796e+18\n",
      "cross Validation score of root mean square  LinearRegression()  is  2.2343292905940906e+17\n",
      "**************************************************\n",
      "Root mean_square of  Ridge() model 244456.35434255\n",
      "cross Validation score of root mean square  Ridge()  is  407338.74562016776\n",
      "**************************************************\n",
      "Root mean_square of  Lasso() model 246054.05010688494\n",
      "cross Validation score of root mean square  Lasso()  is  402991.8751841141\n",
      "**************************************************\n",
      "Root mean_square of  DecisionTreeRegressor() model 270705.6550524605\n",
      "cross Validation score of root mean square  DecisionTreeRegressor()  is  463175.37349765317\n",
      "**************************************************\n",
      "Root mean_square of  SVR() model 379961.8093661989\n",
      "cross Validation score of root mean square  SVR()  is  535028.3040851115\n",
      "**************************************************\n",
      "Root mean_square of  KNeighborsRegressor() model 224203.60939384365\n",
      "cross Validation score of root mean square  KNeighborsRegressor()  is  431793.25910163345\n",
      "**************************************************\n",
      "Root mean_square of  RandomForestRegressor() model 221392.5801104105\n",
      "cross Validation score of root mean square  RandomForestRegressor()  is  419586.4428869164\n",
      "**************************************************\n",
      "Root mean_square of  XGBRegressor(base_score=0.5, booster='gbtree', colsample_bylevel=1,\n",
      "             colsample_bynode=1, colsample_bytree=1, enable_categorical=False,\n",
      "             gamma=0, gpu_id=-1, importance_type=None,\n",
      "             interaction_constraints='', learning_rate=0.300000012,\n",
      "             max_delta_step=0, max_depth=6, min_child_weight=1, missing=nan,\n",
      "             monotone_constraints='()', n_estimators=100, n_jobs=4,\n",
      "             num_parallel_tree=1, predictor='auto', random_state=0, reg_alpha=0,\n",
      "             reg_lambda=1, scale_pos_weight=1, subsample=1, tree_method='exact',\n",
      "             validate_parameters=1, verbosity=None) model 199582.23102140517\n",
      "cross Validation score of root mean square  XGBRegressor(base_score=0.5, booster='gbtree', colsample_bylevel=1,\n",
      "             colsample_bynode=1, colsample_bytree=1, enable_categorical=False,\n",
      "             gamma=0, gpu_id=-1, importance_type=None,\n",
      "             interaction_constraints='', learning_rate=0.300000012,\n",
      "             max_delta_step=0, max_depth=6, min_child_weight=1, missing=nan,\n",
      "             monotone_constraints='()', n_estimators=100, n_jobs=4,\n",
      "             num_parallel_tree=1, predictor='auto', random_state=0, reg_alpha=0,\n",
      "             reg_lambda=1, scale_pos_weight=1, subsample=1, tree_method='exact',\n",
      "             validate_parameters=1, verbosity=None)  is  428830.49015614885\n",
      "**************************************************\n",
      "Root mean_square of  ElasticNet() model 289643.19733454764\n",
      "cross Validation score of root mean square  ElasticNet()  is  469664.3784973723\n",
      "**************************************************\n",
      "Root mean_square of  SGDRegressor() model 249245.64885513845\n",
      "cross Validation score of root mean square  SGDRegressor()  is  414512.3936350398\n",
      "**************************************************\n",
      "Root mean_square of  BaggingRegressor() model 226707.50250608008\n",
      "cross Validation score of root mean square  BaggingRegressor()  is  425718.95040128863\n",
      "**************************************************\n",
      "Root mean_square of  AdaBoostRegressor() model 502097.16886841325\n",
      "cross Validation score of root mean square  AdaBoostRegressor()  is  559963.9242077202\n",
      "**************************************************\n",
      "Root mean_square of  GradientBoostingRegressor() model 196887.40307651323\n",
      "cross Validation score of root mean square  GradientBoostingRegressor()  is  416702.49688342155\n",
      "**************************************************\n"
     ]
    }
   ],
   "source": [
    "from sklearn.model_selection import cross_val_score\n",
    "for i in model:\n",
    "    print('Root mean_square of ',i, 'model',np.sqrt(mean_squared_error(y_test,i.predict(x_test))))\n",
    "    score=cross_val_score(i,x,Y,cv=10, scoring='neg_mean_squared_error').mean()\n",
    "    print(\"cross Validation score of root mean square \",i ,\" is \",np.sqrt(-score))\n",
    "    print('*'*50)"
   ]
  },
  {
   "cell_type": "markdown",
   "id": "98819ebd",
   "metadata": {},
   "source": [
    "# Random Forest Regressor"
   ]
  },
  {
   "cell_type": "code",
   "execution_count": 627,
   "id": "23fd198b",
   "metadata": {},
   "outputs": [],
   "source": [
    "from sklearn.model_selection import RandomizedSearchCV\n",
    "from sklearn.ensemble import RandomForestRegressor"
   ]
  },
  {
   "cell_type": "code",
   "execution_count": 628,
   "id": "9cc935bf",
   "metadata": {},
   "outputs": [],
   "source": [
    "# Number of trees in random forest\n",
    "n_estimators = [int(x) for x in np.linspace(start = 100, stop = 1200, num = 12)]\n",
    "# Number of features to consider at every split\n",
    "max_features = ['auto', 'sqrt']\n",
    "# Maximum number of levels in tree\n",
    "max_depth = [int(x) for x in np.linspace(5, 30, num = 6)]\n",
    "# max_depth.append(None)\n",
    "# Minimum number of samples required to split a node\n",
    "min_samples_split = [2, 5, 10, 15, 100]\n",
    "# Minimum number of samples required at each leaf node\n",
    "min_samples_leaf = [1, 2, 5, 10]"
   ]
  },
  {
   "cell_type": "code",
   "execution_count": 629,
   "id": "f2a50398",
   "metadata": {},
   "outputs": [],
   "source": [
    "rf=RandomForestRegressor()"
   ]
  },
  {
   "cell_type": "code",
   "execution_count": 630,
   "id": "5d955dbf",
   "metadata": {},
   "outputs": [],
   "source": [
    "random_grid = {'n_estimators': n_estimators,\n",
    "               'max_features': max_features,\n",
    "               'max_depth': max_depth,\n",
    "               'min_samples_split': min_samples_split,\n",
    "               'min_samples_leaf': min_samples_leaf}"
   ]
  },
  {
   "cell_type": "code",
   "execution_count": 631,
   "id": "f312c1ca",
   "metadata": {},
   "outputs": [],
   "source": [
    "rf_random = RandomizedSearchCV(estimator = rf, param_distributions = random_grid,scoring='neg_mean_squared_error', n_iter = 10, cv = 5, verbose=2, random_state=42, n_jobs = 1)"
   ]
  },
  {
   "cell_type": "code",
   "execution_count": 632,
   "id": "ea97a176",
   "metadata": {},
   "outputs": [
    {
     "name": "stdout",
     "output_type": "stream",
     "text": [
      "Fitting 5 folds for each of 10 candidates, totalling 50 fits\n",
      "[CV] END max_depth=10, max_features=sqrt, min_samples_leaf=5, min_samples_split=5, n_estimators=900; total time=   1.2s\n",
      "[CV] END max_depth=10, max_features=sqrt, min_samples_leaf=5, min_samples_split=5, n_estimators=900; total time=   1.2s\n",
      "[CV] END max_depth=10, max_features=sqrt, min_samples_leaf=5, min_samples_split=5, n_estimators=900; total time=   1.3s\n",
      "[CV] END max_depth=10, max_features=sqrt, min_samples_leaf=5, min_samples_split=5, n_estimators=900; total time=   1.3s\n",
      "[CV] END max_depth=10, max_features=sqrt, min_samples_leaf=5, min_samples_split=5, n_estimators=900; total time=   1.2s\n",
      "[CV] END max_depth=15, max_features=sqrt, min_samples_leaf=2, min_samples_split=10, n_estimators=1100; total time=   1.7s\n",
      "[CV] END max_depth=15, max_features=sqrt, min_samples_leaf=2, min_samples_split=10, n_estimators=1100; total time=   2.1s\n",
      "[CV] END max_depth=15, max_features=sqrt, min_samples_leaf=2, min_samples_split=10, n_estimators=1100; total time=   2.3s\n",
      "[CV] END max_depth=15, max_features=sqrt, min_samples_leaf=2, min_samples_split=10, n_estimators=1100; total time=   2.0s\n",
      "[CV] END max_depth=15, max_features=sqrt, min_samples_leaf=2, min_samples_split=10, n_estimators=1100; total time=   1.6s\n",
      "[CV] END max_depth=15, max_features=auto, min_samples_leaf=5, min_samples_split=100, n_estimators=300; total time=   0.8s\n",
      "[CV] END max_depth=15, max_features=auto, min_samples_leaf=5, min_samples_split=100, n_estimators=300; total time=   0.8s\n",
      "[CV] END max_depth=15, max_features=auto, min_samples_leaf=5, min_samples_split=100, n_estimators=300; total time=   0.8s\n",
      "[CV] END max_depth=15, max_features=auto, min_samples_leaf=5, min_samples_split=100, n_estimators=300; total time=   0.7s\n",
      "[CV] END max_depth=15, max_features=auto, min_samples_leaf=5, min_samples_split=100, n_estimators=300; total time=   0.7s\n",
      "[CV] END max_depth=15, max_features=auto, min_samples_leaf=5, min_samples_split=5, n_estimators=400; total time=   1.3s\n",
      "[CV] END max_depth=15, max_features=auto, min_samples_leaf=5, min_samples_split=5, n_estimators=400; total time=   1.3s\n",
      "[CV] END max_depth=15, max_features=auto, min_samples_leaf=5, min_samples_split=5, n_estimators=400; total time=   1.4s\n",
      "[CV] END max_depth=15, max_features=auto, min_samples_leaf=5, min_samples_split=5, n_estimators=400; total time=   1.3s\n",
      "[CV] END max_depth=15, max_features=auto, min_samples_leaf=5, min_samples_split=5, n_estimators=400; total time=   1.3s\n",
      "[CV] END max_depth=20, max_features=auto, min_samples_leaf=10, min_samples_split=5, n_estimators=700; total time=   2.1s\n",
      "[CV] END max_depth=20, max_features=auto, min_samples_leaf=10, min_samples_split=5, n_estimators=700; total time=   2.0s\n",
      "[CV] END max_depth=20, max_features=auto, min_samples_leaf=10, min_samples_split=5, n_estimators=700; total time=   2.0s\n",
      "[CV] END max_depth=20, max_features=auto, min_samples_leaf=10, min_samples_split=5, n_estimators=700; total time=   1.9s\n",
      "[CV] END max_depth=20, max_features=auto, min_samples_leaf=10, min_samples_split=5, n_estimators=700; total time=   2.0s\n",
      "[CV] END max_depth=25, max_features=sqrt, min_samples_leaf=1, min_samples_split=2, n_estimators=1000; total time=   2.4s\n",
      "[CV] END max_depth=25, max_features=sqrt, min_samples_leaf=1, min_samples_split=2, n_estimators=1000; total time=   2.4s\n",
      "[CV] END max_depth=25, max_features=sqrt, min_samples_leaf=1, min_samples_split=2, n_estimators=1000; total time=   2.4s\n",
      "[CV] END max_depth=25, max_features=sqrt, min_samples_leaf=1, min_samples_split=2, n_estimators=1000; total time=   2.4s\n",
      "[CV] END max_depth=25, max_features=sqrt, min_samples_leaf=1, min_samples_split=2, n_estimators=1000; total time=   2.5s\n",
      "[CV] END max_depth=5, max_features=sqrt, min_samples_leaf=10, min_samples_split=15, n_estimators=1100; total time=   1.3s\n",
      "[CV] END max_depth=5, max_features=sqrt, min_samples_leaf=10, min_samples_split=15, n_estimators=1100; total time=   1.3s\n",
      "[CV] END max_depth=5, max_features=sqrt, min_samples_leaf=10, min_samples_split=15, n_estimators=1100; total time=   1.3s\n",
      "[CV] END max_depth=5, max_features=sqrt, min_samples_leaf=10, min_samples_split=15, n_estimators=1100; total time=   1.3s\n",
      "[CV] END max_depth=5, max_features=sqrt, min_samples_leaf=10, min_samples_split=15, n_estimators=1100; total time=   1.3s\n",
      "[CV] END max_depth=15, max_features=sqrt, min_samples_leaf=1, min_samples_split=15, n_estimators=300; total time=   0.4s\n",
      "[CV] END max_depth=15, max_features=sqrt, min_samples_leaf=1, min_samples_split=15, n_estimators=300; total time=   0.4s\n",
      "[CV] END max_depth=15, max_features=sqrt, min_samples_leaf=1, min_samples_split=15, n_estimators=300; total time=   0.4s\n",
      "[CV] END max_depth=15, max_features=sqrt, min_samples_leaf=1, min_samples_split=15, n_estimators=300; total time=   0.4s\n",
      "[CV] END max_depth=15, max_features=sqrt, min_samples_leaf=1, min_samples_split=15, n_estimators=300; total time=   0.4s\n",
      "[CV] END max_depth=5, max_features=sqrt, min_samples_leaf=2, min_samples_split=10, n_estimators=700; total time=   0.8s\n",
      "[CV] END max_depth=5, max_features=sqrt, min_samples_leaf=2, min_samples_split=10, n_estimators=700; total time=   0.8s\n",
      "[CV] END max_depth=5, max_features=sqrt, min_samples_leaf=2, min_samples_split=10, n_estimators=700; total time=   0.8s\n",
      "[CV] END max_depth=5, max_features=sqrt, min_samples_leaf=2, min_samples_split=10, n_estimators=700; total time=   0.8s\n",
      "[CV] END max_depth=5, max_features=sqrt, min_samples_leaf=2, min_samples_split=10, n_estimators=700; total time=   0.8s\n",
      "[CV] END max_depth=20, max_features=auto, min_samples_leaf=1, min_samples_split=15, n_estimators=700; total time=   2.9s\n",
      "[CV] END max_depth=20, max_features=auto, min_samples_leaf=1, min_samples_split=15, n_estimators=700; total time=   2.8s\n",
      "[CV] END max_depth=20, max_features=auto, min_samples_leaf=1, min_samples_split=15, n_estimators=700; total time=   3.1s\n",
      "[CV] END max_depth=20, max_features=auto, min_samples_leaf=1, min_samples_split=15, n_estimators=700; total time=   3.0s\n",
      "[CV] END max_depth=20, max_features=auto, min_samples_leaf=1, min_samples_split=15, n_estimators=700; total time=   3.1s\n"
     ]
    },
    {
     "data": {
      "text/plain": [
       "RandomizedSearchCV(cv=5, estimator=RandomForestRegressor(), n_jobs=1,\n",
       "                   param_distributions={'max_depth': [5, 10, 15, 20, 25, 30],\n",
       "                                        'max_features': ['auto', 'sqrt'],\n",
       "                                        'min_samples_leaf': [1, 2, 5, 10],\n",
       "                                        'min_samples_split': [2, 5, 10, 15,\n",
       "                                                              100],\n",
       "                                        'n_estimators': [100, 200, 300, 400,\n",
       "                                                         500, 600, 700, 800,\n",
       "                                                         900, 1000, 1100,\n",
       "                                                         1200]},\n",
       "                   random_state=42, scoring='neg_mean_squared_error',\n",
       "                   verbose=2)"
      ]
     },
     "execution_count": 632,
     "metadata": {},
     "output_type": "execute_result"
    }
   ],
   "source": [
    "rf_random.fit(x_train,y_train)"
   ]
  },
  {
   "cell_type": "code",
   "execution_count": 633,
   "id": "fab8bcbc",
   "metadata": {},
   "outputs": [
    {
     "data": {
      "text/plain": [
       "-198363974935.12326"
      ]
     },
     "execution_count": 633,
     "metadata": {},
     "output_type": "execute_result"
    }
   ],
   "source": [
    "rf_random.best_score_\n"
   ]
  },
  {
   "cell_type": "code",
   "execution_count": 635,
   "id": "16831638",
   "metadata": {},
   "outputs": [
    {
     "name": "stdout",
     "output_type": "stream",
     "text": [
      "MAE: 139518.6675903816\n",
      "MSE: 45423377363.27857\n",
      "RMSE: 213127.6081676857\n"
     ]
    }
   ],
   "source": [
    "from sklearn import metrics\n",
    "predictions=rf_random.predict(x_test)\n",
    "print('MAE:', metrics.mean_absolute_error(y_test, predictions))\n",
    "print('MSE:', metrics.mean_squared_error(y_test, predictions))\n",
    "print('RMSE:', np.sqrt(metrics.mean_squared_error(y_test, predictions)))"
   ]
  },
  {
   "cell_type": "code",
   "execution_count": 639,
   "id": "08e1bb35",
   "metadata": {},
   "outputs": [
    {
     "data": {
      "text/plain": [
       "Text(0, 0.5, 'Prediction--->')"
      ]
     },
     "execution_count": 639,
     "metadata": {},
     "output_type": "execute_result"
    },
    {
     "data": {
      "image/png": "[encoded data removed]",
      "text/plain": [
       "<Figure size 432x288 with 1 Axes>"
      ]
     },
     "metadata": {
      "needs_background": "light"
     },
     "output_type": "display_data"
    }
   ],
   "source": [
    "plt.scatter(y_test,predictions)\n",
    "x=[0,25]\n",
    "Y=[0,25]\n",
    "plt.plot(x,Y,color=\"r\")\n",
    "plt.xlabel(\"Actual--->\")\n",
    "plt.ylabel(\"Prediction--->\")"
   ]
  },
  {
   "cell_type": "markdown",
   "id": "2b4b3e6a",
   "metadata": {},
   "source": [
    "# Saving a Model"
   ]
  },
  {
   "cell_type": "code",
   "execution_count": 640,
   "id": "04610db7",
   "metadata": {},
   "outputs": [
    {
     "data": {
      "text/plain": [
       "['car_price_prediction.pkl']"
      ]
     },
     "execution_count": 640,
     "metadata": {},
     "output_type": "execute_result"
    }
   ],
   "source": [
    "import joblib\n",
    "joblib.dump(rf_random.best_estimator_,\"car_price_prediction.pkl\")"
   ]
  },
  {
   "cell_type": "markdown",
   "id": "8290afc9",
   "metadata": {},
   "source": [
    "# Dataset we used"
   ]
  },
  {
   "cell_type": "code",
   "execution_count": 642,
   "id": "7cd9920a",
   "metadata": {},
   "outputs": [],
   "source": [
    "file='car_data.csv'\n",
    "data.to_csv(file)"
   ]
  },
  {
   "cell_type": "code",
   "execution_count": null,
   "id": "20e54729",
   "metadata": {},
   "outputs": [],
   "source": []
  }
 ],
 "metadata": {
  "kernelspec": {
   "display_name": "Python 3",
   "language": "python",
   "name": "python3"
  },
  "language_info": {
   "codemirror_mode": {
    "name": "ipython",
    "version": 3
   },
   "file_extension": ".py",
   "mimetype": "text/x-python",
   "name": "python",
   "nbconvert_exporter": "python",
   "pygments_lexer": "ipython3",
   "version": "3.8.8"
  }
 },
 "nbformat": 4,
 "nbformat_minor": 5
}
